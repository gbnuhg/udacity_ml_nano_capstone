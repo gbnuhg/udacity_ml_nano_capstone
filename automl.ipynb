{
  "cells": [
    {
      "cell_type": "markdown",
      "source": [
        "# Automated ML\n",
        "\n",
        "TODO: Import Dependencies. In the cell below, import all the dependencies that you will need to complete the project."
      ],
      "metadata": {}
    },
    {
      "cell_type": "code",
      "source": [
        "from azureml.core import Workspace, Experiment\n",
        "from azureml.core.compute import ComputeTarget, AmlCompute\n",
        "from azureml.core.compute_target import ComputeTargetException\n",
        "from azureml.widgets import RunDetails\n",
        "from azureml.train.sklearn import SKLearn\n",
        "from azureml.train.hyperdrive.run import PrimaryMetricGoal\n",
        "from azureml.train.hyperdrive.policy import BanditPolicy\n",
        "from azureml.train.hyperdrive.sampling import RandomParameterSampling\n",
        "from azureml.train.hyperdrive.runconfig import HyperDriveConfig\n",
        "from azureml.train.hyperdrive.parameter_expressions import choice, loguniform\n",
        "from azureml.core import Environment, ScriptRunConfig\n",
        "import os\n",
        "import pandas as pd\n",
        "from azureml.train.automl import AutoMLConfig\n",
        "from azureml.core.dataset import Dataset\n",
        "import logging\n",
        "import csv\n",
        "from matplotlib import pyplot as plt\n",
        "import numpy as np\n",
        "import pandas as pd\n",
        "from sklearn import datasets\n",
        "import pkg_resources\n",
        "import azureml.core\n",
        "from azureml.core.experiment import Experiment\n",
        "from azureml.core.workspace import Workspace\n",
        "from azureml.train.automl import AutoMLConfig\n",
        "from azureml.core.dataset import Dataset\n",
        "from azureml.pipeline.steps import AutoMLStep\n",
        "import joblib\n",
        "from azureml.pipeline.core import PipelineData, TrainingOutput\n",
        "from azureml.core import Model"
      ],
      "outputs": [],
      "execution_count": 46,
      "metadata": {
        "gather": {
          "logged": 1717953934225
        },
        "jupyter": {
          "outputs_hidden": false,
          "source_hidden": false
        },
        "nteract": {
          "transient": {
            "deleting": false
          }
        }
      }
    },
    {
      "cell_type": "markdown",
      "source": [
        "## Dataset\n",
        "\n",
        "### Overview\n",
        "TODO: In this markdown cell, give an overview of the dataset you are using. Also mention the task you will be performing.\n",
        "\n",
        "\n",
        "TODO: Get data. In the cell below, write code to access the data you will be using in this project. Remember that the dataset needs to be external."
      ],
      "metadata": {}
    },
    {
      "cell_type": "code",
      "source": [
        "ws = Workspace.get(name = 'quick-starts-ws-260426',\n",
        "                   subscription_id = '61c5c3f0-6dc7-4ed9-a7f3-c704b20e3b30',\n",
        "                   resource_group = 'aml-quickstarts-260426')\n",
        "\n",
        "# choose a name for experiment\n",
        "experiment_name = 'heart-estimates'\n",
        "\n",
        "experiment=Experiment(ws, experiment_name)\n",
        "\n",
        "print('Workspace name: ' + ws.name, \n",
        "      'Azure region: ' + ws.location, \n",
        "      'Subscription id: ' + ws.subscription_id, \n",
        "      'Resource group: ' + ws.resource_group, sep = '\\n')\n",
        "\n",
        "run = experiment.start_logging()"
      ],
      "outputs": [
        {
          "output_type": "stream",
          "name": "stdout",
          "text": "Workspace name: quick-starts-ws-260426\nAzure region: westus2\nSubscription id: 61c5c3f0-6dc7-4ed9-a7f3-c704b20e3b30\nResource group: aml-quickstarts-260426\n"
        }
      ],
      "execution_count": 38,
      "metadata": {
        "gather": {
          "logged": 1717950957280
        },
        "jupyter": {
          "outputs_hidden": false,
          "source_hidden": false
        },
        "nteract": {
          "transient": {
            "deleting": false
          }
        }
      }
    },
    {
      "cell_type": "markdown",
      "source": [
        "## AutoML Configuration\n",
        "\n",
        "TODO: Explain why you chose the automl settings and cofiguration you used below."
      ],
      "metadata": {}
    },
    {
      "cell_type": "code",
      "source": [
        "cluster_name = \"notebook260426\"\n",
        "project_folder = './capstone'\n",
        "\n",
        "found = False\n",
        "description_text = \"Heart Data for Udacity Capstone\"\n",
        "\n",
        "dataset = Dataset.get_by_name(ws, name='heart-data')\n",
        "\n",
        "try:\n",
        "    aml_compute = ComputeTarget(workspace=ws, name = cluster_name)\n",
        "    print(\"Found existing cluster, use it\")\n",
        "except ComputeTargetException:\n",
        "    compute_config = AmlCompute.provisioning_configuration(vm_size=\"STANDARD_D2_V2\", max_nodes= 4)\n",
        "    aml_compute = ComputeTarget.create(ws, cluster_name, compute_config)\n",
        "\n",
        "# TODO: Put your automl settings here\n",
        "automl_settings = {\n",
        "    \"experiment_timeout_minutes\": 20,\n",
        "    \"max_concurrent_iterations\": 4,\n",
        "    \"primary_metric\" : 'AUC_weighted',\n",
        "    \"n_cross_validations\": 5\n",
        "}\n",
        "\n",
        "# TODO: Put your automl config here\n",
        "automl_config = AutoMLConfig(compute_target=cluster_name,\n",
        "                             task = \"classification\",\n",
        "                             training_data=dataset,\n",
        "                             #time_column_name=\"date\", \n",
        "                             label_column_name=\"DEATH_EVENT\",  \n",
        "                             #path = project_folder,\n",
        "                             #enable_early_stopping= True,\n",
        "                             featurization= 'auto',\n",
        "                             debug_log = \"automl_errors.log\",\n",
        "                             **automl_settings\n",
        "                            )"
      ],
      "outputs": [
        {
          "output_type": "stream",
          "name": "stdout",
          "text": "Found existing cluster, use it\n"
        }
      ],
      "execution_count": 39,
      "metadata": {
        "gather": {
          "logged": 1717950959182
        },
        "jupyter": {
          "outputs_hidden": false,
          "source_hidden": false
        },
        "nteract": {
          "transient": {
            "deleting": false
          }
        }
      }
    },
    {
      "cell_type": "code",
      "source": [
        "# TODO: Submit your experiment\n",
        "remote_run = experiment.submit(automl_config)"
      ],
      "outputs": [
        {
          "output_type": "stream",
          "name": "stdout",
          "text": "Submitting remote run.\n"
        },
        {
          "output_type": "display_data",
          "data": {
            "text/html": "<table style=\"width:100%\"><tr><th>Experiment</th><th>Id</th><th>Type</th><th>Status</th><th>Details Page</th><th>Docs Page</th></tr><tr><td>heart-estimates</td><td>AutoML_4506947a-35c6-49f0-b99b-37268eeba8fe</td><td>automl</td><td>NotStarted</td><td><a href=\"https://ml.azure.com/runs/AutoML_4506947a-35c6-49f0-b99b-37268eeba8fe?wsid=/subscriptions/61c5c3f0-6dc7-4ed9-a7f3-c704b20e3b30/resourcegroups/aml-quickstarts-260426/workspaces/quick-starts-ws-260426&amp;tid=660b3398-b80e-49d2-bc5b-ac1dc93b5254\" target=\"_blank\" rel=\"noopener\">Link to Azure Machine Learning studio</a></td><td><a href=\"https://docs.microsoft.com/en-us/python/api/overview/azure/ml/intro?view=azure-ml-py\" target=\"_blank\" rel=\"noopener\">Link to Documentation</a></td></tr></table>"
          },
          "metadata": {}
        }
      ],
      "execution_count": 40,
      "metadata": {
        "gather": {
          "logged": 1717950965654
        },
        "jupyter": {
          "outputs_hidden": false,
          "source_hidden": false
        },
        "nteract": {
          "transient": {
            "deleting": false
          }
        }
      }
    },
    {
      "cell_type": "markdown",
      "source": [
        "## Run Details\n",
        "\n",
        "OPTIONAL: Write about the different models trained and their performance. Why do you think some models did better than others?\n",
        "\n",
        "TODO: In the cell below, use the `RunDetails` widget to show the different experiments."
      ],
      "metadata": {}
    },
    {
      "cell_type": "code",
      "source": [
        "# remote_run = experiment.submit(automl_config, show_output = False)\n",
        "\n",
        "# RunDetails(remote_run).show()\n",
        "\n",
        "# automl_run = experiment.start_logging()\n",
        "\n",
        "# automl_run.log(name=\"message\", value = \"Hello from run!\")\n",
        "\n",
        "# print(automl_run.get_status())\n",
        "\n",
        "RunDetails(remote_run).show()"
      ],
      "outputs": [
        {
          "output_type": "display_data",
          "data": {
            "text/plain": "_AutoMLWidget(widget_settings={'childWidgetDisplay': 'popup', 'send_telemetry': False, 'log_level': 'INFO', 's…",
            "application/vnd.jupyter.widget-view+json": {
              "version_major": 2,
              "version_minor": 0,
              "model_id": "0a50b4582a6e486c866e1bc15d24a2c4"
            }
          },
          "metadata": {}
        },
        {
          "output_type": "display_data",
          "data": {
            "application/aml.mini.widget.v1": "{\"status\": \"Completed\", \"workbench_run_details_uri\": \"https://ml.azure.com/runs/AutoML_4506947a-35c6-49f0-b99b-37268eeba8fe?wsid=/subscriptions/61c5c3f0-6dc7-4ed9-a7f3-c704b20e3b30/resourcegroups/aml-quickstarts-260426/workspaces/quick-starts-ws-260426&tid=660b3398-b80e-49d2-bc5b-ac1dc93b5254\", \"run_id\": \"AutoML_4506947a-35c6-49f0-b99b-37268eeba8fe\", \"run_properties\": {\"run_id\": \"AutoML_4506947a-35c6-49f0-b99b-37268eeba8fe\", \"created_utc\": \"2024-06-09T16:36:04.886396Z\", \"properties\": {\"num_iterations\": \"1000\", \"training_type\": \"TrainFull\", \"acquisition_function\": \"EI\", \"primary_metric\": \"AUC_weighted\", \"train_split\": \"0\", \"acquisition_parameter\": \"0\", \"num_cross_validation\": \"5\", \"target\": \"notebook260426\", \"AMLSettingsJsonString\": \"{\\\"path\\\":null,\\\"name\\\":\\\"heart-estimates\\\",\\\"subscription_id\\\":\\\"61c5c3f0-6dc7-4ed9-a7f3-c704b20e3b30\\\",\\\"resource_group\\\":\\\"aml-quickstarts-260426\\\",\\\"workspace_name\\\":\\\"quick-starts-ws-260426\\\",\\\"region\\\":\\\"westus2\\\",\\\"compute_target\\\":\\\"notebook260426\\\",\\\"spark_service\\\":null,\\\"azure_service\\\":\\\"remote\\\",\\\"many_models\\\":false,\\\"pipeline_fetch_max_batch_size\\\":1,\\\"enable_batch_run\\\":true,\\\"enable_parallel_run\\\":false,\\\"num_procs\\\":null,\\\"enable_run_restructure\\\":false,\\\"start_auxiliary_runs_before_parent_complete\\\":false,\\\"enable_code_generation\\\":true,\\\"iterations\\\":1000,\\\"primary_metric\\\":\\\"AUC_weighted\\\",\\\"task_type\\\":\\\"classification\\\",\\\"positive_label\\\":null,\\\"data_script\\\":null,\\\"test_size\\\":0.0,\\\"test_include_predictions_only\\\":false,\\\"validation_size\\\":0.0,\\\"n_cross_validations\\\":5,\\\"y_min\\\":null,\\\"y_max\\\":null,\\\"num_classes\\\":null,\\\"featurization\\\":\\\"auto\\\",\\\"_ignore_package_version_incompatibilities\\\":false,\\\"is_timeseries\\\":false,\\\"max_cores_per_iteration\\\":1,\\\"max_concurrent_iterations\\\":4,\\\"iteration_timeout_minutes\\\":null,\\\"mem_in_mb\\\":null,\\\"enforce_time_on_windows\\\":false,\\\"experiment_timeout_minutes\\\":20,\\\"experiment_exit_score\\\":null,\\\"partition_column_names\\\":null,\\\"whitelist_models\\\":null,\\\"blacklist_algos\\\":[\\\"TensorFlowLinearClassifier\\\",\\\"TensorFlowDNN\\\"],\\\"supported_models\\\":[\\\"GradientBoosting\\\",\\\"LogisticRegression\\\",\\\"TabnetClassifier\\\",\\\"BernoulliNaiveBayes\\\",\\\"KNN\\\",\\\"AveragedPerceptronClassifier\\\",\\\"LightGBM\\\",\\\"MultinomialNaiveBayes\\\",\\\"SVM\\\",\\\"RandomForest\\\",\\\"ExtremeRandomTrees\\\",\\\"TensorFlowLinearClassifier\\\",\\\"TensorFlowDNN\\\",\\\"DecisionTree\\\",\\\"XGBoostClassifier\\\",\\\"SGD\\\",\\\"LinearSVM\\\"],\\\"private_models\\\":[],\\\"auto_blacklist\\\":true,\\\"blacklist_samples_reached\\\":false,\\\"exclude_nan_labels\\\":true,\\\"verbosity\\\":20,\\\"_debug_log\\\":\\\"azureml_automl.log\\\",\\\"show_warnings\\\":false,\\\"model_explainability\\\":true,\\\"service_url\\\":null,\\\"sdk_url\\\":null,\\\"sdk_packages\\\":null,\\\"enable_onnx_compatible_models\\\":false,\\\"enable_split_onnx_featurizer_estimator_models\\\":false,\\\"vm_type\\\":\\\"Standard_DS3_v2\\\",\\\"telemetry_verbosity\\\":20,\\\"send_telemetry\\\":true,\\\"enable_dnn\\\":false,\\\"scenario\\\":\\\"AutoML\\\",\\\"environment_label\\\":null,\\\"save_mlflow\\\":false,\\\"enable_categorical_indicators\\\":false,\\\"force_text_dnn\\\":false,\\\"enable_feature_sweeping\\\":true,\\\"enable_early_stopping\\\":true,\\\"early_stopping_n_iters\\\":10,\\\"arguments\\\":null,\\\"dataset_id\\\":\\\"93413656-69ee-45ad-ad7f-0af50118cdf7\\\",\\\"hyperdrive_config\\\":null,\\\"validation_dataset_id\\\":null,\\\"run_source\\\":null,\\\"metrics\\\":null,\\\"enable_metric_confidence\\\":false,\\\"enable_ensembling\\\":true,\\\"enable_stack_ensembling\\\":true,\\\"ensemble_iterations\\\":15,\\\"enable_tf\\\":false,\\\"enable_subsampling\\\":null,\\\"subsample_seed\\\":null,\\\"enable_nimbusml\\\":false,\\\"enable_streaming\\\":false,\\\"force_streaming\\\":false,\\\"track_child_runs\\\":true,\\\"n_best_runs\\\":1,\\\"allowed_private_models\\\":[],\\\"label_column_name\\\":\\\"DEATH_EVENT\\\",\\\"weight_column_name\\\":null,\\\"cv_split_column_names\\\":null,\\\"enable_local_managed\\\":false,\\\"_local_managed_run_id\\\":null,\\\"cost_mode\\\":1,\\\"lag_length\\\":0,\\\"metric_operation\\\":\\\"maximize\\\",\\\"preprocess\\\":true}\", \"DataPrepJsonString\": \"{\\\\\\\"training_data\\\\\\\": {\\\\\\\"datasetId\\\\\\\": \\\\\\\"93413656-69ee-45ad-ad7f-0af50118cdf7\\\\\\\"}, \\\\\\\"datasets\\\\\\\": 0}\", \"EnableSubsampling\": null, \"runTemplate\": \"AutoML\", \"azureml.runsource\": \"automl\", \"display_task_type\": \"classification\", \"dependencies_versions\": \"{\\\"azureml-dataprep-native\\\": \\\"38.0.0\\\", \\\"azureml-dataprep\\\": \\\"4.10.8\\\", \\\"azureml-dataprep-rslex\\\": \\\"2.17.12\\\", \\\"azureml-train-automl-runtime\\\": \\\"1.51.0.post2\\\", \\\"azureml-train-automl-client\\\": \\\"1.51.0.post1\\\", \\\"azureml-training-tabular\\\": \\\"1.51.0.post1\\\", \\\"azureml-automl-runtime\\\": \\\"1.51.0.post1\\\", \\\"azureml-automl-core\\\": \\\"1.51.0.post1\\\", \\\"azureml-mlflow\\\": \\\"1.51.0\\\", \\\"azureml-datadrift\\\": \\\"1.51.0\\\", \\\"azureml-pipeline\\\": \\\"1.51.0\\\", \\\"azureml-contrib-dataset\\\": \\\"1.51.0\\\", \\\"azureml-contrib-notebook\\\": \\\"1.51.0\\\", \\\"azureml-accel-models\\\": \\\"1.51.0\\\", \\\"azureml-automl-dnn-nlp\\\": \\\"1.51.0\\\", \\\"azureml-pipeline-core\\\": \\\"1.51.0\\\", \\\"azureml-responsibleai\\\": \\\"1.51.0\\\", \\\"azureml-contrib-automl-pipeline-steps\\\": \\\"1.51.0\\\", \\\"azureml-pipeline-steps\\\": \\\"1.51.0\\\", \\\"azureml-core\\\": \\\"1.51.0\\\", \\\"azureml-contrib-reinforcementlearning\\\": \\\"1.51.0\\\", \\\"azureml-contrib-server\\\": \\\"1.51.0\\\", \\\"azureml-opendatasets\\\": \\\"1.51.0\\\", \\\"azureml-contrib-services\\\": \\\"1.51.0\\\", \\\"azureml-telemetry\\\": \\\"1.51.0\\\", \\\"azureml-train-restclients-hyperdrive\\\": \\\"1.51.0\\\", \\\"azureml-interpret\\\": \\\"1.51.0\\\", \\\"azureml-train-core\\\": \\\"1.51.0\\\", \\\"azureml-tensorboard\\\": \\\"1.51.0\\\", \\\"azureml-train\\\": \\\"1.51.0\\\", \\\"azureml-contrib-pipeline-steps\\\": \\\"1.51.0\\\", \\\"azureml-explain-model\\\": \\\"1.51.0\\\", \\\"azureml-cli-common\\\": \\\"1.51.0\\\", \\\"azureml-widgets\\\": \\\"1.51.0\\\", \\\"azureml-train-automl\\\": \\\"1.51.0\\\", \\\"azureml-defaults\\\": \\\"1.51.0\\\", \\\"azureml-contrib-fairness\\\": \\\"1.51.0\\\", \\\"azureml-sdk\\\": \\\"1.51.0\\\", \\\"azureml-dataset-runtime\\\": \\\"1.51.0\\\", \\\"azureml-inference-server-http\\\": \\\"0.8.4\\\"}\", \"_aml_system_scenario_identification\": \"Remote.Parent\", \"ClientType\": \"SDK\", \"PlatformVersion\": \"DPV1\", \"environment_cpu_name\": \"AzureML-AutoML\", \"environment_cpu_label\": \"scikit-upgrade2\", \"environment_gpu_name\": \"AzureML-AutoML-GPU\", \"environment_gpu_label\": \"scikit-upgrade2\", \"root_attribution\": \"automl\", \"attribution\": \"AutoML\", \"Orchestrator\": \"AutoML\", \"CancelUri\": \"https://westus2.api.azureml.ms/jasmine/v1.0/subscriptions/61c5c3f0-6dc7-4ed9-a7f3-c704b20e3b30/resourceGroups/aml-quickstarts-260426/providers/Microsoft.MachineLearningServices/workspaces/quick-starts-ws-260426/experimentids/25674568-70c5-44c5-b097-8d9668e68624/cancel/AutoML_4506947a-35c6-49f0-b99b-37268eeba8fe\", \"ClientSdkVersion\": null, \"snapshotId\": \"00000000-0000-0000-0000-000000000000\", \"SetupRunId\": \"AutoML_4506947a-35c6-49f0-b99b-37268eeba8fe_setup\", \"SetupRunContainerId\": \"dcid.AutoML_4506947a-35c6-49f0-b99b-37268eeba8fe_setup\", \"FeaturizationRunJsonPath\": \"featurizer_container.json\", \"FeaturizationRunId\": \"AutoML_4506947a-35c6-49f0-b99b-37268eeba8fe_featurize\", \"ProblemInfoJsonString\": \"{\\\"dataset_num_categorical\\\": 0, \\\"is_sparse\\\": false, \\\"subsampling\\\": false, \\\"has_extra_col\\\": true, \\\"dataset_classes\\\": 2, \\\"dataset_features\\\": 12, \\\"dataset_samples\\\": 299, \\\"single_frequency_class_detected\\\": false}\", \"ModelExplainRunId\": \"AutoML_4506947a-35c6-49f0-b99b-37268eeba8fe_ModelExplain\"}, \"tags\": {\"model_explain_run\": \"best_run\", \"_aml_system_automl_run_workspace_id\": \"3a027290-4ea8-47ff-8a24-5e114333d5dd\", \"_aml_system_azureml.automlComponent\": \"AutoML\", \"pipeline_id_000\": \"5dfac790c5c209f98a1da2dc1c7fb76f0397324f;a18bd1af1629e8f96b25a32ac94e62b3bd9a9605;516a24fb1445632ecf04366c17b960ce157878b3;c7af0367625be6ac5c2fecbfc72ed444cb7a2111;a3dadd95854bf6116ab454844302b51d417d78b7;088b94df63b852cc8cba96bb2fa191ce8d1ef2e5;51ae05309834b29f71340af1008fc94fbd8213f4;681a59302459aec2cc115ddbc14e1d28f4b3b8df;1dfdf370ba770047b14bfa59c40920815defcdab;294650ec23bc3d067a4972de7ceb12f6e97260fa;e92a63ad06df7b68a48ce96c06fad3fbf2a25ce2;4f207270c6817858b81b8050f1efa1d0053db52e;ce2643edf3d450b10c86c7d034a9bc952dc282d3;634afb4b36be9286ca21289f56b5f7cdf1c72fa9;039a99c3d5147edeb525249e2660628be3e8b83f;7ea0a64582be36507254a026ac98e9a5a49e1f34;5bc24cef89e67ee668d55e59548e1032cfbc7f0f;b983b703e4d6dbffd4a815a4d1c2ed94225c5027;6f4a466f84f725a47910c1dff062a1bb46df2a21;dea7fdbaedc77258dbfe31dbfed41e768ca38939;c74787cd2f0507b852a1ac70d504d83ac9bdec83;a72eb56f3d4aadb7b7f0149ba6e5f05657a95ca1;9610149fbcf43017aa810a290e9c04cbe6fa8684;1e38ae92baee19b18f211a8b14c16015d5ee3dc3;a7434e890cabef86b0ce4ae71fb633e1e92b854d;dd3e4dc5ec6157b2d4a917d02659b2946c1df9a6;934fbda25f87f4703ab02c0796a38b132022d111;18df6f7c8ab9671ee27b80e6edc9861a31350e57;8de5803b9242c9b2993f0c15f0730a5f73346840;de5498303022d1619f483f3eee6fec99beb02365;00693d82af446c79c2b3579d639e54f964f43a33;74f74c4bf8717cc69e8422ff75923caf8873d95c;b19eeb61727e9c4fbb5aa45fb6e9fe3fab5b1f04;d98257f76fc4de6c188ba5656991c63b1dfadadb;aa9bb1be0fdd90d85173de50544a9c238007a00e;8c25b7de70b6fddffb6e4fd5de66d5053f69b8a6;ef55fefb7d72c544a2334d2bf3dd0c6c627c3059;e3c861c1cfe3b71345463598a24411b9cc090cad;fd7f0c12a434eb20f04cb2a2eba2a8a8d24ba5aa;b8f43e6b007bb94306735e27a35d2b069fdafd6e;f5e6a5f39f63a68d604cf9da0640e52e3f61de33;__AutoML_Ensemble__;__AutoML_Stack_Ensemble__\", \"score_000\": \"0.8923947259136213;0.4737845376522702;0.8677544296788483;0.8994019933554818;0.8930586355666298;0.7859426448874124;0.8671584763750462;0.877890988372093;0.893719822812846;0.8676549003322258;0.8421994509043929;0.9032292358803986;0.8876952519379845;0.7557314737910668;0.9041230620155039;0.9000345607235142;0.8995595007382798;0.8828493909191583;0.8867880906238463;0.8775607927279439;0.9075534791435954;0.9033815291620524;0.9046306063122923;0.8691333748615726;0.908544919712071;0.9082451088962717;0.871172849760059;0.9022783084163898;0.9051108342561832;0.8692159468438538;0.7484871262458472;0.8743599806201552;0.8964986157253598;0.8930228636028055;0.8678999169435218;0.7940907276670357;0.8968769149132522;0.9022339654854189;NaN;0.8777688722775931;NaN;0.919685977297896;0.9146582225913622\", \"predicted_cost_000\": \"0;0.5;0.5;0;0.5;0.5;0.5;0.5;0.5;0.5;0.5;0.5;0.5;0.5;0.5;0.5;0.5;0.5;0.5;0.5;0.054541035557136436;0.04380828833644924;0.1188061623775586;0.23647455122504088;0.42075484207730773;0.06593830473470778;0.01804672470084363;0.06615194173227996;0.06123034450110323;0.2547847447234962;0.07181007999717992;0.03301886747549405;0.08152248837593049;1.5139404724127656;0.03717168786700139;0.1814820358368446;0.098581159351019;0.16821352286114183;0.2847902122650763;0.05642348759783597;0.15039842355850325;0;0\", \"fit_time_000\": \"0.0929096;0.0178326;0.0298072;0.105482;0.0165586;0.0702496;0.040957200000000006;0.030312600000000002;0.4172275999999999;0.040684;0.023851400000000002;0.27464959999999994;0.0763392;0.0115868;0.032855199999999994;0.12253479999999999;0.1849898;0.0881432;0.028387000000000003;0.5594354;0.0294454;0.2994802;0.0598368;0.046605;0.3975394;0.12371100000000002;0.023342599999999998;0.3468814;0.0788484;0.913079;0.10757720000000001;0.0880204;0.08687799999999998;0.19679380000000002;0.028305199999999996;0.285016;0.05584599999999999;0.1810142;NaN;0.1354608;NaN;35;43\", \"training_percent_000\": \"100;100;100;100;100;100;100;100;100;100;100;100;100;100;100;100;100;100;100;100;100;100;100;100;100;100;100;100;100;100;100;100;100;100;100;100;100;100;100;100;100;100;100\", \"iteration_000\": \"0;5;10;1;6;11;2;15;7;12;8;16;3;13;4;17;9;14;18;19;20;21;22;23;24;25;26;27;29;28;30;31;32;33;34;35;36;37;40;38;39;41;42\", \"run_preprocessor_000\": \"MaxAbsScaler;StandardScalerWrapper;StandardScalerWrapper;MaxAbsScaler;SparseNormalizer;StandardScalerWrapper;MaxAbsScaler;SparseNormalizer;SparseNormalizer;StandardScalerWrapper;RobustScaler;MinMaxScaler;MaxAbsScaler;SparseNormalizer;StandardScalerWrapper;MinMaxScaler;MinMaxScaler;RobustScaler;SparseNormalizer;MaxAbsScaler;StandardScalerWrapper;StandardScalerWrapper;MaxAbsScaler;MaxAbsScaler;StandardScalerWrapper;StandardScalerWrapper;StandardScalerWrapper;MinMaxScaler;RobustScaler;StandardScalerWrapper;MinMaxScaler;SparseNormalizer;MinMaxScaler;StandardScalerWrapper;StandardScalerWrapper;TruncatedSVDWrapper;RobustScaler;StandardScalerWrapper;;StandardScalerWrapper;;;\", \"run_algorithm_000\": \"LightGBM;KNN;LogisticRegression;XGBoostClassifier;XGBoostClassifier;SVM;ExtremeRandomTrees;XGBoostClassifier;RandomForest;XGBoostClassifier;KNN;ExtremeRandomTrees;RandomForest;KNN;LightGBM;ExtremeRandomTrees;RandomForest;ExtremeRandomTrees;LightGBM;ExtremeRandomTrees;XGBoostClassifier;RandomForest;LightGBM;LogisticRegression;ExtremeRandomTrees;XGBoostClassifier;LogisticRegression;RandomForest;LightGBM;ExtremeRandomTrees;ExtremeRandomTrees;LightGBM;RandomForest;XGBoostClassifier;SVM;ExtremeRandomTrees;LightGBM;LightGBM;;LightGBM;;VotingEnsemble;StackEnsemble\", \"dynamic_allowlisting_iterations\": \"<25>;<30>;<35>;<40>;\", \"_aml_system_azureml.automl_early_exit_message\": \"No scores improved over last 10 iterations, so experiment stopped early. This early stopping behavior can be disabled by setting enable_early_stopping = False in AutoMLConfig for notebook/python SDK runs.\", \"automl_best_child_run_id\": \"AutoML_4506947a-35c6-49f0-b99b-37268eeba8fe_41\", \"model_explain_best_run_child_id\": \"AutoML_4506947a-35c6-49f0-b99b-37268eeba8fe_41\"}, \"end_time_utc\": \"2024-06-09T16:46:44.72263Z\", \"status\": \"Completed\", \"log_files\": {}, \"log_groups\": [], \"run_duration\": \"0:10:39\", \"run_number\": \"1717950964\", \"run_queued_details\": {\"status\": \"Completed\", \"details\": null}}, \"child_runs\": [{\"run_id\": \"AutoML_4506947a-35c6-49f0-b99b-37268eeba8fe_setup\", \"run_number\": 1717950976, \"metric\": null, \"status\": \"Completed\", \"run_type\": \"azureml.scriptrun\", \"training_percent\": null, \"start_time\": \"2024-06-09T16:36:24.570228Z\", \"end_time\": \"2024-06-09T16:36:58.074822Z\", \"created_time\": \"2024-06-09T16:36:16.800239Z\", \"created_time_dt\": \"2024-06-09T16:36:16.800239Z\", \"duration\": \"0:00:41\", \"iteration\": null, \"goal\": null, \"run_name\": \"Completed\", \"run_properties\": null}, {\"run_id\": \"AutoML_4506947a-35c6-49f0-b99b-37268eeba8fe_featurize\", \"run_number\": 1717951018, \"metric\": null, \"status\": \"Completed\", \"run_type\": \"automl.featurization\", \"training_percent\": null, \"start_time\": \"2024-06-09T16:36:58.744958Z\", \"end_time\": \"2024-06-09T16:37:41.475192Z\", \"created_time\": \"2024-06-09T16:36:58.335808Z\", \"created_time_dt\": \"2024-06-09T16:36:58.335808Z\", \"duration\": \"0:00:43\", \"iteration\": null, \"goal\": null, \"run_name\": \"Completed\", \"run_properties\": null}, {\"run_id\": \"AutoML_4506947a-35c6-49f0-b99b-37268eeba8fe_0\", \"run_number\": 1717951062, \"metric\": null, \"status\": \"Completed\", \"run_type\": null, \"training_percent\": \"100\", \"start_time\": \"2024-06-09T16:38:07.712636Z\", \"end_time\": \"2024-06-09T16:38:28.491941Z\", \"created_time\": \"2024-06-09T16:37:42.72852Z\", \"created_time_dt\": \"2024-06-09T16:37:42.72852Z\", \"duration\": \"0:00:45\", \"iteration\": \"0\", \"goal\": \"AUC_weighted_max\", \"run_name\": \"MaxAbsScaler, LightGBM\", \"run_properties\": \"copy=True\", \"primary_metric\": 0.89239473, \"best_metric\": 0.89239473}, {\"run_id\": \"AutoML_4506947a-35c6-49f0-b99b-37268eeba8fe_1\", \"run_number\": 1717951063, \"metric\": null, \"status\": \"Completed\", \"run_type\": null, \"training_percent\": \"100\", \"start_time\": \"2024-06-09T16:38:29.545992Z\", \"end_time\": \"2024-06-09T16:38:49.154728Z\", \"created_time\": \"2024-06-09T16:37:43.276814Z\", \"created_time_dt\": \"2024-06-09T16:37:43.276814Z\", \"duration\": \"0:01:05\", \"iteration\": \"1\", \"goal\": \"AUC_weighted_max\", \"run_name\": \"MaxAbsScaler, XGBoostClassifier\", \"run_properties\": \"copy=True\", \"primary_metric\": 0.89940199, \"best_metric\": 0.89940199}, {\"run_id\": \"AutoML_4506947a-35c6-49f0-b99b-37268eeba8fe_2\", \"run_number\": 1717951064, \"metric\": null, \"status\": \"Completed\", \"run_type\": null, \"training_percent\": \"100\", \"start_time\": \"2024-06-09T16:38:50.119873Z\", \"end_time\": \"2024-06-09T16:39:12.602069Z\", \"created_time\": \"2024-06-09T16:37:44.098119Z\", \"created_time_dt\": \"2024-06-09T16:37:44.098119Z\", \"duration\": \"0:01:28\", \"iteration\": \"2\", \"goal\": \"AUC_weighted_max\", \"run_name\": \"MaxAbsScaler, ExtremeRandomTrees\", \"run_properties\": \"copy=True\", \"primary_metric\": 0.86715848, \"best_metric\": 0.89940199}, {\"run_id\": \"AutoML_4506947a-35c6-49f0-b99b-37268eeba8fe_worker_0\", \"run_number\": 1717951065, \"metric\": null, \"status\": \"Completed\", \"run_type\": \"azureml.scriptrun\", \"training_percent\": null, \"start_time\": \"2024-06-09T16:37:52.442019Z\", \"end_time\": \"2024-06-09T16:40:00.885816Z\", \"created_time\": \"2024-06-09T16:37:45.28846Z\", \"created_time_dt\": \"2024-06-09T16:37:45.28846Z\", \"duration\": \"0:02:15\", \"iteration\": null, \"goal\": null, \"run_name\": \"Completed\", \"run_properties\": null}, {\"run_id\": \"AutoML_4506947a-35c6-49f0-b99b-37268eeba8fe_7\", \"run_number\": 1717951066, \"metric\": null, \"status\": \"Completed\", \"run_type\": null, \"training_percent\": \"100\", \"start_time\": \"2024-06-09T16:38:50.306447Z\", \"end_time\": \"2024-06-09T16:39:16.394462Z\", \"created_time\": \"2024-06-09T16:37:46.188162Z\", \"created_time_dt\": \"2024-06-09T16:37:46.188162Z\", \"duration\": \"0:01:30\", \"iteration\": \"7\", \"goal\": \"AUC_weighted_max\", \"run_name\": \"SparseNormalizer, RandomForest\", \"run_properties\": \"copy=True, norm='l2'\", \"primary_metric\": 0.89371982, \"best_metric\": 0.89940199}, {\"run_id\": \"AutoML_4506947a-35c6-49f0-b99b-37268eeba8fe_worker_1\", \"run_number\": 1717951067, \"metric\": null, \"status\": \"Completed\", \"run_type\": \"azureml.scriptrun\", \"training_percent\": null, \"start_time\": \"2024-06-09T16:37:54.815416Z\", \"end_time\": \"2024-06-09T16:40:00.902181Z\", \"created_time\": \"2024-06-09T16:37:47.120285Z\", \"created_time_dt\": \"2024-06-09T16:37:47.120285Z\", \"duration\": \"0:02:13\", \"iteration\": null, \"goal\": null, \"run_name\": \"Completed\", \"run_properties\": null}, {\"run_id\": \"AutoML_4506947a-35c6-49f0-b99b-37268eeba8fe_12\", \"run_number\": 1717951068, \"metric\": null, \"status\": \"Completed\", \"run_type\": null, \"training_percent\": \"100\", \"start_time\": \"2024-06-09T16:38:56.896731Z\", \"end_time\": \"2024-06-09T16:39:23.044502Z\", \"created_time\": \"2024-06-09T16:37:48.1253Z\", \"created_time_dt\": \"2024-06-09T16:37:48.1253Z\", \"duration\": \"0:01:34\", \"iteration\": \"12\", \"goal\": \"AUC_weighted_max\", \"run_name\": \"StandardScalerWrapper, XGBoostClassifier\", \"run_properties\": \"copy=True, with_mean=False, with_std=False\", \"primary_metric\": 0.8676549, \"best_metric\": 0.89940199}, {\"run_id\": \"AutoML_4506947a-35c6-49f0-b99b-37268eeba8fe_worker_2\", \"run_number\": 1717951069, \"metric\": null, \"status\": \"Completed\", \"run_type\": \"azureml.scriptrun\", \"training_percent\": null, \"start_time\": \"2024-06-09T16:37:58.055608Z\", \"end_time\": \"2024-06-09T16:40:06.274762Z\", \"created_time\": \"2024-06-09T16:37:49.171335Z\", \"created_time_dt\": \"2024-06-09T16:37:49.171335Z\", \"duration\": \"0:02:17\", \"iteration\": null, \"goal\": null, \"run_name\": \"Completed\", \"run_properties\": null}, {\"run_id\": \"AutoML_4506947a-35c6-49f0-b99b-37268eeba8fe_17\", \"run_number\": 1717951070, \"metric\": null, \"status\": \"Completed\", \"run_type\": null, \"training_percent\": \"100\", \"start_time\": \"2024-06-09T16:39:35.183946Z\", \"end_time\": \"2024-06-09T16:39:53.31189Z\", \"created_time\": \"2024-06-09T16:37:50.199877Z\", \"created_time_dt\": \"2024-06-09T16:37:50.199877Z\", \"duration\": \"0:02:03\", \"iteration\": \"17\", \"goal\": \"AUC_weighted_max\", \"run_name\": \"MinMaxScaler, ExtremeRandomTrees\", \"run_properties\": \"copy=True, feature_range=(0, 1\", \"primary_metric\": 0.90003456, \"best_metric\": 0.90003456}, {\"run_id\": \"AutoML_4506947a-35c6-49f0-b99b-37268eeba8fe_worker_3\", \"run_number\": 1717951071, \"metric\": null, \"status\": \"Completed\", \"run_type\": \"azureml.scriptrun\", \"training_percent\": null, \"start_time\": \"2024-06-09T16:38:24.884675Z\", \"end_time\": \"2024-06-09T16:40:57.449099Z\", \"created_time\": \"2024-06-09T16:37:51.260813Z\", \"created_time_dt\": \"2024-06-09T16:37:51.260813Z\", \"duration\": \"0:03:06\", \"iteration\": null, \"goal\": null, \"run_name\": \"Completed\", \"run_properties\": null}, {\"run_id\": \"AutoML_4506947a-35c6-49f0-b99b-37268eeba8fe_20\", \"run_number\": 1717951212, \"metric\": null, \"status\": \"Completed\", \"run_type\": \"azureml.scriptrun\", \"training_percent\": \"100\", \"start_time\": \"2024-06-09T16:40:18.761654Z\", \"end_time\": \"2024-06-09T16:41:10.1717Z\", \"created_time\": \"2024-06-09T16:40:12.30357Z\", \"created_time_dt\": \"2024-06-09T16:40:12.30357Z\", \"duration\": \"0:00:57\", \"iteration\": \"20\", \"goal\": \"AUC_weighted_max\", \"run_name\": \"StandardScalerWrapper, XGBoostClassifier\", \"run_properties\": \"copy=True, with_mean=False, with_std=False\", \"primary_metric\": 0.90755348, \"best_metric\": 0.90755348}, {\"run_id\": \"AutoML_4506947a-35c6-49f0-b99b-37268eeba8fe_23\", \"run_number\": 1717951267, \"metric\": null, \"status\": \"Completed\", \"run_type\": \"azureml.scriptrun\", \"training_percent\": \"100\", \"start_time\": \"2024-06-09T16:41:14.401581Z\", \"end_time\": \"2024-06-09T16:42:00.85272Z\", \"created_time\": \"2024-06-09T16:41:07.303435Z\", \"created_time_dt\": \"2024-06-09T16:41:07.303435Z\", \"duration\": \"0:00:53\", \"iteration\": \"23\", \"goal\": \"AUC_weighted_max\", \"run_name\": \"MaxAbsScaler, LogisticRegression\", \"run_properties\": \"copy=True\", \"primary_metric\": 0.86913337, \"best_metric\": 0.90755348}, {\"run_id\": \"AutoML_4506947a-35c6-49f0-b99b-37268eeba8fe_24\", \"run_number\": 1717951272, \"metric\": null, \"status\": \"Completed\", \"run_type\": \"azureml.scriptrun\", \"training_percent\": \"100\", \"start_time\": \"2024-06-09T16:41:19.430917Z\", \"end_time\": \"2024-06-09T16:42:10.676617Z\", \"created_time\": \"2024-06-09T16:41:12.403986Z\", \"created_time_dt\": \"2024-06-09T16:41:12.403986Z\", \"duration\": \"0:00:58\", \"iteration\": \"24\", \"goal\": \"AUC_weighted_max\", \"run_name\": \"StandardScalerWrapper, ExtremeRandomTrees\", \"run_properties\": \"copy=True, with_mean=False, with_std=True\", \"primary_metric\": 0.90854492, \"best_metric\": 0.90854492}, {\"run_id\": \"AutoML_4506947a-35c6-49f0-b99b-37268eeba8fe_25\", \"run_number\": 1717951275, \"metric\": null, \"status\": \"Completed\", \"run_type\": \"azureml.scriptrun\", \"training_percent\": \"100\", \"start_time\": \"2024-06-09T16:41:21.828049Z\", \"end_time\": \"2024-06-09T16:42:11.364354Z\", \"created_time\": \"2024-06-09T16:41:15.071682Z\", \"created_time_dt\": \"2024-06-09T16:41:15.071682Z\", \"duration\": \"0:00:56\", \"iteration\": \"25\", \"goal\": \"AUC_weighted_max\", \"run_name\": \"StandardScalerWrapper, XGBoostClassifier\", \"run_properties\": \"copy=True, with_mean=False, with_std=False\", \"primary_metric\": 0.90824511, \"best_metric\": 0.90854492}, {\"run_id\": \"AutoML_4506947a-35c6-49f0-b99b-37268eeba8fe_27\", \"run_number\": 1717951322, \"metric\": null, \"status\": \"Completed\", \"run_type\": \"azureml.scriptrun\", \"training_percent\": \"100\", \"start_time\": \"2024-06-09T16:42:08.336797Z\", \"end_time\": \"2024-06-09T16:42:56.962466Z\", \"created_time\": \"2024-06-09T16:42:02.157117Z\", \"created_time_dt\": \"2024-06-09T16:42:02.157117Z\", \"duration\": \"0:00:54\", \"iteration\": \"27\", \"goal\": \"AUC_weighted_max\", \"run_name\": \"MinMaxScaler, RandomForest\", \"run_properties\": \"copy=True, feature_range=(0, 1\", \"primary_metric\": 0.90227831, \"best_metric\": 0.90854492}, {\"run_id\": \"AutoML_4506947a-35c6-49f0-b99b-37268eeba8fe_28\", \"run_number\": 1717951332, \"metric\": null, \"status\": \"Completed\", \"run_type\": \"azureml.scriptrun\", \"training_percent\": \"100\", \"start_time\": \"2024-06-09T16:42:19.165003Z\", \"end_time\": \"2024-06-09T16:43:10.837723Z\", \"created_time\": \"2024-06-09T16:42:12.324064Z\", \"created_time_dt\": \"2024-06-09T16:42:12.324064Z\", \"duration\": \"0:00:58\", \"iteration\": \"28\", \"goal\": \"AUC_weighted_max\", \"run_name\": \"StandardScalerWrapper, ExtremeRandomTrees\", \"run_properties\": \"copy=True, with_mean=True, with_std=True\", \"primary_metric\": 0.86921595, \"best_metric\": 0.90854492}, {\"run_id\": \"AutoML_4506947a-35c6-49f0-b99b-37268eeba8fe_29\", \"run_number\": 1717951334, \"metric\": null, \"status\": \"Completed\", \"run_type\": \"azureml.scriptrun\", \"training_percent\": \"100\", \"start_time\": \"2024-06-09T16:42:21.441735Z\", \"end_time\": \"2024-06-09T16:43:07.320458Z\", \"created_time\": \"2024-06-09T16:42:14.521269Z\", \"created_time_dt\": \"2024-06-09T16:42:14.521269Z\", \"duration\": \"0:00:52\", \"iteration\": \"29\", \"goal\": \"AUC_weighted_max\", \"run_name\": \"RobustScaler, LightGBM\", \"run_properties\": \"copy=True, quantile_range=[10, 90], with_centering=False,\\n             with_scaling=True\", \"primary_metric\": 0.90511083, \"best_metric\": 0.90854492}, {\"run_id\": \"AutoML_4506947a-35c6-49f0-b99b-37268eeba8fe_30\", \"run_number\": 1717951346, \"metric\": null, \"status\": \"Completed\", \"run_type\": \"azureml.scriptrun\", \"training_percent\": \"100\", \"start_time\": \"2024-06-09T16:42:33.878373Z\", \"end_time\": \"2024-06-09T16:43:19.672935Z\", \"created_time\": \"2024-06-09T16:42:26.931469Z\", \"created_time_dt\": \"2024-06-09T16:42:26.931469Z\", \"duration\": \"0:00:52\", \"iteration\": \"30\", \"goal\": \"AUC_weighted_max\", \"run_name\": \"MinMaxScaler, ExtremeRandomTrees\", \"run_properties\": \"copy=True, feature_range=(0, 1\", \"primary_metric\": 0.74848713, \"best_metric\": 0.90854492}, {\"run_id\": \"AutoML_4506947a-35c6-49f0-b99b-37268eeba8fe_31\", \"run_number\": 1717951378, \"metric\": null, \"status\": \"Completed\", \"run_type\": \"azureml.scriptrun\", \"training_percent\": \"100\", \"start_time\": \"2024-06-09T16:43:05.674026Z\", \"end_time\": \"2024-06-09T16:43:54.51575Z\", \"created_time\": \"2024-06-09T16:42:58.429472Z\", \"created_time_dt\": \"2024-06-09T16:42:58.429472Z\", \"duration\": \"0:00:56\", \"iteration\": \"31\", \"goal\": \"AUC_weighted_max\", \"run_name\": \"SparseNormalizer, LightGBM\", \"run_properties\": \"copy=True, norm='l2'\", \"primary_metric\": 0.87435998, \"best_metric\": 0.90854492}, {\"run_id\": \"AutoML_4506947a-35c6-49f0-b99b-37268eeba8fe_32\", \"run_number\": 1717951388, \"metric\": null, \"status\": \"Completed\", \"run_type\": \"azureml.scriptrun\", \"training_percent\": \"100\", \"start_time\": \"2024-06-09T16:43:15.859406Z\", \"end_time\": \"2024-06-09T16:44:04.026489Z\", \"created_time\": \"2024-06-09T16:43:08.845574Z\", \"created_time_dt\": \"2024-06-09T16:43:08.845574Z\", \"duration\": \"0:00:55\", \"iteration\": \"32\", \"goal\": \"AUC_weighted_max\", \"run_name\": \"MinMaxScaler, RandomForest\", \"run_properties\": \"copy=True, feature_range=(0, 1\", \"primary_metric\": 0.89649862, \"best_metric\": 0.90854492}, {\"run_id\": \"AutoML_4506947a-35c6-49f0-b99b-37268eeba8fe_33\", \"run_number\": 1717951392, \"metric\": null, \"status\": \"Completed\", \"run_type\": \"azureml.scriptrun\", \"training_percent\": \"100\", \"start_time\": \"2024-06-09T16:43:19.420501Z\", \"end_time\": \"2024-06-09T16:44:08.473425Z\", \"created_time\": \"2024-06-09T16:43:12.320586Z\", \"created_time_dt\": \"2024-06-09T16:43:12.320586Z\", \"duration\": \"0:00:56\", \"iteration\": \"33\", \"goal\": \"AUC_weighted_max\", \"run_name\": \"StandardScalerWrapper, XGBoostClassifier\", \"run_properties\": \"copy=True, with_mean=False, with_std=False\", \"primary_metric\": 0.89302286, \"best_metric\": 0.90854492}, {\"run_id\": \"AutoML_4506947a-35c6-49f0-b99b-37268eeba8fe_34\", \"run_number\": 1717951401, \"metric\": null, \"status\": \"Completed\", \"run_type\": \"azureml.scriptrun\", \"training_percent\": \"100\", \"start_time\": \"2024-06-09T16:43:29.36954Z\", \"end_time\": \"2024-06-09T16:44:20.081535Z\", \"created_time\": \"2024-06-09T16:43:21.314451Z\", \"created_time_dt\": \"2024-06-09T16:43:21.314451Z\", \"duration\": \"0:00:58\", \"iteration\": \"34\", \"goal\": \"AUC_weighted_max\", \"run_name\": \"StandardScalerWrapper, SVM\", \"run_properties\": \"copy=True, with_mean=False, with_std=True\", \"primary_metric\": 0.86789992, \"best_metric\": 0.90854492}, {\"run_id\": \"AutoML_4506947a-35c6-49f0-b99b-37268eeba8fe_35\", \"run_number\": 1717951437, \"metric\": null, \"status\": \"Completed\", \"run_type\": \"azureml.scriptrun\", \"training_percent\": \"100\", \"start_time\": \"2024-06-09T16:44:03.870654Z\", \"end_time\": \"2024-06-09T16:44:57.571251Z\", \"created_time\": \"2024-06-09T16:43:57.011587Z\", \"created_time_dt\": \"2024-06-09T16:43:57.011587Z\", \"duration\": \"0:01:00\", \"iteration\": \"35\", \"goal\": \"AUC_weighted_max\", \"run_name\": \"TruncatedSVDWrapper, ExtremeRandomTrees\", \"run_properties\": \"n_components=0.3563157894736842, random_state=None\", \"primary_metric\": 0.79409073, \"best_metric\": 0.90854492}, {\"run_id\": \"AutoML_4506947a-35c6-49f0-b99b-37268eeba8fe_36\", \"run_number\": 1717951445, \"metric\": null, \"status\": \"Completed\", \"run_type\": \"azureml.scriptrun\", \"training_percent\": \"100\", \"start_time\": \"2024-06-09T16:44:12.287053Z\", \"end_time\": \"2024-06-09T16:45:02.037982Z\", \"created_time\": \"2024-06-09T16:44:05.672457Z\", \"created_time_dt\": \"2024-06-09T16:44:05.672457Z\", \"duration\": \"0:00:56\", \"iteration\": \"36\", \"goal\": \"AUC_weighted_max\", \"run_name\": \"RobustScaler, LightGBM\", \"run_properties\": \"copy=True, quantile_range=[10, 90], with_centering=True,\\n             with_scaling=False\", \"primary_metric\": 0.89687691, \"best_metric\": 0.90854492}, {\"run_id\": \"AutoML_4506947a-35c6-49f0-b99b-37268eeba8fe_37\", \"run_number\": 1717951449, \"metric\": null, \"status\": \"Completed\", \"run_type\": \"azureml.scriptrun\", \"training_percent\": \"100\", \"start_time\": \"2024-06-09T16:44:16.47952Z\", \"end_time\": \"2024-06-09T16:45:08.123822Z\", \"created_time\": \"2024-06-09T16:44:09.99169Z\", \"created_time_dt\": \"2024-06-09T16:44:09.99169Z\", \"duration\": \"0:00:58\", \"iteration\": \"37\", \"goal\": \"AUC_weighted_max\", \"run_name\": \"StandardScalerWrapper, LightGBM\", \"run_properties\": \"copy=True, with_mean=False, with_std=True\", \"primary_metric\": 0.90223397, \"best_metric\": 0.90854492}, {\"run_id\": \"AutoML_4506947a-35c6-49f0-b99b-37268eeba8fe_38\", \"run_number\": 1717951461, \"metric\": null, \"status\": \"Canceled\", \"run_type\": \"azureml.scriptrun\", \"training_percent\": \"100\", \"start_time\": \"2024-06-09T16:44:27.897067Z\", \"end_time\": \"2024-06-09T16:45:14.233497Z\", \"created_time\": \"2024-06-09T16:44:21.583954Z\", \"created_time_dt\": \"2024-06-09T16:44:21.583954Z\", \"duration\": \"0:00:52\", \"iteration\": \"38\", \"goal\": \"AUC_weighted_max\", \"run_name\": \"StandardScalerWrapper, LightGBM\", \"run_properties\": \"copy=True, with_mean=False, with_std=False\", \"primary_metric\": 0.87776887, \"best_metric\": 0.90854492}, {\"run_id\": \"AutoML_4506947a-35c6-49f0-b99b-37268eeba8fe_39\", \"run_number\": 1717951499, \"metric\": null, \"status\": \"Canceled\", \"run_type\": \"azureml.scriptrun\", \"training_percent\": \"100\", \"start_time\": \"2024-06-09T16:45:06.040806Z\", \"end_time\": \"2024-06-09T16:45:14.114635Z\", \"created_time\": \"2024-06-09T16:44:59.03069Z\", \"created_time_dt\": \"2024-06-09T16:44:59.03069Z\", \"duration\": \"0:00:15\", \"iteration\": \"39\", \"goal\": null, \"run_name\": \"Canceled\", \"run_properties\": null}, {\"run_id\": \"AutoML_4506947a-35c6-49f0-b99b-37268eeba8fe_40\", \"run_number\": 1717951504, \"metric\": null, \"status\": \"Canceled\", \"run_type\": \"azureml.scriptrun\", \"training_percent\": \"100\", \"start_time\": \"2024-06-09T16:45:08.83636Z\", \"end_time\": \"2024-06-09T16:45:10.833873Z\", \"created_time\": \"2024-06-09T16:45:04.672693Z\", \"created_time_dt\": \"2024-06-09T16:45:04.672693Z\", \"duration\": \"0:00:06\", \"iteration\": \"40\", \"goal\": null, \"run_name\": \"Canceled\", \"run_properties\": null}, {\"run_id\": \"AutoML_4506947a-35c6-49f0-b99b-37268eeba8fe_42\", \"run_number\": 1717951514, \"metric\": null, \"status\": \"Completed\", \"run_type\": \"azureml.scriptrun\", \"training_percent\": \"100\", \"start_time\": \"2024-06-09T16:45:20.936665Z\", \"end_time\": \"2024-06-09T16:46:43.782261Z\", \"created_time\": \"2024-06-09T16:45:14.758765Z\", \"created_time_dt\": \"2024-06-09T16:45:14.758765Z\", \"duration\": \"0:01:29\", \"iteration\": \"42\", \"goal\": \"AUC_weighted_max\", \"run_name\": \"StackEnsemble\", \"run_properties\": \"base_learners=[('24', Pipeline(memory=None, steps=[('standardscalerwrapper', StandardScalerWrapper(copy=True, with_mean=False, with_std=True\", \"primary_metric\": 0.91465822, \"best_metric\": 0.91465822}], \"children_metrics\": {\"categories\": [0], \"series\": {\"f1_score_macro\": [{\"categories\": [\"0\", \"1\", \"2\", \"7\", \"12\", \"17\", \"20\", \"23\", \"24\", \"25\", \"27\", \"28\", \"29\", \"30\", \"31\", \"32\", \"33\", \"34\", \"35\", \"36\", \"37\", \"38\", \"42\"], \"mode\": \"markers\", \"name\": \"f1_score_macro\", \"stepped\": false, \"type\": \"scatter\", \"data\": [0.8120777859845001, 0.7636427931187171, 0.804763996732633, 0.812186235589297, 0.7663110546964017, 0.7958974940227719, 0.8061698949449981, 0.7598585725466711, 0.7936046772202379, 0.8006330096013817, 0.786215673180045, 0.788714198713965, 0.7869105779280785, 0.40276783177038933, 0.7893490509888359, 0.775778097293101, 0.8080096188602581, 0.7870032211938742, 0.500856541662536, 0.7867758423567351, 0.8128203471949572, 0.6712060419055493, 0.5809487340808963]}, {\"categories\": [\"0\", \"1\", \"2\", \"7\", \"12\", \"17\", \"20\", \"23\", \"24\", \"25\", \"27\", \"28\", \"29\", \"30\", \"31\", \"32\", \"33\", \"34\", \"35\", \"36\", \"37\", \"38\", \"42\"], \"mode\": \"lines\", \"name\": \"f1_score_macro_max\", \"stepped\": true, \"type\": \"scatter\", \"data\": [0.8120777859845001, 0.8120777859845001, 0.8120777859845001, 0.812186235589297, 0.812186235589297, 0.812186235589297, 0.812186235589297, 0.812186235589297, 0.812186235589297, 0.812186235589297, 0.812186235589297, 0.812186235589297, 0.812186235589297, 0.812186235589297, 0.812186235589297, 0.812186235589297, 0.812186235589297, 0.812186235589297, 0.812186235589297, 0.812186235589297, 0.8128203471949572, 0.8128203471949572, 0.8128203471949572]}], \"precision_score_macro\": [{\"categories\": [\"0\", \"1\", \"2\", \"7\", \"12\", \"17\", \"20\", \"23\", \"24\", \"25\", \"27\", \"28\", \"29\", \"30\", \"31\", \"32\", \"33\", \"34\", \"35\", \"36\", \"37\", \"38\", \"42\"], \"mode\": \"markers\", \"name\": \"precision_score_macro\", \"stepped\": false, \"type\": \"scatter\", \"data\": [0.8271330541439237, 0.7728764446731198, 0.8536478769457492, 0.8164516585254711, 0.7861326905871193, 0.8017548607501321, 0.8169144878219703, 0.7675269862995453, 0.8042376659288424, 0.8097870275262183, 0.7875959556625098, 0.7836291242242778, 0.8219141378715846, 0.33954802259887, 0.8138482513470638, 0.7961951103692189, 0.8206839144617947, 0.7996426560111211, 0.6121332286730432, 0.8161287429037198, 0.8352673646200595, 0.8332464920700214, 0.5419747625256099]}, {\"categories\": [\"0\", \"1\", \"2\", \"7\", \"12\", \"17\", \"20\", \"23\", \"24\", \"25\", \"27\", \"28\", \"29\", \"30\", \"31\", \"32\", \"33\", \"34\", \"35\", \"36\", \"37\", \"38\", \"42\"], \"mode\": \"lines\", \"name\": \"precision_score_macro_max\", \"stepped\": true, \"type\": \"scatter\", \"data\": [0.8271330541439237, 0.8271330541439237, 0.8536478769457492, 0.8536478769457492, 0.8536478769457492, 0.8536478769457492, 0.8536478769457492, 0.8536478769457492, 0.8536478769457492, 0.8536478769457492, 0.8536478769457492, 0.8536478769457492, 0.8536478769457492, 0.8536478769457492, 0.8536478769457492, 0.8536478769457492, 0.8536478769457492, 0.8536478769457492, 0.8536478769457492, 0.8536478769457492, 0.8536478769457492, 0.8536478769457492, 0.8536478769457492]}], \"matthews_correlation\": [{\"categories\": [\"0\", \"1\", \"2\", \"7\", \"12\", \"17\", \"20\", \"23\", \"24\", \"25\", \"27\", \"28\", \"29\", \"30\", \"31\", \"32\", \"33\", \"34\", \"35\", \"36\", \"37\", \"38\", \"42\"], \"mode\": \"markers\", \"name\": \"matthews_correlation\", \"stepped\": false, \"type\": \"scatter\", \"data\": [0.6403744433261381, 0.5478472403974567, 0.6437557233009398, 0.6376013621235381, 0.5562547050286835, 0.608567638948067, 0.630955231042378, 0.5556865630828713, 0.6084090515144688, 0.6231084173135237, 0.5910071096629637, 0.5892183419529886, 0.6024434528114405, 0.0, 0.6034519113576529, 0.5759279034195106, 0.6322650494015134, 0.5870903831815588, 0.18897891275923656, 0.6002656736676906, 0.6516975740828727, 0.46820283513275707, 0.27815367389988604]}, {\"categories\": [\"0\", \"1\", \"2\", \"7\", \"12\", \"17\", \"20\", \"23\", \"24\", \"25\", \"27\", \"28\", \"29\", \"30\", \"31\", \"32\", \"33\", \"34\", \"35\", \"36\", \"37\", \"38\", \"42\"], \"mode\": \"lines\", \"name\": \"matthews_correlation_max\", \"stepped\": true, \"type\": \"scatter\", \"data\": [0.6403744433261381, 0.6403744433261381, 0.6437557233009398, 0.6437557233009398, 0.6437557233009398, 0.6437557233009398, 0.6437557233009398, 0.6437557233009398, 0.6437557233009398, 0.6437557233009398, 0.6437557233009398, 0.6437557233009398, 0.6437557233009398, 0.6437557233009398, 0.6437557233009398, 0.6437557233009398, 0.6437557233009398, 0.6437557233009398, 0.6437557233009398, 0.6437557233009398, 0.6516975740828727, 0.6516975740828727, 0.6516975740828727]}], \"AUC_macro\": [{\"categories\": [\"0\", \"1\", \"2\", \"7\", \"12\", \"17\", \"20\", \"23\", \"24\", \"25\", \"27\", \"28\", \"29\", \"30\", \"31\", \"32\", \"33\", \"34\", \"35\", \"36\", \"37\", \"38\", \"42\"], \"mode\": \"markers\", \"name\": \"AUC_macro\", \"stepped\": false, \"type\": \"scatter\", \"data\": [0.8923947259136213, 0.8994019933554818, 0.8671584763750462, 0.893719822812846, 0.8676549003322259, 0.9000345607235143, 0.9075534791435954, 0.8691333748615726, 0.908544919712071, 0.9082451088962717, 0.9022783084163898, 0.8692159468438538, 0.9051108342561832, 0.7484871262458472, 0.874359980620155, 0.8964986157253598, 0.8930228636028055, 0.8678999169435215, 0.7940907276670357, 0.8968769149132522, 0.9022339654854189, 0.8777688722775931, 0.9146582225913622]}, {\"categories\": [\"0\", \"1\", \"2\", \"7\", \"12\", \"17\", \"20\", \"23\", \"24\", \"25\", \"27\", \"28\", \"29\", \"30\", \"31\", \"32\", \"33\", \"34\", \"35\", \"36\", \"37\", \"38\", \"42\"], \"mode\": \"lines\", \"name\": \"AUC_macro_max\", \"stepped\": true, \"type\": \"scatter\", \"data\": [0.8923947259136213, 0.8994019933554818, 0.8994019933554818, 0.8994019933554818, 0.8994019933554818, 0.9000345607235143, 0.9075534791435954, 0.9075534791435954, 0.908544919712071, 0.908544919712071, 0.908544919712071, 0.908544919712071, 0.908544919712071, 0.908544919712071, 0.908544919712071, 0.908544919712071, 0.908544919712071, 0.908544919712071, 0.908544919712071, 0.908544919712071, 0.908544919712071, 0.908544919712071, 0.9146582225913622]}], \"recall_score_macro\": [{\"categories\": [\"0\", \"1\", \"2\", \"7\", \"12\", \"17\", \"20\", \"23\", \"24\", \"25\", \"27\", \"28\", \"29\", \"30\", \"31\", \"32\", \"33\", \"34\", \"35\", \"36\", \"37\", \"38\", \"42\"], \"mode\": \"markers\", \"name\": \"recall_score_macro\", \"stepped\": false, \"type\": \"scatter\", \"data\": [0.8149916943521595, 0.7767781007751939, 0.7945196566998893, 0.8222452934662238, 0.772296511627907, 0.8082232834994464, 0.8154215116279071, 0.790264396456257, 0.8059018549280179, 0.815485188261351, 0.8048816445182725, 0.8067566445182723, 0.7836184939091916, 0.5, 0.7921899224806201, 0.782092331118494, 0.8128066168327797, 0.7886994739756368, 0.5533333333333333, 0.7866798172757475, 0.8190053986710965, 0.6695238095238094, 0.6425]}, {\"categories\": [\"0\", \"1\", \"2\", \"7\", \"12\", \"17\", \"20\", \"23\", \"24\", \"25\", \"27\", \"28\", \"29\", \"30\", \"31\", \"32\", \"33\", \"34\", \"35\", \"36\", \"37\", \"38\", \"42\"], \"mode\": \"lines\", \"name\": \"recall_score_macro_max\", \"stepped\": true, \"type\": \"scatter\", \"data\": [0.8149916943521595, 0.8149916943521595, 0.8149916943521595, 0.8222452934662238, 0.8222452934662238, 0.8222452934662238, 0.8222452934662238, 0.8222452934662238, 0.8222452934662238, 0.8222452934662238, 0.8222452934662238, 0.8222452934662238, 0.8222452934662238, 0.8222452934662238, 0.8222452934662238, 0.8222452934662238, 0.8222452934662238, 0.8222452934662238, 0.8222452934662238, 0.8222452934662238, 0.8222452934662238, 0.8222452934662238, 0.8222452934662238]}], \"f1_score_micro\": [{\"categories\": [\"0\", \"1\", \"2\", \"7\", \"12\", \"17\", \"20\", \"23\", \"24\", \"25\", \"27\", \"28\", \"29\", \"30\", \"31\", \"32\", \"33\", \"34\", \"35\", \"36\", \"37\", \"38\", \"42\"], \"mode\": \"markers\", \"name\": \"f1_score_micro\", \"stepped\": false, \"type\": \"scatter\", \"data\": [0.8428248587570621, 0.7990395480225988, 0.8428813559322034, 0.8394915254237286, 0.8091525423728815, 0.8260451977401131, 0.8359887005649718, 0.7858757062146893, 0.8259887005649718, 0.8325988700564972, 0.8158757062146892, 0.8159322033898306, 0.8293785310734464, 0.67909604519774, 0.8261016949152541, 0.8191525423728814, 0.8392655367231638, 0.8258757062146891, 0.70909604519774, 0.8260451977401131, 0.8461016949152542, 0.7693220338983051, 0.7557627118644068]}, {\"categories\": [\"0\", \"1\", \"2\", \"7\", \"12\", \"17\", \"20\", \"23\", \"24\", \"25\", \"27\", \"28\", \"29\", \"30\", \"31\", \"32\", \"33\", \"34\", \"35\", \"36\", \"37\", \"38\", \"42\"], \"mode\": \"lines\", \"name\": \"f1_score_micro_max\", \"stepped\": true, \"type\": \"scatter\", \"data\": [0.8428248587570621, 0.8428248587570621, 0.8428813559322034, 0.8428813559322034, 0.8428813559322034, 0.8428813559322034, 0.8428813559322034, 0.8428813559322034, 0.8428813559322034, 0.8428813559322034, 0.8428813559322034, 0.8428813559322034, 0.8428813559322034, 0.8428813559322034, 0.8428813559322034, 0.8428813559322034, 0.8428813559322034, 0.8428813559322034, 0.8428813559322034, 0.8428813559322034, 0.8461016949152542, 0.8461016949152542, 0.8461016949152542]}], \"recall_score_micro\": [{\"categories\": [\"0\", \"1\", \"2\", \"7\", \"12\", \"17\", \"20\", \"23\", \"24\", \"25\", \"27\", \"28\", \"29\", \"30\", \"31\", \"32\", \"33\", \"34\", \"35\", \"36\", \"37\", \"38\", \"42\"], \"mode\": \"markers\", \"name\": \"recall_score_micro\", \"stepped\": false, \"type\": \"scatter\", \"data\": [0.8428248587570621, 0.7990395480225988, 0.8428813559322034, 0.8394915254237286, 0.8091525423728815, 0.8260451977401131, 0.8359887005649718, 0.7858757062146893, 0.8259887005649718, 0.8325988700564972, 0.8158757062146892, 0.8159322033898304, 0.8293785310734464, 0.67909604519774, 0.8261016949152541, 0.8191525423728814, 0.8392655367231638, 0.8258757062146891, 0.70909604519774, 0.8260451977401131, 0.8461016949152542, 0.7693220338983051, 0.7557627118644068]}, {\"categories\": [\"0\", \"1\", \"2\", \"7\", \"12\", \"17\", \"20\", \"23\", \"24\", \"25\", \"27\", \"28\", \"29\", \"30\", \"31\", \"32\", \"33\", \"34\", \"35\", \"36\", \"37\", \"38\", \"42\"], \"mode\": \"lines\", \"name\": \"recall_score_micro_max\", \"stepped\": true, \"type\": \"scatter\", \"data\": [0.8428248587570621, 0.8428248587570621, 0.8428813559322034, 0.8428813559322034, 0.8428813559322034, 0.8428813559322034, 0.8428813559322034, 0.8428813559322034, 0.8428813559322034, 0.8428813559322034, 0.8428813559322034, 0.8428813559322034, 0.8428813559322034, 0.8428813559322034, 0.8428813559322034, 0.8428813559322034, 0.8428813559322034, 0.8428813559322034, 0.8428813559322034, 0.8428813559322034, 0.8461016949152542, 0.8461016949152542, 0.8461016949152542]}], \"log_loss\": [{\"categories\": [\"0\", \"1\", \"2\", \"7\", \"12\", \"17\", \"20\", \"23\", \"24\", \"25\", \"27\", \"28\", \"29\", \"30\", \"31\", \"32\", \"33\", \"34\", \"35\", \"36\", \"37\", \"38\", \"42\"], \"mode\": \"markers\", \"name\": \"log_loss\", \"stepped\": false, \"type\": \"scatter\", \"data\": [0.5079173229698006, 0.5366856118898333, 0.43445313789058454, 0.407921390424309, 0.4332134764676658, 0.3885082185018985, 0.3860584048665845, 0.47132881360161943, 0.38618260152222755, 0.42858047248401354, 0.48309419517702895, 0.5825411532279892, 0.4277848782289677, 0.6017755738565901, 0.4183195428572343, 0.4025457265818816, 0.5054116701095219, 0.42480309594007615, 0.561471577838773, 0.42474754516962143, 0.37980072911401697, 0.48503375514409586, 0.5251372596062126]}, {\"categories\": [\"0\", \"1\", \"2\", \"7\", \"12\", \"17\", \"20\", \"23\", \"24\", \"25\", \"27\", \"28\", \"29\", \"30\", \"31\", \"32\", \"33\", \"34\", \"35\", \"36\", \"37\", \"38\", \"42\"], \"mode\": \"lines\", \"name\": \"log_loss_min\", \"stepped\": true, \"type\": \"scatter\", \"data\": [0.5079173229698006, 0.5079173229698006, 0.43445313789058454, 0.407921390424309, 0.407921390424309, 0.3885082185018985, 0.3860584048665845, 0.3860584048665845, 0.3860584048665845, 0.3860584048665845, 0.3860584048665845, 0.3860584048665845, 0.3860584048665845, 0.3860584048665845, 0.3860584048665845, 0.3860584048665845, 0.3860584048665845, 0.3860584048665845, 0.3860584048665845, 0.3860584048665845, 0.37980072911401697, 0.37980072911401697, 0.37980072911401697]}], \"balanced_accuracy\": [{\"categories\": [\"0\", \"1\", \"2\", \"7\", \"12\", \"17\", \"20\", \"23\", \"24\", \"25\", \"27\", \"28\", \"29\", \"30\", \"31\", \"32\", \"33\", \"34\", \"35\", \"36\", \"37\", \"38\", \"42\"], \"mode\": \"markers\", \"name\": \"balanced_accuracy\", \"stepped\": false, \"type\": \"scatter\", \"data\": [0.8149916943521595, 0.7767781007751939, 0.7945196566998893, 0.8222452934662238, 0.772296511627907, 0.8082232834994464, 0.8154215116279071, 0.790264396456257, 0.8059018549280179, 0.815485188261351, 0.8048816445182725, 0.8067566445182723, 0.7836184939091916, 0.5, 0.7921899224806201, 0.782092331118494, 0.8128066168327797, 0.7886994739756368, 0.5533333333333333, 0.7866798172757475, 0.8190053986710965, 0.6695238095238094, 0.6425]}, {\"categories\": [\"0\", \"1\", \"2\", \"7\", \"12\", \"17\", \"20\", \"23\", \"24\", \"25\", \"27\", \"28\", \"29\", \"30\", \"31\", \"32\", \"33\", \"34\", \"35\", \"36\", \"37\", \"38\", \"42\"], \"mode\": \"lines\", \"name\": \"balanced_accuracy_max\", \"stepped\": true, \"type\": \"scatter\", \"data\": [0.8149916943521595, 0.8149916943521595, 0.8149916943521595, 0.8222452934662238, 0.8222452934662238, 0.8222452934662238, 0.8222452934662238, 0.8222452934662238, 0.8222452934662238, 0.8222452934662238, 0.8222452934662238, 0.8222452934662238, 0.8222452934662238, 0.8222452934662238, 0.8222452934662238, 0.8222452934662238, 0.8222452934662238, 0.8222452934662238, 0.8222452934662238, 0.8222452934662238, 0.8222452934662238, 0.8222452934662238, 0.8222452934662238]}], \"AUC_micro\": [{\"categories\": [\"0\", \"1\", \"2\", \"7\", \"12\", \"17\", \"20\", \"23\", \"24\", \"25\", \"27\", \"28\", \"29\", \"30\", \"31\", \"32\", \"33\", \"34\", \"35\", \"36\", \"37\", \"38\", \"42\"], \"mode\": \"markers\", \"name\": \"AUC_micro\", \"stepped\": false, \"type\": \"scatter\", \"data\": [0.897662453318012, 0.9000133582303936, 0.8829416674646493, 0.9048044144402949, 0.8804269526636663, 0.9094074659261386, 0.9106301669379808, 0.862653452073159, 0.9111709917328993, 0.9111311085575664, 0.9089264738740465, 0.8805684509559832, 0.9049919882536948, 0.7828153946822433, 0.8893628267739155, 0.902059896581442, 0.9009630214816944, 0.8884138896868714, 0.8061567716811899, 0.8999402310957898, 0.9104131635226148, 0.8658637843531551, 0.8807146892655368]}, {\"categories\": [\"0\", \"1\", \"2\", \"7\", \"12\", \"17\", \"20\", \"23\", \"24\", \"25\", \"27\", \"28\", \"29\", \"30\", \"31\", \"32\", \"33\", \"34\", \"35\", \"36\", \"37\", \"38\", \"42\"], \"mode\": \"lines\", \"name\": \"AUC_micro_max\", \"stepped\": true, \"type\": \"scatter\", \"data\": [0.897662453318012, 0.9000133582303936, 0.9000133582303936, 0.9048044144402949, 0.9048044144402949, 0.9094074659261386, 0.9106301669379808, 0.9106301669379808, 0.9111709917328993, 0.9111709917328993, 0.9111709917328993, 0.9111709917328993, 0.9111709917328993, 0.9111709917328993, 0.9111709917328993, 0.9111709917328993, 0.9111709917328993, 0.9111709917328993, 0.9111709917328993, 0.9111709917328993, 0.9111709917328993, 0.9111709917328993, 0.9111709917328993]}], \"average_precision_score_weighted\": [{\"categories\": [\"0\", \"1\", \"2\", \"7\", \"12\", \"17\", \"20\", \"23\", \"24\", \"25\", \"27\", \"28\", \"29\", \"30\", \"31\", \"32\", \"33\", \"34\", \"35\", \"36\", \"37\", \"38\", \"42\"], \"mode\": \"markers\", \"name\": \"average_precision_score_weighted\", \"stepped\": false, \"type\": \"scatter\", \"data\": [0.9092107718745325, 0.9114031940363579, 0.8842816766832285, 0.9046667448257812, 0.8848989790310146, 0.9131450073792055, 0.9200048802552347, 0.8863500823827926, 0.9206693817516115, 0.919332820633595, 0.9117200121411685, 0.8884908584357568, 0.9164114428507764, 0.7788405344307974, 0.8965497944181404, 0.9079863339161698, 0.9075882833752724, 0.8869199621373725, 0.8157399418548902, 0.9107541914824611, 0.9156526214900124, 0.8987397375354907, 0.9208689771270056]}, {\"categories\": [\"0\", \"1\", \"2\", \"7\", \"12\", \"17\", \"20\", \"23\", \"24\", \"25\", \"27\", \"28\", \"29\", \"30\", \"31\", \"32\", \"33\", \"34\", \"35\", \"36\", \"37\", \"38\", \"42\"], \"mode\": \"lines\", \"name\": \"average_precision_score_weighted_max\", \"stepped\": true, \"type\": \"scatter\", \"data\": [0.9092107718745325, 0.9114031940363579, 0.9114031940363579, 0.9114031940363579, 0.9114031940363579, 0.9131450073792055, 0.9200048802552347, 0.9200048802552347, 0.9206693817516115, 0.9206693817516115, 0.9206693817516115, 0.9206693817516115, 0.9206693817516115, 0.9206693817516115, 0.9206693817516115, 0.9206693817516115, 0.9206693817516115, 0.9206693817516115, 0.9206693817516115, 0.9206693817516115, 0.9206693817516115, 0.9206693817516115, 0.9208689771270056]}], \"weighted_accuracy\": [{\"categories\": [\"0\", \"1\", \"2\", \"7\", \"12\", \"17\", \"20\", \"23\", \"24\", \"25\", \"27\", \"28\", \"29\", \"30\", \"31\", \"32\", \"33\", \"34\", \"35\", \"36\", \"37\", \"38\", \"42\"], \"mode\": \"markers\", \"name\": \"weighted_accuracy\", \"stepped\": false, \"type\": \"scatter\", \"data\": [0.8612928020219082, 0.8146760326647635, 0.8770090605851152, 0.8514163685695835, 0.8339718055595053, 0.8382531457331004, 0.8498160820336796, 0.7831220691585233, 0.8396356105766042, 0.8450958127097138, 0.8228350559697111, 0.8217357769669151, 0.8604943197719255, 0.7971865900207855, 0.8501706784578336, 0.8448019188673094, 0.8579578637248101, 0.8518088345547794, 0.8101669821776483, 0.854272223122112, 0.8643577338109483, 0.8385972130344161, 0.8211865900207854]}, {\"categories\": [\"0\", \"1\", \"2\", \"7\", \"12\", \"17\", \"20\", \"23\", \"24\", \"25\", \"27\", \"28\", \"29\", \"30\", \"31\", \"32\", \"33\", \"34\", \"35\", \"36\", \"37\", \"38\", \"42\"], \"mode\": \"lines\", \"name\": \"weighted_accuracy_max\", \"stepped\": true, \"type\": \"scatter\", \"data\": [0.8612928020219082, 0.8612928020219082, 0.8770090605851152, 0.8770090605851152, 0.8770090605851152, 0.8770090605851152, 0.8770090605851152, 0.8770090605851152, 0.8770090605851152, 0.8770090605851152, 0.8770090605851152, 0.8770090605851152, 0.8770090605851152, 0.8770090605851152, 0.8770090605851152, 0.8770090605851152, 0.8770090605851152, 0.8770090605851152, 0.8770090605851152, 0.8770090605851152, 0.8770090605851152, 0.8770090605851152, 0.8770090605851152]}], \"recall_score_weighted\": [{\"categories\": [\"0\", \"1\", \"2\", \"7\", \"12\", \"17\", \"20\", \"23\", \"24\", \"25\", \"27\", \"28\", \"29\", \"30\", \"31\", \"32\", \"33\", \"34\", \"35\", \"36\", \"37\", \"38\", \"42\"], \"mode\": \"markers\", \"name\": \"recall_score_weighted\", \"stepped\": false, \"type\": \"scatter\", \"data\": [0.8428248587570621, 0.7990395480225988, 0.8428813559322034, 0.8394915254237286, 0.8091525423728815, 0.8260451977401131, 0.8359887005649718, 0.7858757062146893, 0.8259887005649718, 0.8325988700564972, 0.8158757062146892, 0.8159322033898304, 0.8293785310734464, 0.67909604519774, 0.8261016949152541, 0.8191525423728814, 0.8392655367231638, 0.8258757062146891, 0.70909604519774, 0.8260451977401131, 0.8461016949152542, 0.7693220338983051, 0.7557627118644068]}, {\"categories\": [\"0\", \"1\", \"2\", \"7\", \"12\", \"17\", \"20\", \"23\", \"24\", \"25\", \"27\", \"28\", \"29\", \"30\", \"31\", \"32\", \"33\", \"34\", \"35\", \"36\", \"37\", \"38\", \"42\"], \"mode\": \"lines\", \"name\": \"recall_score_weighted_max\", \"stepped\": true, \"type\": \"scatter\", \"data\": [0.8428248587570621, 0.8428248587570621, 0.8428813559322034, 0.8428813559322034, 0.8428813559322034, 0.8428813559322034, 0.8428813559322034, 0.8428813559322034, 0.8428813559322034, 0.8428813559322034, 0.8428813559322034, 0.8428813559322034, 0.8428813559322034, 0.8428813559322034, 0.8428813559322034, 0.8428813559322034, 0.8428813559322034, 0.8428813559322034, 0.8428813559322034, 0.8428813559322034, 0.8461016949152542, 0.8461016949152542, 0.8461016949152542]}], \"norm_macro_recall\": [{\"categories\": [\"0\", \"1\", \"2\", \"7\", \"12\", \"17\", \"20\", \"23\", \"24\", \"25\", \"27\", \"28\", \"29\", \"30\", \"31\", \"32\", \"33\", \"34\", \"35\", \"36\", \"37\", \"38\", \"42\"], \"mode\": \"markers\", \"name\": \"norm_macro_recall\", \"stepped\": false, \"type\": \"scatter\", \"data\": [0.6299833887043189, 0.5535562015503876, 0.5890393133997787, 0.6444905869324474, 0.5445930232558138, 0.6164465669988927, 0.630843023255814, 0.5805287929125138, 0.6118037098560356, 0.630970376522702, 0.6097632890365449, 0.6135132890365449, 0.5672369878183832, 0.0, 0.5843798449612404, 0.5641846622369877, 0.6256132336655591, 0.5773989479512736, 0.10666666666666665, 0.5733596345514951, 0.6380107973421927, 0.33904761904761904, 0.285]}, {\"categories\": [\"0\", \"1\", \"2\", \"7\", \"12\", \"17\", \"20\", \"23\", \"24\", \"25\", \"27\", \"28\", \"29\", \"30\", \"31\", \"32\", \"33\", \"34\", \"35\", \"36\", \"37\", \"38\", \"42\"], \"mode\": \"lines\", \"name\": \"norm_macro_recall_max\", \"stepped\": true, \"type\": \"scatter\", \"data\": [0.6299833887043189, 0.6299833887043189, 0.6299833887043189, 0.6444905869324474, 0.6444905869324474, 0.6444905869324474, 0.6444905869324474, 0.6444905869324474, 0.6444905869324474, 0.6444905869324474, 0.6444905869324474, 0.6444905869324474, 0.6444905869324474, 0.6444905869324474, 0.6444905869324474, 0.6444905869324474, 0.6444905869324474, 0.6444905869324474, 0.6444905869324474, 0.6444905869324474, 0.6444905869324474, 0.6444905869324474, 0.6444905869324474]}], \"f1_score_weighted\": [{\"categories\": [\"0\", \"1\", \"2\", \"7\", \"12\", \"17\", \"20\", \"23\", \"24\", \"25\", \"27\", \"28\", \"29\", \"30\", \"31\", \"32\", \"33\", \"34\", \"35\", \"36\", \"37\", \"38\", \"42\"], \"mode\": \"markers\", \"name\": \"f1_score_weighted\", \"stepped\": false, \"type\": \"scatter\", \"data\": [0.8401132576354581, 0.7983021588727263, 0.834120677090816, 0.839681840217741, 0.8051394033601141, 0.8258914891660962, 0.8338067746267764, 0.7912950576013326, 0.8245632055910146, 0.8306109984665241, 0.8179978370808116, 0.8186491880816172, 0.8220474388328082, 0.5526564268547016, 0.8216087793209473, 0.8125961840499281, 0.8362427490276214, 0.8229400120094089, 0.6187360277251777, 0.8188805585915363, 0.8403606948068555, 0.7290378318239051, 0.6834312589080309]}, {\"categories\": [\"0\", \"1\", \"2\", \"7\", \"12\", \"17\", \"20\", \"23\", \"24\", \"25\", \"27\", \"28\", \"29\", \"30\", \"31\", \"32\", \"33\", \"34\", \"35\", \"36\", \"37\", \"38\", \"42\"], \"mode\": \"lines\", \"name\": \"f1_score_weighted_max\", \"stepped\": true, \"type\": \"scatter\", \"data\": [0.8401132576354581, 0.8401132576354581, 0.8401132576354581, 0.8401132576354581, 0.8401132576354581, 0.8401132576354581, 0.8401132576354581, 0.8401132576354581, 0.8401132576354581, 0.8401132576354581, 0.8401132576354581, 0.8401132576354581, 0.8401132576354581, 0.8401132576354581, 0.8401132576354581, 0.8401132576354581, 0.8401132576354581, 0.8401132576354581, 0.8401132576354581, 0.8401132576354581, 0.8403606948068555, 0.8403606948068555, 0.8403606948068555]}], \"average_precision_score_micro\": [{\"categories\": [\"0\", \"1\", \"2\", \"7\", \"12\", \"17\", \"20\", \"23\", \"24\", \"25\", \"27\", \"28\", \"29\", \"30\", \"31\", \"32\", \"33\", \"34\", \"35\", \"36\", \"37\", \"38\", \"42\"], \"mode\": \"markers\", \"name\": \"average_precision_score_micro\", \"stepped\": false, \"type\": \"scatter\", \"data\": [0.9006531196119575, 0.9039703508796872, 0.8756713184736136, 0.9050258374957844, 0.880931148420539, 0.9062461265222248, 0.9120777617258359, 0.8608765100620543, 0.9097724909987746, 0.911907156272117, 0.9087056937756067, 0.8798119702248869, 0.9044688199173609, 0.7837405700893488, 0.8904004030603627, 0.9058722737231785, 0.9039024208531673, 0.890666998220938, 0.807067709757502, 0.9012836636618482, 0.9093736862546603, 0.8736532393590289, 0.8889336801361185]}, {\"categories\": [\"0\", \"1\", \"2\", \"7\", \"12\", \"17\", \"20\", \"23\", \"24\", \"25\", \"27\", \"28\", \"29\", \"30\", \"31\", \"32\", \"33\", \"34\", \"35\", \"36\", \"37\", \"38\", \"42\"], \"mode\": \"lines\", \"name\": \"average_precision_score_micro_max\", \"stepped\": true, \"type\": \"scatter\", \"data\": [0.9006531196119575, 0.9039703508796872, 0.9039703508796872, 0.9050258374957844, 0.9050258374957844, 0.9062461265222248, 0.9120777617258359, 0.9120777617258359, 0.9120777617258359, 0.9120777617258359, 0.9120777617258359, 0.9120777617258359, 0.9120777617258359, 0.9120777617258359, 0.9120777617258359, 0.9120777617258359, 0.9120777617258359, 0.9120777617258359, 0.9120777617258359, 0.9120777617258359, 0.9120777617258359, 0.9120777617258359, 0.9120777617258359]}], \"AUC_weighted\": [{\"categories\": [\"0\", \"1\", \"2\", \"7\", \"12\", \"17\", \"20\", \"23\", \"24\", \"25\", \"27\", \"28\", \"29\", \"30\", \"31\", \"32\", \"33\", \"34\", \"35\", \"36\", \"37\", \"38\", \"42\"], \"mode\": \"markers\", \"name\": \"AUC_weighted\", \"stepped\": false, \"type\": \"scatter\", \"data\": [0.8923947259136213, 0.8994019933554818, 0.8671584763750462, 0.893719822812846, 0.8676549003322258, 0.9000345607235142, 0.9075534791435954, 0.8691333748615726, 0.908544919712071, 0.9082451088962717, 0.9022783084163898, 0.8692159468438538, 0.9051108342561832, 0.7484871262458472, 0.8743599806201552, 0.8964986157253598, 0.8930228636028055, 0.8678999169435218, 0.7940907276670357, 0.8968769149132522, 0.9022339654854189, 0.8777688722775931, 0.9146582225913622]}, {\"categories\": [\"0\", \"1\", \"2\", \"7\", \"12\", \"17\", \"20\", \"23\", \"24\", \"25\", \"27\", \"28\", \"29\", \"30\", \"31\", \"32\", \"33\", \"34\", \"35\", \"36\", \"37\", \"38\", \"42\"], \"mode\": \"lines\", \"name\": \"AUC_weighted_max\", \"stepped\": true, \"type\": \"scatter\", \"data\": [0.8923947259136213, 0.8994019933554818, 0.8994019933554818, 0.8994019933554818, 0.8994019933554818, 0.9000345607235142, 0.9075534791435954, 0.9075534791435954, 0.908544919712071, 0.908544919712071, 0.908544919712071, 0.908544919712071, 0.908544919712071, 0.908544919712071, 0.908544919712071, 0.908544919712071, 0.908544919712071, 0.908544919712071, 0.908544919712071, 0.908544919712071, 0.908544919712071, 0.908544919712071, 0.9146582225913622]}], \"precision_score_micro\": [{\"categories\": [\"0\", \"1\", \"2\", \"7\", \"12\", \"17\", \"20\", \"23\", \"24\", \"25\", \"27\", \"28\", \"29\", \"30\", \"31\", \"32\", \"33\", \"34\", \"35\", \"36\", \"37\", \"38\", \"42\"], \"mode\": \"markers\", \"name\": \"precision_score_micro\", \"stepped\": false, \"type\": \"scatter\", \"data\": [0.8428248587570621, 0.7990395480225988, 0.8428813559322034, 0.8394915254237286, 0.8091525423728815, 0.8260451977401131, 0.8359887005649718, 0.7858757062146893, 0.8259887005649718, 0.8325988700564972, 0.8158757062146892, 0.8159322033898304, 0.8293785310734464, 0.67909604519774, 0.8261016949152541, 0.8191525423728814, 0.8392655367231638, 0.8258757062146891, 0.70909604519774, 0.8260451977401131, 0.8461016949152542, 0.7693220338983051, 0.7557627118644068]}, {\"categories\": [\"0\", \"1\", \"2\", \"7\", \"12\", \"17\", \"20\", \"23\", \"24\", \"25\", \"27\", \"28\", \"29\", \"30\", \"31\", \"32\", \"33\", \"34\", \"35\", \"36\", \"37\", \"38\", \"42\"], \"mode\": \"lines\", \"name\": \"precision_score_micro_max\", \"stepped\": true, \"type\": \"scatter\", \"data\": [0.8428248587570621, 0.8428248587570621, 0.8428813559322034, 0.8428813559322034, 0.8428813559322034, 0.8428813559322034, 0.8428813559322034, 0.8428813559322034, 0.8428813559322034, 0.8428813559322034, 0.8428813559322034, 0.8428813559322034, 0.8428813559322034, 0.8428813559322034, 0.8428813559322034, 0.8428813559322034, 0.8428813559322034, 0.8428813559322034, 0.8428813559322034, 0.8428813559322034, 0.8461016949152542, 0.8461016949152542, 0.8461016949152542]}], \"average_precision_score_macro\": [{\"categories\": [\"0\", \"1\", \"2\", \"7\", \"12\", \"17\", \"20\", \"23\", \"24\", \"25\", \"27\", \"28\", \"29\", \"30\", \"31\", \"32\", \"33\", \"34\", \"35\", \"36\", \"37\", \"38\", \"42\"], \"mode\": \"markers\", \"name\": \"average_precision_score_macro\", \"stepped\": false, \"type\": \"scatter\", \"data\": [0.8827295343890258, 0.8807688807704117, 0.8592423834201581, 0.8748490572896598, 0.8498657091916589, 0.8885807559140592, 0.8959514588649826, 0.8495986530648967, 0.896887973875554, 0.8911625304161206, 0.8851226718094176, 0.8576533576118626, 0.8938825892863449, 0.7237027587797387, 0.8716703815547877, 0.8772682827803194, 0.8797548729188958, 0.8497619897080171, 0.7706384688139961, 0.8872378246548797, 0.8919729697869186, 0.8723274664269756, 0.8946074084273435]}, {\"categories\": [\"0\", \"1\", \"2\", \"7\", \"12\", \"17\", \"20\", \"23\", \"24\", \"25\", \"27\", \"28\", \"29\", \"30\", \"31\", \"32\", \"33\", \"34\", \"35\", \"36\", \"37\", \"38\", \"42\"], \"mode\": \"lines\", \"name\": \"average_precision_score_macro_max\", \"stepped\": true, \"type\": \"scatter\", \"data\": [0.8827295343890258, 0.8827295343890258, 0.8827295343890258, 0.8827295343890258, 0.8827295343890258, 0.8885807559140592, 0.8959514588649826, 0.8959514588649826, 0.896887973875554, 0.896887973875554, 0.896887973875554, 0.896887973875554, 0.896887973875554, 0.896887973875554, 0.896887973875554, 0.896887973875554, 0.896887973875554, 0.896887973875554, 0.896887973875554, 0.896887973875554, 0.896887973875554, 0.896887973875554, 0.896887973875554]}], \"accuracy\": [{\"categories\": [\"0\", \"1\", \"2\", \"7\", \"12\", \"17\", \"20\", \"23\", \"24\", \"25\", \"27\", \"28\", \"29\", \"30\", \"31\", \"32\", \"33\", \"34\", \"35\", \"36\", \"37\", \"38\", \"42\"], \"mode\": \"markers\", \"name\": \"accuracy\", \"stepped\": false, \"type\": \"scatter\", \"data\": [0.8428248587570621, 0.7990395480225988, 0.8428813559322034, 0.8394915254237286, 0.8091525423728815, 0.8260451977401131, 0.8359887005649718, 0.7858757062146893, 0.8259887005649718, 0.8325988700564972, 0.8158757062146892, 0.8159322033898304, 0.8293785310734464, 0.67909604519774, 0.8261016949152541, 0.8191525423728814, 0.8392655367231638, 0.8258757062146891, 0.70909604519774, 0.8260451977401131, 0.8461016949152542, 0.7693220338983051, 0.7557627118644068]}, {\"categories\": [\"0\", \"1\", \"2\", \"7\", \"12\", \"17\", \"20\", \"23\", \"24\", \"25\", \"27\", \"28\", \"29\", \"30\", \"31\", \"32\", \"33\", \"34\", \"35\", \"36\", \"37\", \"38\", \"42\"], \"mode\": \"lines\", \"name\": \"accuracy_max\", \"stepped\": true, \"type\": \"scatter\", \"data\": [0.8428248587570621, 0.8428248587570621, 0.8428813559322034, 0.8428813559322034, 0.8428813559322034, 0.8428813559322034, 0.8428813559322034, 0.8428813559322034, 0.8428813559322034, 0.8428813559322034, 0.8428813559322034, 0.8428813559322034, 0.8428813559322034, 0.8428813559322034, 0.8428813559322034, 0.8428813559322034, 0.8428813559322034, 0.8428813559322034, 0.8428813559322034, 0.8428813559322034, 0.8461016949152542, 0.8461016949152542, 0.8461016949152542]}], \"precision_score_weighted\": [{\"categories\": [\"0\", \"1\", \"2\", \"7\", \"12\", \"17\", \"20\", \"23\", \"24\", \"25\", \"27\", \"28\", \"29\", \"30\", \"31\", \"32\", \"33\", \"34\", \"35\", \"36\", \"37\", \"38\", \"42\"], \"mode\": \"markers\", \"name\": \"precision_score_weighted\", \"stepped\": false, \"type\": \"scatter\", \"data\": [0.8524277365010601, 0.817589181790621, 0.8589528976853174, 0.8519612531460184, 0.8248060230194989, 0.8416074206616081, 0.8503725952097358, 0.8281063748160429, 0.8433115037726203, 0.8489080940409662, 0.8368427974580035, 0.8313498435525574, 0.8435046547127326, 0.4689005075169971, 0.8416220128033624, 0.8298356624901654, 0.8489424577976766, 0.832034080020879, 0.6327090308701318, 0.8385574361293251, 0.8607611218807281, 0.8136799877497782, 0.6376123512288407]}, {\"categories\": [\"0\", \"1\", \"2\", \"7\", \"12\", \"17\", \"20\", \"23\", \"24\", \"25\", \"27\", \"28\", \"29\", \"30\", \"31\", \"32\", \"33\", \"34\", \"35\", \"36\", \"37\", \"38\", \"42\"], \"mode\": \"lines\", \"name\": \"precision_score_weighted_max\", \"stepped\": true, \"type\": \"scatter\", \"data\": [0.8524277365010601, 0.8524277365010601, 0.8589528976853174, 0.8589528976853174, 0.8589528976853174, 0.8589528976853174, 0.8589528976853174, 0.8589528976853174, 0.8589528976853174, 0.8589528976853174, 0.8589528976853174, 0.8589528976853174, 0.8589528976853174, 0.8589528976853174, 0.8589528976853174, 0.8589528976853174, 0.8589528976853174, 0.8589528976853174, 0.8589528976853174, 0.8589528976853174, 0.8607611218807281, 0.8607611218807281, 0.8607611218807281]}]}, \"metricName\": null, \"primaryMetricName\": \"AUC_weighted\", \"showLegend\": false}, \"run_metrics\": [{\"name\": \"experiment_status\", \"run_id\": \"AutoML_4506947a-35c6-49f0-b99b-37268eeba8fe\", \"categories\": [0, 1, 2, 3, 4, 5, 6, 7, 8, 9, 10, 11, 12, 13], \"series\": [{\"data\": [\"DatasetEvaluation\", \"FeaturesGeneration\", \"DatasetFeaturization\", \"DatasetFeaturizationCompleted\", \"DatasetCrossValidationSplit\", \"ModelSelection\", \"BestRunExplainModel\", \"ModelExplanationDataSetSetup\", \"PickSurrogateModel\", \"EngineeredFeatureExplanations\", \"EngineeredFeatureExplanations\", \"RawFeaturesExplanations\", \"RawFeaturesExplanations\", \"BestRunExplainModel\"]}]}, {\"name\": \"experiment_status_description\", \"run_id\": \"AutoML_4506947a-35c6-49f0-b99b-37268eeba8fe\", \"categories\": [0, 1, 2, 3, 4, 5, 6, 7, 8, 9, 10, 11, 12, 13], \"series\": [{\"data\": [\"Gathering dataset statistics.\", \"Generating features for the dataset.\", \"Beginning to fit featurizers and featurize the dataset.\", \"Completed fit featurizers and featurizing the dataset.\", \"Generating individually featurized CV splits.\", \"Beginning model selection.\", \"Best run model explanations started\", \"Model explanations data setup completed\", \"Choosing LightGBM as the surrogate model for explanations\", \"Computation of engineered features started\", \"Computation of engineered features completed\", \"Computation of raw features started\", \"Computation of raw features completed\", \"Best run model explanations completed\"]}]}, {\"name\": \"recall_score_weighted\", \"run_id\": \"AutoML_4506947a-35c6-49f0-b99b-37268eeba8fe\", \"categories\": [0], \"series\": [{\"data\": [0.8528813559322034]}]}, {\"name\": \"precision_score_weighted\", \"run_id\": \"AutoML_4506947a-35c6-49f0-b99b-37268eeba8fe\", \"categories\": [0], \"series\": [{\"data\": [0.8662312370802792]}]}, {\"name\": \"average_precision_score_weighted\", \"run_id\": \"AutoML_4506947a-35c6-49f0-b99b-37268eeba8fe\", \"categories\": [0], \"series\": [{\"data\": [0.930452415307129]}]}, {\"name\": \"precision_score_micro\", \"run_id\": \"AutoML_4506947a-35c6-49f0-b99b-37268eeba8fe\", \"categories\": [0], \"series\": [{\"data\": [0.8528813559322034]}]}, {\"name\": \"f1_score_weighted\", \"run_id\": \"AutoML_4506947a-35c6-49f0-b99b-37268eeba8fe\", \"categories\": [0], \"series\": [{\"data\": [0.8481199102083986]}]}, {\"name\": \"average_precision_score_micro\", \"run_id\": \"AutoML_4506947a-35c6-49f0-b99b-37268eeba8fe\", \"categories\": [0], \"series\": [{\"data\": [0.9227702839841061]}]}, {\"name\": \"f1_score_micro\", \"run_id\": \"AutoML_4506947a-35c6-49f0-b99b-37268eeba8fe\", \"categories\": [0], \"series\": [{\"data\": [0.8528813559322034]}]}, {\"name\": \"weighted_accuracy\", \"run_id\": \"AutoML_4506947a-35c6-49f0-b99b-37268eeba8fe\", \"categories\": [0], \"series\": [{\"data\": [0.8709823482837316]}]}, {\"name\": \"average_precision_score_macro\", \"run_id\": \"AutoML_4506947a-35c6-49f0-b99b-37268eeba8fe\", \"categories\": [0], \"series\": [{\"data\": [0.9092277760753017]}]}, {\"name\": \"norm_macro_recall\", \"run_id\": \"AutoML_4506947a-35c6-49f0-b99b-37268eeba8fe\", \"categories\": [0], \"series\": [{\"data\": [0.6514714839424143]}]}, {\"name\": \"log_loss\", \"run_id\": \"AutoML_4506947a-35c6-49f0-b99b-37268eeba8fe\", \"categories\": [0], \"series\": [{\"data\": [0.38508535049361325]}]}, {\"name\": \"matthews_correlation\", \"run_id\": \"AutoML_4506947a-35c6-49f0-b99b-37268eeba8fe\", \"categories\": [0], \"series\": [{\"data\": [0.6697205193911598]}]}, {\"name\": \"AUC_weighted\", \"run_id\": \"AutoML_4506947a-35c6-49f0-b99b-37268eeba8fe\", \"categories\": [0], \"series\": [{\"data\": [0.919685977297896]}]}, {\"name\": \"recall_score_macro\", \"run_id\": \"AutoML_4506947a-35c6-49f0-b99b-37268eeba8fe\", \"categories\": [0], \"series\": [{\"data\": [0.825735741971207]}]}, {\"name\": \"precision_score_macro\", \"run_id\": \"AutoML_4506947a-35c6-49f0-b99b-37268eeba8fe\", \"categories\": [0], \"series\": [{\"data\": [0.8461216445563299]}]}, {\"name\": \"balanced_accuracy\", \"run_id\": \"AutoML_4506947a-35c6-49f0-b99b-37268eeba8fe\", \"categories\": [0], \"series\": [{\"data\": [0.825735741971207]}]}, {\"name\": \"recall_score_micro\", \"run_id\": \"AutoML_4506947a-35c6-49f0-b99b-37268eeba8fe\", \"categories\": [0], \"series\": [{\"data\": [0.8528813559322034]}]}, {\"name\": \"f1_score_macro\", \"run_id\": \"AutoML_4506947a-35c6-49f0-b99b-37268eeba8fe\", \"categories\": [0], \"series\": [{\"data\": [0.8234305065074796]}]}, {\"name\": \"AUC_macro\", \"run_id\": \"AutoML_4506947a-35c6-49f0-b99b-37268eeba8fe\", \"categories\": [0], \"series\": [{\"data\": [0.919685977297896]}]}, {\"name\": \"accuracy\", \"run_id\": \"AutoML_4506947a-35c6-49f0-b99b-37268eeba8fe\", \"categories\": [0], \"series\": [{\"data\": [0.8528813559322034]}]}, {\"name\": \"AUC_micro\", \"run_id\": \"AutoML_4506947a-35c6-49f0-b99b-37268eeba8fe\", \"categories\": [0], \"series\": [{\"data\": [0.9205575026333429]}]}], \"run_logs\": \"\\nRun is completed.\", \"graph\": {}, \"widget_settings\": {\"childWidgetDisplay\": \"popup\", \"send_telemetry\": false, \"log_level\": \"INFO\", \"sdk_version\": \"1.51.0\"}, \"loading\": false}"
          },
          "metadata": {}
        }
      ],
      "execution_count": 41,
      "metadata": {
        "gather": {
          "logged": 1717950970404
        },
        "jupyter": {
          "outputs_hidden": false,
          "source_hidden": false
        },
        "nteract": {
          "transient": {
            "deleting": false
          }
        }
      }
    },
    {
      "cell_type": "markdown",
      "source": [
        "## Best Model\n",
        "\n",
        "TODO: In the cell below, get the best model from the automl experiments and display all the properties of the model.\n",
        "\n"
      ],
      "metadata": {}
    },
    {
      "cell_type": "code",
      "source": [
        "best_run_metrics_automl = remote_run.get_metrics()\n",
        "print(best_run_metrics_automl[\"AUC_weighted\"])"
      ],
      "outputs": [
        {
          "output_type": "stream",
          "name": "stdout",
          "text": "0.919685977297896\n"
        }
      ],
      "execution_count": 43,
      "metadata": {
        "gather": {
          "logged": 1717952532788
        },
        "jupyter": {
          "outputs_hidden": false,
          "source_hidden": false
        },
        "nteract": {
          "transient": {
            "deleting": false
          }
        }
      }
    },
    {
      "cell_type": "code",
      "source": [
        "#TODO: Save the best model"
      ],
      "outputs": [],
      "execution_count": null,
      "metadata": {
        "gather": {
          "logged": 1598431426111
        },
        "jupyter": {
          "outputs_hidden": false,
          "source_hidden": false
        },
        "nteract": {
          "transient": {
            "deleting": false
          }
        }
      }
    },
    {
      "cell_type": "markdown",
      "source": [
        "## Model Deployment\n",
        "\n",
        "Remember you have to deploy only one of the two models you trained but you still need to register both the models. Perform the steps in the rest of this notebook only if you wish to deploy this model.\n",
        "\n",
        "TODO: In the cell below, register the model, create an inference config and deploy the model as a web service."
      ],
      "metadata": {}
    },
    {
      "cell_type": "code",
      "source": [
        "model = remote_run.register_model(model_name = \"automl-heart-sdk\", metric=\"AUC_weighted\")"
      ],
      "outputs": [],
      "execution_count": 52,
      "metadata": {
        "gather": {
          "logged": 1717954194700
        },
        "jupyter": {
          "outputs_hidden": false,
          "source_hidden": false
        },
        "nteract": {
          "transient": {
            "deleting": false
          }
        }
      }
    },
    {
      "cell_type": "markdown",
      "source": [
        "TODO: In the cell below, send a request to the web service you deployed to test it."
      ],
      "metadata": {
        "collapsed": true,
        "gather": {
          "logged": 1598431657736
        },
        "jupyter": {
          "outputs_hidden": false,
          "source_hidden": false
        },
        "nteract": {
          "transient": {
            "deleting": false
          }
        }
      }
    },
    {
      "cell_type": "code",
      "source": [
        "# experiment_name = 'heart-capstone'\n",
        "# project_folder = './heart-captstone'\n",
        "\n",
        "# experiment = Experiment(ws, experiment_name)\n",
        "\n",
        "# from azureml.pipeline.core import PipelineRun\n",
        "\n",
        "# run_id = \"AutoML_4506947a-35c6-49f0-b99b-37268eeba8fe_41\"\n",
        "# pipeline_run = PipelineRun(experiment, run_id)\n",
        "\n",
        "# published_pipeline = pipeline_run.publish_pipeline(\n",
        "#     name=\"Heart Capstone\", description=\"Heart Capstone Pipeline\", version=\"1.0\")\n",
        "\n",
        "# published_pipeline"
      ],
      "outputs": [
        {
          "output_type": "error",
          "ename": "ErrorResponseException",
          "evalue": "(NotFound) Response status code does not indicate success: 404 (Not Found).\nMicrosoft.RelInfra.Common.Exceptions.ErrorResponseException: GetExperimentEntity, input id is AutoML_4506947a-35c6-49f0-b99b-37268eeba8fe_41 experimentIds: plrv2id-UTC1W_gENWeE3wmiAioqxkCAx4_53i3uJAXudavrjro, plrid-dn8ytPP8D5JJyH-orPEHt1MG-MP1L14OFs8I4QDgAao, and all id retrieve entity not found.",
          "traceback": [
            "\u001b[0;31m---------------------------------------------------------------------------\u001b[0m",
            "\u001b[0;31mErrorResponseException\u001b[0m                    Traceback (most recent call last)",
            "Cell \u001b[0;32mIn[45], line 11\u001b[0m\n\u001b[1;32m      8\u001b[0m run_id \u001b[38;5;241m=\u001b[39m \u001b[38;5;124m\"\u001b[39m\u001b[38;5;124mAutoML_4506947a-35c6-49f0-b99b-37268eeba8fe_41\u001b[39m\u001b[38;5;124m\"\u001b[39m\n\u001b[1;32m      9\u001b[0m pipeline_run \u001b[38;5;241m=\u001b[39m PipelineRun(experiment, run_id)\n\u001b[0;32m---> 11\u001b[0m published_pipeline \u001b[38;5;241m=\u001b[39m \u001b[43mpipeline_run\u001b[49m\u001b[38;5;241;43m.\u001b[39;49m\u001b[43mpublish_pipeline\u001b[49m\u001b[43m(\u001b[49m\n\u001b[1;32m     12\u001b[0m \u001b[43m    \u001b[49m\u001b[43mname\u001b[49m\u001b[38;5;241;43m=\u001b[39;49m\u001b[38;5;124;43m\"\u001b[39;49m\u001b[38;5;124;43mHeart Capstone\u001b[39;49m\u001b[38;5;124;43m\"\u001b[39;49m\u001b[43m,\u001b[49m\u001b[43m \u001b[49m\u001b[43mdescription\u001b[49m\u001b[38;5;241;43m=\u001b[39;49m\u001b[38;5;124;43m\"\u001b[39;49m\u001b[38;5;124;43mHeart Capstone Pipeline\u001b[39;49m\u001b[38;5;124;43m\"\u001b[39;49m\u001b[43m,\u001b[49m\u001b[43m \u001b[49m\u001b[43mversion\u001b[49m\u001b[38;5;241;43m=\u001b[39;49m\u001b[38;5;124;43m\"\u001b[39;49m\u001b[38;5;124;43m1.0\u001b[39;49m\u001b[38;5;124;43m\"\u001b[39;49m\u001b[43m)\u001b[49m\n\u001b[1;32m     14\u001b[0m published_pipeline\n",
            "File \u001b[0;32m/anaconda/envs/azureml_py38/lib/python3.8/site-packages/azureml/pipeline/core/run.py:224\u001b[0m, in \u001b[0;36mPipelineRun.publish_pipeline\u001b[0;34m(self, name, description, version, continue_on_step_failure, **kwargs)\u001b[0m\n\u001b[1;32m    222\u001b[0m     \u001b[38;5;28;01melse\u001b[39;00m:\n\u001b[1;32m    223\u001b[0m         \u001b[38;5;28;01mraise\u001b[39;00m \u001b[38;5;167;01mValueError\u001b[39;00m(\u001b[38;5;124m'\u001b[39m\u001b[38;5;124mparameter \u001b[39m\u001b[38;5;132;01m%s\u001b[39;00m\u001b[38;5;124m is not recognized for method PipelineRun.publish_pipeline \u001b[39m\u001b[38;5;124m'\u001b[39m \u001b[38;5;241m%\u001b[39m key)\n\u001b[0;32m--> 224\u001b[0m \u001b[38;5;28;01mreturn\u001b[39;00m \u001b[38;5;28;43mself\u001b[39;49m\u001b[38;5;241;43m.\u001b[39;49m\u001b[43m_context\u001b[49m\u001b[38;5;241;43m.\u001b[39;49m\u001b[43mworkflow_provider\u001b[49m\u001b[38;5;241;43m.\u001b[39;49m\u001b[43mpublished_pipeline_provider\u001b[49m\u001b[38;5;241;43m.\u001b[39;49m\u001b[43mcreate_from_pipeline_run\u001b[49m\u001b[43m(\u001b[49m\n\u001b[1;32m    225\u001b[0m \u001b[43m    \u001b[49m\u001b[43mname\u001b[49m\u001b[38;5;241;43m=\u001b[39;49m\u001b[43mname\u001b[49m\u001b[43m,\u001b[49m\u001b[43m \u001b[49m\u001b[43mpipeline_run_id\u001b[49m\u001b[38;5;241;43m=\u001b[39;49m\u001b[38;5;28;43mself\u001b[39;49m\u001b[38;5;241;43m.\u001b[39;49m\u001b[43m_run_id\u001b[49m\u001b[43m,\u001b[49m\u001b[43m \u001b[49m\u001b[43mdescription\u001b[49m\u001b[38;5;241;43m=\u001b[39;49m\u001b[43mdescription\u001b[49m\u001b[43m,\u001b[49m\u001b[43m \u001b[49m\u001b[43mversion\u001b[49m\u001b[38;5;241;43m=\u001b[39;49m\u001b[43mversion\u001b[49m\u001b[43m,\u001b[49m\n\u001b[1;32m    226\u001b[0m \u001b[43m    \u001b[49m\u001b[43mcontinue_run_on_step_failure\u001b[49m\u001b[38;5;241;43m=\u001b[39;49m\u001b[43mcontinue_on_step_failure\u001b[49m\u001b[43m,\u001b[49m\u001b[43m \u001b[49m\u001b[43menable_email_notification\u001b[49m\u001b[38;5;241;43m=\u001b[39;49m\u001b[43menable_email_notification\u001b[49m\u001b[43m)\u001b[49m\n",
            "File \u001b[0;32m/anaconda/envs/azureml_py38/lib/python3.8/site-packages/azureml/pipeline/core/_aeva_provider.py:1357\u001b[0m, in \u001b[0;36m_AevaPublishedPipelineProvider.create_from_pipeline_run\u001b[0;34m(self, name, description, version, pipeline_run_id, continue_run_on_step_failure, enable_email_notification)\u001b[0m\n\u001b[1;32m   1341\u001b[0m \u001b[38;5;28;01mdef\u001b[39;00m \u001b[38;5;21mcreate_from_pipeline_run\u001b[39m(\u001b[38;5;28mself\u001b[39m, name, description, version, pipeline_run_id, continue_run_on_step_failure\u001b[38;5;241m=\u001b[39m\u001b[38;5;28;01mNone\u001b[39;00m,\n\u001b[1;32m   1342\u001b[0m                              enable_email_notification\u001b[38;5;241m=\u001b[39m\u001b[38;5;28;01mNone\u001b[39;00m):\n\u001b[1;32m   1343\u001b[0m \u001b[38;5;250m    \u001b[39m\u001b[38;5;124;03m\"\"\"Create a published pipeline from a run.\u001b[39;00m\n\u001b[1;32m   1344\u001b[0m \u001b[38;5;124;03m    :param name: name\u001b[39;00m\n\u001b[1;32m   1345\u001b[0m \u001b[38;5;124;03m    :type name: str\u001b[39;00m\n\u001b[0;32m   (...)\u001b[0m\n\u001b[1;32m   1355\u001b[0m \u001b[38;5;124;03m    :type enable_email_notification: bool\u001b[39;00m\n\u001b[1;32m   1356\u001b[0m \u001b[38;5;124;03m    \"\"\"\u001b[39;00m\n\u001b[0;32m-> 1357\u001b[0m     pipeline_run \u001b[38;5;241m=\u001b[39m \u001b[38;5;28;43mself\u001b[39;49m\u001b[38;5;241;43m.\u001b[39;49m\u001b[43m_service_caller\u001b[49m\u001b[38;5;241;43m.\u001b[39;49m\u001b[43mget_pipeline_run_async\u001b[49m\u001b[43m(\u001b[49m\u001b[43mpipeline_run_id\u001b[49m\u001b[43m)\u001b[49m\n\u001b[1;32m   1358\u001b[0m     graph_entity \u001b[38;5;241m=\u001b[39m \u001b[38;5;28mself\u001b[39m\u001b[38;5;241m.\u001b[39m_service_caller\u001b[38;5;241m.\u001b[39mget_graph_async(pipeline_run\u001b[38;5;241m.\u001b[39mgraph_id)\n\u001b[1;32m   1359\u001b[0m     graph_interface \u001b[38;5;241m=\u001b[39m \u001b[38;5;28mself\u001b[39m\u001b[38;5;241m.\u001b[39m_service_caller\u001b[38;5;241m.\u001b[39mget_graph_interface_async(pipeline_run\u001b[38;5;241m.\u001b[39mgraph_id)\n",
            "File \u001b[0;32m/anaconda/envs/azureml_py38/lib/python3.8/site-packages/azureml/pipeline/core/_restclients/aeva/service_caller.py:190\u001b[0m, in \u001b[0;36mAE3PServiceCaller.get_pipeline_run_async\u001b[0;34m(self, pipeline_run_id)\u001b[0m\n\u001b[1;32m    179\u001b[0m \u001b[38;5;28;01mdef\u001b[39;00m \u001b[38;5;21mget_pipeline_run_async\u001b[39m(\u001b[38;5;28mself\u001b[39m, pipeline_run_id):\n\u001b[1;32m    180\u001b[0m \u001b[38;5;250m    \u001b[39m\u001b[38;5;124;03m\"\"\"GetPipelineRunAsync.\u001b[39;00m\n\u001b[1;32m    181\u001b[0m \n\u001b[1;32m    182\u001b[0m \u001b[38;5;124;03m    :param pipeline_run_id: The pipeline run id\u001b[39;00m\n\u001b[0;32m   (...)\u001b[0m\n\u001b[1;32m    187\u001b[0m \u001b[38;5;124;03m     :class:`ErrorResponseException`\u001b[39;00m\n\u001b[1;32m    188\u001b[0m \u001b[38;5;124;03m    \"\"\"\u001b[39;00m\n\u001b[0;32m--> 190\u001b[0m     result \u001b[38;5;241m=\u001b[39m \u001b[38;5;28;43mself\u001b[39;49m\u001b[38;5;241;43m.\u001b[39;49m\u001b[43m_caller\u001b[49m\u001b[38;5;241;43m.\u001b[39;49m\u001b[43mapi_v10_subscriptions_by_subscription_id_resource_groups_by_resource_group_name_providers_microsoft_machine_learning_services_workspaces_by_workspace_name_pipeline_runs_by_pipeline_run_id_get\u001b[49m\u001b[43m(\u001b[49m\n\u001b[1;32m    191\u001b[0m \u001b[43m        \u001b[49m\u001b[43msubscription_id\u001b[49m\u001b[38;5;241;43m=\u001b[39;49m\u001b[38;5;28;43mself\u001b[39;49m\u001b[38;5;241;43m.\u001b[39;49m\u001b[43m_subscription_id\u001b[49m\u001b[43m,\u001b[49m\u001b[43m \u001b[49m\u001b[43mresource_group_name\u001b[49m\u001b[38;5;241;43m=\u001b[39;49m\u001b[38;5;28;43mself\u001b[39;49m\u001b[38;5;241;43m.\u001b[39;49m\u001b[43m_resource_group_name\u001b[49m\u001b[43m,\u001b[49m\n\u001b[1;32m    192\u001b[0m \u001b[43m        \u001b[49m\u001b[43mworkspace_name\u001b[49m\u001b[38;5;241;43m=\u001b[39;49m\u001b[38;5;28;43mself\u001b[39;49m\u001b[38;5;241;43m.\u001b[39;49m\u001b[43m_workspace_name\u001b[49m\u001b[43m,\u001b[49m\u001b[43m \u001b[49m\u001b[43mcustom_headers\u001b[49m\u001b[38;5;241;43m=\u001b[39;49m\u001b[38;5;28;43mself\u001b[39;49m\u001b[38;5;241;43m.\u001b[39;49m\u001b[43m_get_custom_headers\u001b[49m\u001b[43m(\u001b[49m\u001b[43m)\u001b[49m\u001b[43m,\u001b[49m\u001b[43m \u001b[49m\u001b[43mpipeline_run_id\u001b[49m\u001b[38;5;241;43m=\u001b[39;49m\u001b[43mpipeline_run_id\u001b[49m\u001b[43m)\u001b[49m\n\u001b[1;32m    194\u001b[0m     \u001b[38;5;28;01mreturn\u001b[39;00m result\n",
            "File \u001b[0;32m/anaconda/envs/azureml_py38/lib/python3.8/site-packages/azureml/pipeline/core/_restclients/aeva/aml_pipelines_api10.py:1784\u001b[0m, in \u001b[0;36mAMLPipelinesAPI10.api_v10_subscriptions_by_subscription_id_resource_groups_by_resource_group_name_providers_microsoft_machine_learning_services_workspaces_by_workspace_name_pipeline_runs_by_pipeline_run_id_get\u001b[0;34m(self, subscription_id, resource_group_name, workspace_name, pipeline_run_id, custom_headers, raw, **operation_config)\u001b[0m\n\u001b[1;32m   1781\u001b[0m response \u001b[38;5;241m=\u001b[39m \u001b[38;5;28mself\u001b[39m\u001b[38;5;241m.\u001b[39m_client\u001b[38;5;241m.\u001b[39msend(request, header_parameters, stream\u001b[38;5;241m=\u001b[39m\u001b[38;5;28;01mFalse\u001b[39;00m, \u001b[38;5;241m*\u001b[39m\u001b[38;5;241m*\u001b[39moperation_config)\n\u001b[1;32m   1783\u001b[0m \u001b[38;5;28;01mif\u001b[39;00m response\u001b[38;5;241m.\u001b[39mstatus_code \u001b[38;5;129;01mnot\u001b[39;00m \u001b[38;5;129;01min\u001b[39;00m [\u001b[38;5;241m200\u001b[39m]:\n\u001b[0;32m-> 1784\u001b[0m     \u001b[38;5;28;01mraise\u001b[39;00m ErrorResponseException(\u001b[38;5;28mself\u001b[39m\u001b[38;5;241m.\u001b[39m_deserialize, response)\n\u001b[1;32m   1786\u001b[0m deserialized \u001b[38;5;241m=\u001b[39m \u001b[38;5;28;01mNone\u001b[39;00m\n\u001b[1;32m   1788\u001b[0m \u001b[38;5;28;01mif\u001b[39;00m response\u001b[38;5;241m.\u001b[39mstatus_code \u001b[38;5;241m==\u001b[39m \u001b[38;5;241m200\u001b[39m:\n",
            "\u001b[0;31mErrorResponseException\u001b[0m: (NotFound) Response status code does not indicate success: 404 (Not Found).\nMicrosoft.RelInfra.Common.Exceptions.ErrorResponseException: GetExperimentEntity, input id is AutoML_4506947a-35c6-49f0-b99b-37268eeba8fe_41 experimentIds: plrv2id-UTC1W_gENWeE3wmiAioqxkCAx4_53i3uJAXudavrjro, plrid-dn8ytPP8D5JJyH-orPEHt1MG-MP1L14OFs8I4QDgAao, and all id retrieve entity not found."
          ]
        }
      ],
      "execution_count": 45,
      "metadata": {
        "gather": {
          "logged": 1717953295676
        },
        "jupyter": {
          "outputs_hidden": false,
          "source_hidden": false
        },
        "nteract": {
          "transient": {
            "deleting": false
          }
        }
      }
    },
    {
      "cell_type": "markdown",
      "source": [
        "TODO: In the cell below, print the logs of the web service and delete the service"
      ],
      "metadata": {
        "collapsed": true,
        "gather": {
          "logged": 1598432765711
        },
        "jupyter": {
          "outputs_hidden": false,
          "source_hidden": false
        },
        "nteract": {
          "transient": {
            "deleting": false
          }
        }
      }
    },
    {
      "cell_type": "code",
      "source": [],
      "outputs": [],
      "execution_count": null,
      "metadata": {
        "jupyter": {
          "outputs_hidden": false,
          "source_hidden": false
        },
        "nteract": {
          "transient": {
            "deleting": false
          }
        }
      }
    },
    {
      "cell_type": "markdown",
      "source": [
        "**Submission Checklist**\n",
        "- I have registered the model.\n",
        "- I have deployed the model with the best accuracy as a webservice.\n",
        "- I have tested the webservice by sending a request to the model endpoint.\n",
        "- I have deleted the webservice and shutdown all the computes that I have used.\n",
        "- I have taken a screenshot showing the model endpoint as active.\n",
        "- The project includes a file containing the environment details.\n"
      ],
      "metadata": {}
    },
    {
      "cell_type": "markdown",
      "source": [],
      "metadata": {}
    }
  ],
  "metadata": {
    "kernel_info": {
      "name": "python38-azureml"
    },
    "kernelspec": {
      "name": "python38-azureml",
      "language": "python",
      "display_name": "Python 3.8 - AzureML"
    },
    "language_info": {
      "name": "python",
      "version": "3.8.5",
      "mimetype": "text/x-python",
      "codemirror_mode": {
        "name": "ipython",
        "version": 3
      },
      "pygments_lexer": "ipython3",
      "nbconvert_exporter": "python",
      "file_extension": ".py"
    },
    "nteract": {
      "version": "nteract-front-end@1.0.0"
    },
    "microsoft": {
      "host": {
        "AzureML": {
          "notebookHasBeenCompleted": true
        }
      },
      "ms_spell_check": {
        "ms_spell_check_language": "en"
      }
    }
  },
  "nbformat": 4,
  "nbformat_minor": 2
}