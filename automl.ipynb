{
 "cells": [
  {
   "cell_type": "markdown",
   "metadata": {},
   "source": [
    "# Automated ML\n",
    "\n",
    "TODO: Import Dependencies. In the cell below, import all the dependencies that you will need to complete the project."
   ]
  },
  {
   "cell_type": "code",
   "execution_count": 1,
   "metadata": {
    "gather": {
     "logged": 1718720587665
    },
    "jupyter": {
     "outputs_hidden": false,
     "source_hidden": false
    },
    "nteract": {
     "transient": {
      "deleting": false
     }
    }
   },
   "outputs": [
    {
     "name": "stdout",
     "output_type": "stream",
     "text": [
      "Collecting azureml-core\n",
      "  Downloading azureml_core-1.56.0-py3-none-any.whl (3.3 MB)\n",
      "\u001b[K     |████████████████████████████████| 3.3 MB 3.7 MB/s eta 0:00:01\n",
      "\u001b[?25hRequirement already satisfied, skipping upgrade: msrest<=0.7.1,>=0.5.1 in /anaconda/envs/azureml_py38/lib/python3.8/site-packages (from azureml-core) (0.7.1)\n",
      "Requirement already satisfied, skipping upgrade: azure-mgmt-resource<=24.0.0,>=15.0.0 in /anaconda/envs/azureml_py38/lib/python3.8/site-packages (from azureml-core) (21.1.0b1)\n",
      "Requirement already satisfied, skipping upgrade: humanfriendly<11.0,>=4.7 in /anaconda/envs/azureml_py38/lib/python3.8/site-packages (from azureml-core) (10.0)\n",
      "Requirement already satisfied, skipping upgrade: adal<=1.2.7,>=1.2.0 in /anaconda/envs/azureml_py38/lib/python3.8/site-packages (from azureml-core) (1.2.7)\n",
      "Requirement already satisfied, skipping upgrade: azure-graphrbac<1.0.0,>=0.40.0 in /anaconda/envs/azureml_py38/lib/python3.8/site-packages (from azureml-core) (0.60.0)\n",
      "Requirement already satisfied, skipping upgrade: backports.tempfile in /anaconda/envs/azureml_py38/lib/python3.8/site-packages (from azureml-core) (1.0)\n",
      "Requirement already satisfied, skipping upgrade: msal<2.0.0,>=1.15.0 in /anaconda/envs/azureml_py38/lib/python3.8/site-packages (from azureml-core) (1.22.0)\n",
      "Requirement already satisfied, skipping upgrade: azure-common<2.0.0,>=1.1.12 in /anaconda/envs/azureml_py38/lib/python3.8/site-packages (from azureml-core) (1.1.28)\n",
      "Requirement already satisfied, skipping upgrade: azure-core<2.0.0 in /anaconda/envs/azureml_py38/lib/python3.8/site-packages (from azureml-core) (1.26.4)\n",
      "Requirement already satisfied, skipping upgrade: pytz in /anaconda/envs/azureml_py38/lib/python3.8/site-packages (from azureml-core) (2022.5)\n",
      "Requirement already satisfied, skipping upgrade: SecretStorage<4.0.0 in /anaconda/envs/azureml_py38/lib/python3.8/site-packages (from azureml-core) (3.3.3)\n",
      "Requirement already satisfied, skipping upgrade: docker<8.0.0 in /anaconda/envs/azureml_py38/lib/python3.8/site-packages (from azureml-core) (6.1.2)\n",
      "Requirement already satisfied, skipping upgrade: python-dateutil<3.0.0,>=2.7.3 in /anaconda/envs/azureml_py38/lib/python3.8/site-packages (from azureml-core) (2.8.2)\n",
      "Requirement already satisfied, skipping upgrade: contextlib2<22.0.0 in /anaconda/envs/azureml_py38/lib/python3.8/site-packages (from azureml-core) (21.6.0)\n",
      "Requirement already satisfied, skipping upgrade: requests[socks]<3.0.0,>=2.19.1 in /anaconda/envs/azureml_py38/lib/python3.8/site-packages (from azureml-core) (2.31.0)\n",
      "Requirement already satisfied, skipping upgrade: azure-mgmt-keyvault<11.0.0,>=0.40.0 in /anaconda/envs/azureml_py38/lib/python3.8/site-packages (from azureml-core) (10.2.1)\n",
      "Requirement already satisfied, skipping upgrade: pathspec<1.0.0 in /anaconda/envs/azureml_py38/lib/python3.8/site-packages (from azureml-core) (0.11.1)\n",
      "Requirement already satisfied, skipping upgrade: msal-extensions<=2.0.0,>=0.3.0 in /anaconda/envs/azureml_py38/lib/python3.8/site-packages (from azureml-core) (1.0.0)\n",
      "Requirement already satisfied, skipping upgrade: argcomplete<4 in /anaconda/envs/azureml_py38/lib/python3.8/site-packages (from azureml-core) (2.1.2)\n",
      "Requirement already satisfied, skipping upgrade: pkginfo in /anaconda/envs/azureml_py38/lib/python3.8/site-packages (from azureml-core) (1.9.6)\n",
      "Requirement already satisfied, skipping upgrade: ndg-httpsclient<=0.5.1 in /anaconda/envs/azureml_py38/lib/python3.8/site-packages (from azureml-core) (0.5.1)\n",
      "Requirement already satisfied, skipping upgrade: azure-mgmt-network<=26.0.0 in /anaconda/envs/azureml_py38/lib/python3.8/site-packages (from azureml-core) (21.0.1)\n",
      "Requirement already satisfied, skipping upgrade: knack<0.12.0 in /anaconda/envs/azureml_py38/lib/python3.8/site-packages (from azureml-core) (0.10.1)\n",
      "Requirement already satisfied, skipping upgrade: azure-mgmt-authorization<5,>=0.40.0 in /anaconda/envs/azureml_py38/lib/python3.8/site-packages (from azureml-core) (3.0.0)\n",
      "Requirement already satisfied, skipping upgrade: PyJWT<3.0.0 in /anaconda/envs/azureml_py38/lib/python3.8/site-packages (from azureml-core) (2.4.0)\n",
      "Requirement already satisfied, skipping upgrade: azure-mgmt-containerregistry<11,>=8.2.0 in /anaconda/envs/azureml_py38/lib/python3.8/site-packages (from azureml-core) (10.1.0)\n",
      "Requirement already satisfied, skipping upgrade: msrestazure<=0.6.4,>=0.4.33 in /anaconda/envs/azureml_py38/lib/python3.8/site-packages (from azureml-core) (0.6.4)\n",
      "Requirement already satisfied, skipping upgrade: jsonpickle<4.0.0 in /anaconda/envs/azureml_py38/lib/python3.8/site-packages (from azureml-core) (3.0.1)\n",
      "Requirement already satisfied, skipping upgrade: paramiko<4.0.0,>=2.0.8 in /anaconda/envs/azureml_py38/lib/python3.8/site-packages (from azureml-core) (3.1.0)\n",
      "Requirement already satisfied, skipping upgrade: packaging<=25.0,>=20.0 in /anaconda/envs/azureml_py38/lib/python3.8/site-packages (from azureml-core) (23.0)\n",
      "Collecting urllib3<3.0.0,>1.26.17\n",
      "  Downloading urllib3-2.2.2-py3-none-any.whl (121 kB)\n",
      "\u001b[K     |████████████████████████████████| 121 kB 60.0 MB/s eta 0:00:01\n",
      "\u001b[?25hRequirement already satisfied, skipping upgrade: pyopenssl<25.0.0 in /anaconda/envs/azureml_py38/lib/python3.8/site-packages (from azureml-core) (23.0.0)\n",
      "Requirement already satisfied, skipping upgrade: azure-mgmt-storage<=22.0.0,>=16.0.0 in /anaconda/envs/azureml_py38/lib/python3.8/site-packages (from azureml-core) (21.0.0)\n",
      "Requirement already satisfied, skipping upgrade: jmespath<2.0.0 in /anaconda/envs/azureml_py38/lib/python3.8/site-packages (from azureml-core) (0.10.0)\n",
      "Requirement already satisfied, skipping upgrade: requests-oauthlib>=0.5.0 in /anaconda/envs/azureml_py38/lib/python3.8/site-packages (from msrest<=0.7.1,>=0.5.1->azureml-core) (1.3.1)\n",
      "Requirement already satisfied, skipping upgrade: isodate>=0.6.0 in /anaconda/envs/azureml_py38/lib/python3.8/site-packages (from msrest<=0.7.1,>=0.5.1->azureml-core) (0.6.1)\n",
      "Requirement already satisfied, skipping upgrade: certifi>=2017.4.17 in /anaconda/envs/azureml_py38/lib/python3.8/site-packages (from msrest<=0.7.1,>=0.5.1->azureml-core) (2022.9.24)\n",
      "Requirement already satisfied, skipping upgrade: azure-mgmt-core<2.0.0,>=1.3.0 in /anaconda/envs/azureml_py38/lib/python3.8/site-packages (from azure-mgmt-resource<=24.0.0,>=15.0.0->azureml-core) (1.4.0)\n",
      "Requirement already satisfied, skipping upgrade: cryptography>=1.1.0 in /anaconda/envs/azureml_py38/lib/python3.8/site-packages (from adal<=1.2.7,>=1.2.0->azureml-core) (38.0.4)\n",
      "Requirement already satisfied, skipping upgrade: backports.weakref in /anaconda/envs/azureml_py38/lib/python3.8/site-packages (from backports.tempfile->azureml-core) (1.0.post1)\n",
      "Requirement already satisfied, skipping upgrade: six>=1.11.0 in /anaconda/envs/azureml_py38/lib/python3.8/site-packages (from azure-core<2.0.0->azureml-core) (1.16.0)\n",
      "Requirement already satisfied, skipping upgrade: typing-extensions>=4.3.0 in /anaconda/envs/azureml_py38/lib/python3.8/site-packages (from azure-core<2.0.0->azureml-core) (4.6.0)\n",
      "Requirement already satisfied, skipping upgrade: jeepney>=0.6 in /anaconda/envs/azureml_py38/lib/python3.8/site-packages (from SecretStorage<4.0.0->azureml-core) (0.8.0)\n",
      "Requirement already satisfied, skipping upgrade: websocket-client>=0.32.0 in /anaconda/envs/azureml_py38/lib/python3.8/site-packages (from docker<8.0.0->azureml-core) (1.3.3)\n",
      "Requirement already satisfied, skipping upgrade: idna<4,>=2.5 in /anaconda/envs/azureml_py38/lib/python3.8/site-packages (from requests[socks]<3.0.0,>=2.19.1->azureml-core) (3.4)\n",
      "Requirement already satisfied, skipping upgrade: charset-normalizer<4,>=2 in /anaconda/envs/azureml_py38/lib/python3.8/site-packages (from requests[socks]<3.0.0,>=2.19.1->azureml-core) (3.1.0)\n",
      "Requirement already satisfied, skipping upgrade: PySocks!=1.5.7,>=1.5.6; extra == \"socks\" in /anaconda/envs/azureml_py38/lib/python3.8/site-packages (from requests[socks]<3.0.0,>=2.19.1->azureml-core) (1.7.1)\n",
      "Requirement already satisfied, skipping upgrade: portalocker<3,>=1.0; python_version >= \"3.5\" and platform_system != \"Windows\" in /anaconda/envs/azureml_py38/lib/python3.8/site-packages (from msal-extensions<=2.0.0,>=0.3.0->azureml-core) (2.7.0)\n",
      "Requirement already satisfied, skipping upgrade: pyasn1>=0.1.1 in /anaconda/envs/azureml_py38/lib/python3.8/site-packages (from ndg-httpsclient<=0.5.1->azureml-core) (0.5.0)\n",
      "Requirement already satisfied, skipping upgrade: pyyaml in /anaconda/envs/azureml_py38/lib/python3.8/site-packages (from knack<0.12.0->azureml-core) (6.0)\n",
      "Requirement already satisfied, skipping upgrade: tabulate in /anaconda/envs/azureml_py38/lib/python3.8/site-packages (from knack<0.12.0->azureml-core) (0.9.0)\n",
      "Requirement already satisfied, skipping upgrade: pygments in /anaconda/envs/azureml_py38/lib/python3.8/site-packages (from knack<0.12.0->azureml-core) (2.15.1)\n",
      "Requirement already satisfied, skipping upgrade: pynacl>=1.5 in /anaconda/envs/azureml_py38/lib/python3.8/site-packages (from paramiko<4.0.0,>=2.0.8->azureml-core) (1.5.0)\n",
      "Requirement already satisfied, skipping upgrade: bcrypt>=3.2 in /anaconda/envs/azureml_py38/lib/python3.8/site-packages (from paramiko<4.0.0,>=2.0.8->azureml-core) (4.0.1)\n",
      "Requirement already satisfied, skipping upgrade: oauthlib>=3.0.0 in /anaconda/envs/azureml_py38/lib/python3.8/site-packages (from requests-oauthlib>=0.5.0->msrest<=0.7.1,>=0.5.1->azureml-core) (3.2.2)\n",
      "Requirement already satisfied, skipping upgrade: cffi>=1.12 in /anaconda/envs/azureml_py38/lib/python3.8/site-packages (from cryptography>=1.1.0->adal<=1.2.7,>=1.2.0->azureml-core) (1.15.1)\n",
      "Requirement already satisfied, skipping upgrade: pycparser in /anaconda/envs/azureml_py38/lib/python3.8/site-packages (from cffi>=1.12->cryptography>=1.1.0->adal<=1.2.7,>=1.2.0->azureml-core) (2.21)\n",
      "\u001b[31mERROR: ray 2.0.0 has requirement click<=8.0.4,>=7.0, but you'll have click 8.1.3 which is incompatible.\u001b[0m\n",
      "\u001b[31mERROR: ray 2.0.0 has requirement grpcio<=1.43.0,>=1.28.1; python_version < \"3.10\", but you'll have grpcio 1.54.2 which is incompatible.\u001b[0m\n",
      "\u001b[31mERROR: jupyterlab-server 2.23.0 has requirement jinja2>=3.0.3, but you'll have jinja2 2.11.2 which is incompatible.\u001b[0m\n",
      "\u001b[31mERROR: google-auth 2.18.1 has requirement urllib3<2.0, but you'll have urllib3 2.2.2 which is incompatible.\u001b[0m\n",
      "\u001b[31mERROR: datasets 2.3.2 has requirement dill<0.3.6, but you'll have dill 0.3.6 which is incompatible.\u001b[0m\n",
      "\u001b[31mERROR: databricks-cli 0.17.7 has requirement urllib3<2.0.0,>=1.26.7, but you'll have urllib3 2.2.2 which is incompatible.\u001b[0m\n",
      "\u001b[31mERROR: dask-sql 2023.6.0 has requirement pandas>=1.4.0, but you'll have pandas 1.1.5 which is incompatible.\u001b[0m\n",
      "\u001b[31mERROR: botocore 1.23.19 has requirement urllib3<1.27,>=1.25.4, but you'll have urllib3 2.2.2 which is incompatible.\u001b[0m\n",
      "\u001b[31mERROR: azureml-widgets 1.51.0 has requirement azureml-core~=1.51.0, but you'll have azureml-core 1.56.0 which is incompatible.\u001b[0m\n",
      "\u001b[31mERROR: azureml-train-core 1.51.0 has requirement azureml-core~=1.51.0, but you'll have azureml-core 1.56.0 which is incompatible.\u001b[0m\n",
      "\u001b[31mERROR: azureml-train-automl-runtime 1.51.0.post2 has requirement azureml-core~=1.51.0, but you'll have azureml-core 1.56.0 which is incompatible.\u001b[0m\n",
      "\u001b[31mERROR: azureml-train-automl-client 1.51.0.post1 has requirement azureml-core~=1.51.0, but you'll have azureml-core 1.56.0 which is incompatible.\u001b[0m\n",
      "\u001b[31mERROR: azureml-tensorboard 1.51.0 has requirement azureml-core~=1.51.0, but you'll have azureml-core 1.56.0 which is incompatible.\u001b[0m\n",
      "\u001b[31mERROR: azureml-telemetry 1.51.0 has requirement azureml-core~=1.51.0, but you'll have azureml-core 1.56.0 which is incompatible.\u001b[0m\n",
      "\u001b[31mERROR: azureml-sdk 1.51.0 has requirement azureml-core~=1.51.0, but you'll have azureml-core 1.56.0 which is incompatible.\u001b[0m\n",
      "\u001b[31mERROR: azureml-responsibleai 1.51.0 has requirement azureml-core~=1.51.0, but you'll have azureml-core 1.56.0 which is incompatible.\u001b[0m\n",
      "\u001b[31mERROR: azureml-pipeline-core 1.51.0 has requirement azureml-core~=1.51.0, but you'll have azureml-core 1.56.0 which is incompatible.\u001b[0m\n",
      "\u001b[31mERROR: azureml-opendatasets 1.51.0 has requirement azureml-core~=1.51.0, but you'll have azureml-core 1.56.0 which is incompatible.\u001b[0m\n",
      "\u001b[31mERROR: azureml-interpret 1.51.0 has requirement azureml-core~=1.51.0, but you'll have azureml-core 1.56.0 which is incompatible.\u001b[0m\n",
      "\u001b[31mERROR: azureml-inference-server-http 0.8.4 has requirement flask<2.3.0, but you'll have flask 2.3.2 which is incompatible.\u001b[0m\n",
      "\u001b[31mERROR: azureml-defaults 1.51.0 has requirement azureml-core~=1.51.0, but you'll have azureml-core 1.56.0 which is incompatible.\u001b[0m\n",
      "\u001b[31mERROR: azureml-datadrift 1.51.0 has requirement azureml-core~=1.51.0, but you'll have azureml-core 1.56.0 which is incompatible.\u001b[0m\n",
      "\u001b[31mERROR: azureml-contrib-server 1.51.0 has requirement azureml-core~=1.51.0, but you'll have azureml-core 1.56.0 which is incompatible.\u001b[0m\n",
      "\u001b[31mERROR: azureml-contrib-reinforcementlearning 1.51.0 has requirement azureml-core~=1.51.0, but you'll have azureml-core 1.56.0 which is incompatible.\u001b[0m\n",
      "\u001b[31mERROR: azureml-contrib-pipeline-steps 1.51.0 has requirement azureml-core~=1.51.0, but you'll have azureml-core 1.56.0 which is incompatible.\u001b[0m\n",
      "\u001b[31mERROR: azureml-contrib-notebook 1.51.0 has requirement azureml-core~=1.51.0, but you'll have azureml-core 1.56.0 which is incompatible.\u001b[0m\n",
      "\u001b[31mERROR: azureml-contrib-fairness 1.51.0 has requirement azureml-core~=1.51.0, but you'll have azureml-core 1.56.0 which is incompatible.\u001b[0m\n",
      "\u001b[31mERROR: azureml-contrib-dataset 1.51.0 has requirement azureml-core~=1.51.0, but you'll have azureml-core 1.56.0 which is incompatible.\u001b[0m\n",
      "\u001b[31mERROR: azureml-cli-common 1.51.0 has requirement azureml-core~=1.51.0, but you'll have azureml-core 1.56.0 which is incompatible.\u001b[0m\n",
      "\u001b[31mERROR: azureml-automl-dnn-nlp 1.51.0 has requirement azureml-core~=1.51.0, but you'll have azureml-core 1.56.0 which is incompatible.\u001b[0m\n",
      "\u001b[31mERROR: azureml-accel-models 1.51.0 has requirement azureml-core~=1.51.0, but you'll have azureml-core 1.56.0 which is incompatible.\u001b[0m\n",
      "\u001b[31mERROR: azure-cli 2.49.0 has requirement azure-keyvault-keys==4.8.0b2, but you'll have azure-keyvault-keys 4.8.0 which is incompatible.\u001b[0m\n",
      "\u001b[31mERROR: azure-cli 2.49.0 has requirement azure-mgmt-keyvault==10.2.0, but you'll have azure-mgmt-keyvault 10.2.1 which is incompatible.\u001b[0m\n",
      "\u001b[31mERROR: azure-cli 2.49.0 has requirement azure-mgmt-resource==22.0.0, but you'll have azure-mgmt-resource 21.1.0b1 which is incompatible.\u001b[0m\n",
      "\u001b[31mERROR: azure-cli-core 2.49.0 has requirement msal[broker]==1.20.0, but you'll have msal 1.22.0 which is incompatible.\u001b[0m\n",
      "\u001b[31mERROR: autokeras 1.0.16 has requirement tensorflow<=2.5.0,>=2.3.0, but you'll have tensorflow 2.11.0 which is incompatible.\u001b[0m\n",
      "Installing collected packages: urllib3, azureml-core\n",
      "  Attempting uninstall: urllib3\n",
      "    Found existing installation: urllib3 1.26.16\n",
      "    Uninstalling urllib3-1.26.16:\n",
      "      Successfully uninstalled urllib3-1.26.16\n",
      "  Attempting uninstall: azureml-core\n",
      "    Found existing installation: azureml-core 1.51.0\n",
      "    Uninstalling azureml-core-1.51.0:\n",
      "      Successfully uninstalled azureml-core-1.51.0\n",
      "Successfully installed azureml-core-1.56.0 urllib3-2.2.2\n",
      "Note: you may need to restart the kernel to use updated packages.\n"
     ]
    }
   ],
   "source": [
    "pip install --upgrade azureml-core"
   ]
  },
  {
   "cell_type": "code",
   "execution_count": 2,
   "metadata": {
    "gather": {
     "logged": 1718720592471
    },
    "jupyter": {
     "outputs_hidden": false,
     "source_hidden": false
    },
    "nteract": {
     "transient": {
      "deleting": false
     }
    }
   },
   "outputs": [],
   "source": [
    "from azureml.core import Workspace, Experiment\n",
    "from azureml.core.compute import ComputeTarget, AmlCompute\n",
    "from azureml.core.compute_target import ComputeTargetException\n",
    "from azureml.widgets import RunDetails\n",
    "from azureml.train.sklearn import SKLearn\n",
    "from azureml.train.hyperdrive.run import PrimaryMetricGoal\n",
    "from azureml.train.hyperdrive.policy import BanditPolicy\n",
    "from azureml.train.hyperdrive.sampling import RandomParameterSampling\n",
    "from azureml.train.hyperdrive.runconfig import HyperDriveConfig\n",
    "from azureml.train.hyperdrive.parameter_expressions import choice, loguniform\n",
    "from azureml.core import Environment, ScriptRunConfig\n",
    "import os\n",
    "import pandas as pd\n",
    "from azureml.train.automl import AutoMLConfig\n",
    "from azureml.core.dataset import Dataset\n",
    "import logging\n",
    "import csv\n",
    "from matplotlib import pyplot as plt\n",
    "import numpy as np\n",
    "import pandas as pd\n",
    "from sklearn import datasets\n",
    "import pkg_resources\n",
    "import azureml.core\n",
    "from azureml.core.experiment import Experiment\n",
    "from azureml.core.workspace import Workspace\n",
    "from azureml.train.automl import AutoMLConfig\n",
    "from azureml.core.dataset import Dataset\n",
    "from azureml.pipeline.steps import AutoMLStep\n",
    "import joblib\n",
    "from azureml.pipeline.core import PipelineData, TrainingOutput\n",
    "from azureml.core import Model"
   ]
  },
  {
   "cell_type": "markdown",
   "metadata": {},
   "source": [
    "## Dataset\n",
    "\n",
    "### Overview\n",
    "TODO: In this markdown cell, give an overview of the dataset you are using. Also mention the task you will be performing.\n",
    "\n",
    "\n",
    "TODO: Get data. In the cell below, write code to access the data you will be using in this project. Remember that the dataset needs to be external."
   ]
  },
  {
   "cell_type": "code",
   "execution_count": 3,
   "metadata": {
    "gather": {
     "logged": 1718720595092
    },
    "jupyter": {
     "outputs_hidden": false,
     "source_hidden": false
    },
    "nteract": {
     "transient": {
      "deleting": false
     }
    }
   },
   "outputs": [
    {
     "name": "stdout",
     "output_type": "stream",
     "text": [
      "Workspace name: quick-starts-ws-260824\n",
      "Azure region: southcentralus\n",
      "Subscription id: 3e42d11f-d64d-4173-af9b-12ecaa1030b3\n",
      "Resource group: aml-quickstarts-260824\n"
     ]
    }
   ],
   "source": [
    "ws = Workspace.get(name = 'quick-starts-ws-260824',\n",
    "                   subscription_id = '3e42d11f-d64d-4173-af9b-12ecaa1030b3',\n",
    "                   resource_group = 'aml-quickstarts-260824')\n",
    "\n",
    "# choose a name for experiment\n",
    "experiment_name = 'automl-heart'\n",
    "\n",
    "experiment=Experiment(ws, experiment_name)\n",
    "\n",
    "print('Workspace name: ' + ws.name, \n",
    "      'Azure region: ' + ws.location, \n",
    "      'Subscription id: ' + ws.subscription_id, \n",
    "      'Resource group: ' + ws.resource_group, sep = '\\n')\n",
    "\n",
    "run = experiment.start_logging()"
   ]
  },
  {
   "cell_type": "markdown",
   "metadata": {},
   "source": [
    "## AutoML Configuration\n",
    "\n",
    "TODO: Explain why you chose the automl settings and cofiguration you used below."
   ]
  },
  {
   "cell_type": "code",
   "execution_count": 4,
   "metadata": {
    "gather": {
     "logged": 1718720630402
    },
    "jupyter": {
     "outputs_hidden": false,
     "source_hidden": false
    },
    "nteract": {
     "transient": {
      "deleting": false
     }
    }
   },
   "outputs": [
    {
     "name": "stdout",
     "output_type": "stream",
     "text": [
      "Found existing cluster, use it\n"
     ]
    }
   ],
   "source": [
    "cluster_name = \"notebook260824\"\n",
    "project_folder = './capstone'\n",
    "\n",
    "found = False\n",
    "description_text = \"Heart Data for Udacity Capstone\"\n",
    "\n",
    "dataset = Dataset.get_by_name(ws, name='heart-data')\n",
    "\n",
    "try:\n",
    "    aml_compute = ComputeTarget(workspace=ws, name = cluster_name)\n",
    "    print(\"Found existing cluster, use it\")\n",
    "except ComputeTargetException:\n",
    "    compute_config = AmlCompute.provisioning_configuration(vm_size=\"STANDARD_D2_V2\", max_nodes= 4)\n",
    "    aml_compute = ComputeTarget.create(ws, cluster_name, compute_config)\n",
    "\n",
    "# TODO: Put your automl settings here\n",
    "automl_settings = {\n",
    "    \"experiment_timeout_minutes\": 20,\n",
    "    \"max_concurrent_iterations\": 4,\n",
    "    \"primary_metric\" : 'accuracy',\n",
    "    \"n_cross_validations\": 5\n",
    "}\n",
    "\n",
    "# TODO: Put your automl config here\n",
    "automl_config = AutoMLConfig(compute_target=cluster_name,\n",
    "                             task = \"classification\",\n",
    "                             training_data=dataset,\n",
    "                             #time_column_name=\"date\", \n",
    "                             label_column_name=\"DEATH_EVENT\",  \n",
    "                             #path = project_folder,\n",
    "                             #enable_early_stopping= True,\n",
    "                             featurization= 'auto',\n",
    "                             debug_log = \"automl_errors.log\",\n",
    "                             **automl_settings\n",
    "                            )"
   ]
  },
  {
   "cell_type": "code",
   "execution_count": 5,
   "metadata": {
    "gather": {
     "logged": 1718720634199
    },
    "jupyter": {
     "outputs_hidden": false,
     "source_hidden": false
    },
    "nteract": {
     "transient": {
      "deleting": false
     }
    }
   },
   "outputs": [
    {
     "name": "stdout",
     "output_type": "stream",
     "text": [
      "Submitting remote run.\n"
     ]
    },
    {
     "data": {
      "text/html": [
       "<table style=\"width:100%\"><tr><th>Experiment</th><th>Id</th><th>Type</th><th>Status</th><th>Details Page</th><th>Docs Page</th></tr><tr><td>automl-heart</td><td>AutoML_b39ec310-aa0a-48c0-929f-41caee24e096</td><td>automl</td><td>NotStarted</td><td><a href=\"https://ml.azure.com/runs/AutoML_b39ec310-aa0a-48c0-929f-41caee24e096?wsid=/subscriptions/3e42d11f-d64d-4173-af9b-12ecaa1030b3/resourcegroups/aml-quickstarts-260824/workspaces/quick-starts-ws-260824&amp;tid=660b3398-b80e-49d2-bc5b-ac1dc93b5254\" target=\"_blank\" rel=\"noopener\">Link to Azure Machine Learning studio</a></td><td><a href=\"https://docs.microsoft.com/en-us/python/api/overview/azure/ml/intro?view=azure-ml-py\" target=\"_blank\" rel=\"noopener\">Link to Documentation</a></td></tr></table>"
      ]
     },
     "metadata": {},
     "output_type": "display_data"
    }
   ],
   "source": [
    "# TODO: Submit your experiment\n",
    "remote_run = experiment.submit(automl_config)"
   ]
  },
  {
   "cell_type": "markdown",
   "metadata": {},
   "source": [
    "## Run Details\n",
    "\n",
    "OPTIONAL: Write about the different models trained and their performance. Why do you think some models did better than others?\n",
    "\n",
    "TODO: In the cell below, use the `RunDetails` widget to show the different experiments."
   ]
  },
  {
   "cell_type": "code",
   "execution_count": 23,
   "metadata": {
    "gather": {
     "logged": 1718459658155
    },
    "jupyter": {
     "outputs_hidden": false,
     "source_hidden": false
    },
    "nteract": {
     "transient": {
      "deleting": false
     }
    }
   },
   "outputs": [
    {
     "data": {
      "application/vnd.jupyter.widget-view+json": {
       "model_id": "ee7d470772554ec990064e73e33b974a",
       "version_major": 2,
       "version_minor": 0
      },
      "text/plain": [
       "_AutoMLWidget(widget_settings={'childWidgetDisplay': 'popup', 'send_telemetry': False, 'log_level': 'INFO', 's…"
      ]
     },
     "metadata": {},
     "output_type": "display_data"
    },
    {
     "data": {
      "application/aml.mini.widget.v1": "{\"status\": \"Completed\", \"workbench_run_details_uri\": \"https://ml.azure.com/runs/AutoML_b39ec310-aa0a-48c0-929f-41caee24e096?wsid=/subscriptions/3e42d11f-d64d-4173-af9b-12ecaa1030b3/resourcegroups/aml-quickstarts-260824/workspaces/quick-starts-ws-260824&tid=660b3398-b80e-49d2-bc5b-ac1dc93b5254\", \"run_id\": \"AutoML_b39ec310-aa0a-48c0-929f-41caee24e096\", \"run_properties\": {\"run_id\": \"AutoML_b39ec310-aa0a-48c0-929f-41caee24e096\", \"created_utc\": \"2024-06-18T14:23:53.353636Z\", \"properties\": {\"num_iterations\": \"1000\", \"training_type\": \"TrainFull\", \"acquisition_function\": \"EI\", \"primary_metric\": \"accuracy\", \"train_split\": \"0\", \"acquisition_parameter\": \"0\", \"num_cross_validation\": \"5\", \"target\": \"notebook260824\", \"AMLSettingsJsonString\": \"{\\\"path\\\":null,\\\"name\\\":\\\"automl-heart\\\",\\\"subscription_id\\\":\\\"3e42d11f-d64d-4173-af9b-12ecaa1030b3\\\",\\\"resource_group\\\":\\\"aml-quickstarts-260824\\\",\\\"workspace_name\\\":\\\"quick-starts-ws-260824\\\",\\\"region\\\":\\\"southcentralus\\\",\\\"compute_target\\\":\\\"notebook260824\\\",\\\"spark_service\\\":null,\\\"azure_service\\\":\\\"remote\\\",\\\"many_models\\\":false,\\\"pipeline_fetch_max_batch_size\\\":1,\\\"enable_batch_run\\\":true,\\\"enable_parallel_run\\\":false,\\\"num_procs\\\":null,\\\"enable_run_restructure\\\":false,\\\"start_auxiliary_runs_before_parent_complete\\\":false,\\\"enable_code_generation\\\":true,\\\"iterations\\\":1000,\\\"primary_metric\\\":\\\"accuracy\\\",\\\"task_type\\\":\\\"classification\\\",\\\"positive_label\\\":null,\\\"data_script\\\":null,\\\"test_size\\\":0.0,\\\"test_include_predictions_only\\\":false,\\\"validation_size\\\":0.0,\\\"n_cross_validations\\\":5,\\\"y_min\\\":null,\\\"y_max\\\":null,\\\"num_classes\\\":null,\\\"featurization\\\":\\\"auto\\\",\\\"_ignore_package_version_incompatibilities\\\":false,\\\"is_timeseries\\\":false,\\\"max_cores_per_iteration\\\":1,\\\"max_concurrent_iterations\\\":4,\\\"iteration_timeout_minutes\\\":null,\\\"mem_in_mb\\\":null,\\\"enforce_time_on_windows\\\":false,\\\"experiment_timeout_minutes\\\":20,\\\"experiment_exit_score\\\":null,\\\"partition_column_names\\\":null,\\\"whitelist_models\\\":null,\\\"blacklist_algos\\\":[\\\"TensorFlowLinearClassifier\\\",\\\"TensorFlowDNN\\\"],\\\"supported_models\\\":[\\\"DecisionTree\\\",\\\"AveragedPerceptronClassifier\\\",\\\"RandomForest\\\",\\\"XGBoostClassifier\\\",\\\"TensorFlowDNN\\\",\\\"SGD\\\",\\\"LinearSVM\\\",\\\"KNN\\\",\\\"ExtremeRandomTrees\\\",\\\"GradientBoosting\\\",\\\"SVM\\\",\\\"LogisticRegression\\\",\\\"BernoulliNaiveBayes\\\",\\\"LightGBM\\\",\\\"TensorFlowLinearClassifier\\\",\\\"TabnetClassifier\\\",\\\"MultinomialNaiveBayes\\\"],\\\"private_models\\\":[],\\\"auto_blacklist\\\":true,\\\"blacklist_samples_reached\\\":false,\\\"exclude_nan_labels\\\":true,\\\"verbosity\\\":20,\\\"_debug_log\\\":\\\"azureml_automl.log\\\",\\\"show_warnings\\\":false,\\\"model_explainability\\\":true,\\\"service_url\\\":null,\\\"sdk_url\\\":null,\\\"sdk_packages\\\":null,\\\"enable_onnx_compatible_models\\\":false,\\\"enable_split_onnx_featurizer_estimator_models\\\":false,\\\"vm_type\\\":\\\"Standard_DS3_v2\\\",\\\"telemetry_verbosity\\\":20,\\\"send_telemetry\\\":true,\\\"enable_dnn\\\":false,\\\"scenario\\\":\\\"AutoML\\\",\\\"environment_label\\\":null,\\\"save_mlflow\\\":false,\\\"enable_categorical_indicators\\\":false,\\\"force_text_dnn\\\":false,\\\"enable_feature_sweeping\\\":true,\\\"enable_early_stopping\\\":true,\\\"early_stopping_n_iters\\\":10,\\\"arguments\\\":null,\\\"dataset_id\\\":\\\"d181f9e2-66d8-42ad-85c8-733db63a8758\\\",\\\"hyperdrive_config\\\":null,\\\"validation_dataset_id\\\":null,\\\"run_source\\\":null,\\\"metrics\\\":null,\\\"enable_metric_confidence\\\":false,\\\"enable_ensembling\\\":true,\\\"enable_stack_ensembling\\\":true,\\\"ensemble_iterations\\\":15,\\\"enable_tf\\\":false,\\\"enable_subsampling\\\":null,\\\"subsample_seed\\\":null,\\\"enable_nimbusml\\\":false,\\\"enable_streaming\\\":false,\\\"force_streaming\\\":false,\\\"track_child_runs\\\":true,\\\"n_best_runs\\\":1,\\\"allowed_private_models\\\":[],\\\"label_column_name\\\":\\\"DEATH_EVENT\\\",\\\"weight_column_name\\\":null,\\\"cv_split_column_names\\\":null,\\\"enable_local_managed\\\":false,\\\"_local_managed_run_id\\\":null,\\\"cost_mode\\\":1,\\\"lag_length\\\":0,\\\"metric_operation\\\":\\\"maximize\\\",\\\"preprocess\\\":true}\", \"DataPrepJsonString\": \"{\\\\\\\"training_data\\\\\\\": {\\\\\\\"datasetId\\\\\\\": \\\\\\\"d181f9e2-66d8-42ad-85c8-733db63a8758\\\\\\\"}, \\\\\\\"datasets\\\\\\\": 0}\", \"EnableSubsampling\": null, \"runTemplate\": \"AutoML\", \"azureml.runsource\": \"automl\", \"display_task_type\": \"classification\", \"dependencies_versions\": \"{\\\"azureml-dataprep-native\\\": \\\"38.0.0\\\", \\\"azureml-dataprep\\\": \\\"4.10.8\\\", \\\"azureml-dataprep-rslex\\\": \\\"2.17.12\\\", \\\"azureml-train-automl-runtime\\\": \\\"1.51.0.post2\\\", \\\"azureml-train-automl-client\\\": \\\"1.51.0.post1\\\", \\\"azureml-training-tabular\\\": \\\"1.51.0.post1\\\", \\\"azureml-automl-runtime\\\": \\\"1.51.0.post1\\\", \\\"azureml-automl-core\\\": \\\"1.51.0.post1\\\", \\\"azureml-mlflow\\\": \\\"1.51.0\\\", \\\"azureml-datadrift\\\": \\\"1.51.0\\\", \\\"azureml-pipeline\\\": \\\"1.51.0\\\", \\\"azureml-contrib-dataset\\\": \\\"1.51.0\\\", \\\"azureml-contrib-notebook\\\": \\\"1.51.0\\\", \\\"azureml-accel-models\\\": \\\"1.51.0\\\", \\\"azureml-automl-dnn-nlp\\\": \\\"1.51.0\\\", \\\"azureml-pipeline-core\\\": \\\"1.51.0\\\", \\\"azureml-responsibleai\\\": \\\"1.51.0\\\", \\\"azureml-contrib-automl-pipeline-steps\\\": \\\"1.51.0\\\", \\\"azureml-pipeline-steps\\\": \\\"1.51.0\\\", \\\"azureml-core\\\": \\\"1.51.0\\\", \\\"azureml-contrib-reinforcementlearning\\\": \\\"1.51.0\\\", \\\"azureml-contrib-server\\\": \\\"1.51.0\\\", \\\"azureml-opendatasets\\\": \\\"1.51.0\\\", \\\"azureml-contrib-services\\\": \\\"1.51.0\\\", \\\"azureml-telemetry\\\": \\\"1.51.0\\\", \\\"azureml-train-restclients-hyperdrive\\\": \\\"1.51.0\\\", \\\"azureml-interpret\\\": \\\"1.51.0\\\", \\\"azureml-train-core\\\": \\\"1.51.0\\\", \\\"azureml-tensorboard\\\": \\\"1.51.0\\\", \\\"azureml-train\\\": \\\"1.51.0\\\", \\\"azureml-contrib-pipeline-steps\\\": \\\"1.51.0\\\", \\\"azureml-explain-model\\\": \\\"1.51.0\\\", \\\"azureml-cli-common\\\": \\\"1.51.0\\\", \\\"azureml-widgets\\\": \\\"1.51.0\\\", \\\"azureml-train-automl\\\": \\\"1.51.0\\\", \\\"azureml-defaults\\\": \\\"1.51.0\\\", \\\"azureml-contrib-fairness\\\": \\\"1.51.0\\\", \\\"azureml-sdk\\\": \\\"1.51.0\\\", \\\"azureml-dataset-runtime\\\": \\\"1.51.0\\\", \\\"azureml-inference-server-http\\\": \\\"0.8.4\\\"}\", \"_aml_system_scenario_identification\": \"Remote.Parent\", \"ClientType\": \"SDK\", \"PlatformVersion\": \"DPV1\", \"environment_cpu_name\": \"AzureML-AutoML\", \"environment_cpu_label\": \"scikit-upgrade2\", \"environment_gpu_name\": \"AzureML-AutoML-GPU\", \"environment_gpu_label\": \"scikit-upgrade2\", \"root_attribution\": \"automl\", \"attribution\": \"AutoML\", \"Orchestrator\": \"AutoML\", \"CancelUri\": \"https://southcentralus.api.azureml.ms/jasmine/v1.0/subscriptions/3e42d11f-d64d-4173-af9b-12ecaa1030b3/resourceGroups/aml-quickstarts-260824/providers/Microsoft.MachineLearningServices/workspaces/quick-starts-ws-260824/experimentids/eb409415-11b2-4668-ba03-7427af339d15/cancel/AutoML_b39ec310-aa0a-48c0-929f-41caee24e096\", \"ClientSdkVersion\": null, \"snapshotId\": \"00000000-0000-0000-0000-000000000000\", \"SetupRunId\": \"AutoML_b39ec310-aa0a-48c0-929f-41caee24e096_setup\", \"SetupRunContainerId\": \"dcid.AutoML_b39ec310-aa0a-48c0-929f-41caee24e096_setup\", \"FeaturizationRunJsonPath\": \"featurizer_container.json\", \"FeaturizationRunId\": \"AutoML_b39ec310-aa0a-48c0-929f-41caee24e096_featurize\", \"ProblemInfoJsonString\": \"{\\\"dataset_num_categorical\\\": 0, \\\"is_sparse\\\": false, \\\"subsampling\\\": false, \\\"has_extra_col\\\": true, \\\"dataset_classes\\\": 2, \\\"dataset_features\\\": 12, \\\"dataset_samples\\\": 299, \\\"single_frequency_class_detected\\\": false}\", \"ModelExplainRunId\": \"AutoML_b39ec310-aa0a-48c0-929f-41caee24e096_ModelExplain\"}, \"tags\": {\"model_explain_run\": \"best_run\", \"_aml_system_automl_run_workspace_id\": \"0fa8eab1-ceb9-4c57-8652-6b77e7b9fcdb\", \"_aml_system_azureml.automlComponent\": \"AutoML\", \"pipeline_id_000\": \"5dfac790c5c209f98a1da2dc1c7fb76f0397324f;3735210984ea10097d5c91905cf6300ac278cd89;294650ec23bc3d067a4972de7ceb12f6e97260fa;7b422e7b3f86902c2409d5b5d9ff0c84d5dacfee;c7af0367625be6ac5c2fecbfc72ed444cb7a2111;2964988f7520e6167bfe42ba2c42ab4a75f8a68c;ca211529127bb19e1fc933b24b457a03beb5e48e;08e13545f5f7e2df5ef6a66d4110cfd996b1a0e3;5304e705d6f401cb07f85bcf0ca59ac1f84dfcf5;799d2168db11fc19b9e1c6c1df62f8981ad39fe9;3caa818370e5e0c328d6266c359019bd31681270;22bffc6cdfb453aa19b0792ec8a8b592bd44dc5b;44b5d2d23120dfcf96a7dc6389a293d17a966b1b;5f21d4801ee2a6073890b89985177d37ef49c646;589334a57221e0720a95cf217c065115a7b841d1;bc4e14e9481990f09b66c70640f3b1c528f584ac;081b692de9e87424d86c2c1d0787b65e098fc386;628c2351f7c75d74ad3673f2d39af16d6976da2e;35b8e2db3c5f6e714072e1be9f0210fe48426975;ce96746d6f86360fe360023f5ae43340d1986145;3fd2e115482e0c7b92aa3297688aefb6c3aa6fb8;17f87d449bb43aaf3cdae4b7eb6dd6e7fbdaf343;1dfdf370ba770047b14bfa59c40920815defcdab;da45f657e4591caadf1589a85a1f7b8932585595;dc68fbd594530b5d52812dd9b3ffa3d6d8ba625e;537262f080e4a6d13a846eeb0a03bfb967c8251a;664e966ce723fe972f3a23a912154a68b05d3f1e;6f39e692723da42e43aa2e593332cb5d3568a3f2;3d9e37d91189f9df1d9c0f2e0cfed345c3a54197;f0ea9ff175d03a19ae03ebe2246a695c85b44396;eec7dd1668df1a4356b23a99e4b6e000b40f98a3;2ef180061d59b2a4307dca922d836ff60c3ad7a0;d2dce85b4753de3733e6ded1affa9697e682e812;f67cd3269a1e5f4666b6d6b923f11d0ca4cb62da;49432169fe04e8aae4698c6aee8127dffd7c4539;809d104499205a4f6a3cd2fe690fd2411e09d318;54a5b238af4a8f3004861933220e71210176be3c;c5389315bc5645e218fcf9796a883b6620381fbd;237a751c2aabb0cab2588ffd3d7cfa582f5c01f4;5514b33779751d8de84d44049fd977b392dfd7b2;43f1d9351e8bafad5e6dbb1fc97ddda48d760a4b;cbbef77cccbd4de8c0d832bcf23c4b1c3448cfe8;67b675968b606333a64758c54948532412fb3b4e;b15cf86850c37afd6519ee945b82cb0d3c45e342;20f50b65572e940f1a5e415baebbf981a076becc;17b9d8f0fd10ed9db9a970d8374f5dd68a38d285;945fd451010fc3244a38cb450aac970cba4e3295;e24d94003b8d24eba8593a7682c9854816aa5e90\", \"score_000\": \"0.8428248587570621;0.836045197740113;0.8091525423728815;0.7224858757062147;0.7990395480225988;0.7858757062146893;0.7559887005649718;0.8292655367231637;0.8127118644067796;0.8359887005649718;0.8061016949152542;0.7323163841807909;0.8094350282485877;0.6019209039548024;0.8192655367231639;0.7158757062146892;0.7157062146892657;0.6019209039548021;0.8225988700564972;0.7157627118644068;0.8361016949152542;0.7926553672316384;0.836271186440678;0.8160451977401131;0.8293785310734464;0.8425988700564971;0.8461581920903957;0.8427118644067797;0.836045197740113;0.8327118644067797;0.8393220338983051;0.8393785310734463;0.8327683615819209;0.8192655367231637;0.8427683615819209;0.67909604519774;0.8528248587570622;0.8261016949152543;0.8496610169491525;0.8059322033898304;0.7025423728813559;0.846271186440678;0.836045197740113;0.805819209039548;0.8494915254237287;0.8194350282485875;0.782316384180791;0.8293220338983052;0.8495480225988701;0.8361016949152542;NaN;NaN;0.8393785310734463;0.8897175141242938;0.8662146892655367\", \"predicted_cost_000\": \"0;0.5;0.5;0.5;0;0.5;0.5;0.5;0.5;0.5;0.5;0.5;0.5;0.5;0.5;0.5;0.5;0.5;0.5;0.5;0.011990674188837886;0.02960637104126932;0.26075383334653096;0.04716060854294986;0.07799242883920336;0.17448650857024844;0.2391483751202211;0.1307850084090309;0.030149943198832393;0.07614983913173032;0.42208983813077966;0.07315738261320072;0.054813274166993844;0.05053789845148543;0.12108137895331794;0.07078364639702535;0.13485194717781573;0.0676286639785752;0.09586789918240925;0.14974583102189742;0.018134654481663567;0.030565586966909298;0.0036472714711903837;0.08663502146022815;0.11107392425548619;0.045476907820667746;0.06298717750400773;0.06378716938520326;0.09716304985117362;0.02008112997361572;0.06264622047220202;0.039269359617153464;0.02383463490348819;0;0\", \"fit_time_000\": \"0.037652000000000005;0.0312648;0.0206338;0.005859999999999999;0.05048079999999999;0.018468199999999997;0.0067736;0.42423200000000005;0.0099264;0.2348732;0.031187000000000003;0.05690460000000001;0.014134200000000003;0.0047332;0.0197602;0.0081984;0.0254538;0.019018200000000002;0.020097800000000002;0.008698599999999999;0.030697000000000002;0.0955696;0.3227684;0.06157;0.0217434;0.10247999999999999;0.040746199999999996;0.201671;0.013850199999999998;0.0295862;0.10289459999999999;0.021306;0.38716259999999997;0.031347;0.036261;0.043866;0.050022199999999996;0.09105699999999999;0.0593364;0.0175322;0.019526400000000003;0.057011599999999996;0.0431916;0.23195000000000002;0.057818999999999995;0.036219600000000005;0.4365996;0.2372436;0.15440199999999998;0.027106599999999998;NaN;NaN;0.028356;26;30\", \"training_percent_000\": \"100;100;100;100;100;100;100;100;100;100;100;100;100;100;100;100;100;100;100;100;100;100;100;100;100;100;100;100;100;100;100;100;100;100;100;100;100;100;100;100;100;100;100;100;100;100;100;100;100;100;100;100;100;100;100\", \"iteration_000\": \"0;5;10;15;1;6;16;11;7;2;17;12;3;8;18;13;9;4;19;14;21;23;22;20;24;25;26;27;28;29;31;30;32;33;34;35;36;37;38;39;40;41;42;43;44;45;46;47;48;49;52;51;50;53;54\", \"run_preprocessor_000\": \"MaxAbsScaler;MaxAbsScaler;StandardScalerWrapper;MinMaxScaler;MaxAbsScaler;RobustScaler;SparseNormalizer;MinMaxScaler;MaxAbsScaler;MaxAbsScaler;MaxAbsScaler;StandardScalerWrapper;SparseNormalizer;StandardScalerWrapper;StandardScalerWrapper;StandardScalerWrapper;StandardScalerWrapper;StandardScalerWrapper;StandardScalerWrapper;RobustScaler;StandardScalerWrapper;StandardScalerWrapper;SparseNormalizer;MaxAbsScaler;StandardScalerWrapper;MinMaxScaler;SparseNormalizer;RobustScaler;MinMaxScaler;RobustScaler;StandardScalerWrapper;StandardScalerWrapper;RobustScaler;StandardScalerWrapper;SparseNormalizer;TruncatedSVDWrapper;SparseNormalizer;SparseNormalizer;SparseNormalizer;StandardScalerWrapper;RobustScaler;SparseNormalizer;RobustScaler;StandardScalerWrapper;StandardScalerWrapper;SparseNormalizer;StandardScalerWrapper;StandardScalerWrapper;SparseNormalizer;SparseNormalizer;;SparseNormalizer;StandardScalerWrapper;;\", \"run_algorithm_000\": \"LightGBM;LightGBM;XGBoostClassifier;KNN;XGBoostClassifier;LogisticRegression;KNN;RandomForest;LightGBM;ExtremeRandomTrees;LogisticRegression;LogisticRegression;XGBoostClassifier;KNN;XGBoostClassifier;KNN;SVM;KNN;XGBoostClassifier;KNN;XGBoostClassifier;RandomForest;RandomForest;LogisticRegression;XGBoostClassifier;LightGBM;XGBoostClassifier;RandomForest;LightGBM;LightGBM;XGBoostClassifier;XGBoostClassifier;RandomForest;XGBoostClassifier;XGBoostClassifier;XGBoostClassifier;LightGBM;XGBoostClassifier;XGBoostClassifier;XGBoostClassifier;LightGBM;XGBoostClassifier;GradientBoosting;RandomForest;XGBoostClassifier;LightGBM;RandomForest;XGBoostClassifier;XGBoostClassifier;XGBoostClassifier;;XGBoostClassifier;LightGBM;VotingEnsemble;StackEnsemble\", \"dynamic_allowlisting_iterations\": \"<25>;<30>;<35>;<40>;<45>;<50>;\", \"pipeline_id_001\": \"255b368c49b1b46be4821f87fcf1367d47874870;5373286c8692bccf5fa21f7a8612b23fdc278852;67e17b268418625269cf53d48c06405ef1d63764;6e722e45c0278077dc3087189243208790a1c4da;14e569baff5651bfa4e6ea93812f9cfbe7e0b66c;__AutoML_Ensemble__;__AutoML_Stack_Ensemble__\", \"_aml_system_azureml.automl_early_exit_message\": \"No scores improved over last 10 iterations, so experiment stopped early. This early stopping behavior can be disabled by setting enable_early_stopping = False in AutoMLConfig for notebook/python SDK runs.\", \"automl_best_child_run_id\": \"AutoML_b39ec310-aa0a-48c0-929f-41caee24e096_53\", \"model_explain_best_run_child_id\": \"AutoML_b39ec310-aa0a-48c0-929f-41caee24e096_53\"}, \"end_time_utc\": \"2024-06-18T14:36:37.391563Z\", \"status\": \"Completed\", \"log_files\": {}, \"log_groups\": [], \"run_duration\": \"0:12:44\", \"run_number\": \"1718720633\", \"run_queued_details\": {\"status\": \"Completed\", \"details\": null}}, \"child_runs\": [{\"run_id\": \"AutoML_b39ec310-aa0a-48c0-929f-41caee24e096_setup\", \"run_number\": 1718720645, \"metric\": null, \"status\": \"Completed\", \"run_type\": \"azureml.scriptrun\", \"training_percent\": null, \"start_time\": \"2024-06-18T14:24:12.593518Z\", \"end_time\": \"2024-06-18T14:26:10.912088Z\", \"created_time\": \"2024-06-18T14:24:05.048776Z\", \"created_time_dt\": \"2024-06-18T14:24:05.048776Z\", \"duration\": \"0:02:05\", \"iteration\": null, \"goal\": null, \"run_name\": \"Completed\", \"run_properties\": null}, {\"run_id\": \"AutoML_b39ec310-aa0a-48c0-929f-41caee24e096_featurize\", \"run_number\": 1718720771, \"metric\": null, \"status\": \"Completed\", \"run_type\": \"automl.featurization\", \"training_percent\": null, \"start_time\": \"2024-06-18T14:26:11.519261Z\", \"end_time\": \"2024-06-18T14:26:55.792549Z\", \"created_time\": \"2024-06-18T14:26:11.179415Z\", \"created_time_dt\": \"2024-06-18T14:26:11.179415Z\", \"duration\": \"0:00:44\", \"iteration\": null, \"goal\": null, \"run_name\": \"Completed\", \"run_properties\": null}, {\"run_id\": \"AutoML_b39ec310-aa0a-48c0-929f-41caee24e096_0\", \"run_number\": 1718720817, \"metric\": null, \"status\": \"Completed\", \"run_type\": null, \"training_percent\": \"100\", \"start_time\": \"2024-06-18T14:27:21.177302Z\", \"end_time\": \"2024-06-18T14:27:40.507827Z\", \"created_time\": \"2024-06-18T14:26:57.203173Z\", \"created_time_dt\": \"2024-06-18T14:26:57.203173Z\", \"duration\": \"0:00:43\", \"iteration\": \"0\", \"goal\": \"accuracy_max\", \"run_name\": \"MaxAbsScaler, LightGBM\", \"run_properties\": \"copy=True\", \"primary_metric\": 0.84282486, \"best_metric\": 0.84282486}, {\"run_id\": \"AutoML_b39ec310-aa0a-48c0-929f-41caee24e096_2\", \"run_number\": 1718720818, \"metric\": null, \"status\": \"Completed\", \"run_type\": null, \"training_percent\": \"100\", \"start_time\": \"2024-06-18T14:27:56.733894Z\", \"end_time\": \"2024-06-18T14:28:11.533187Z\", \"created_time\": \"2024-06-18T14:26:58.054157Z\", \"created_time_dt\": \"2024-06-18T14:26:58.054157Z\", \"duration\": \"0:01:13\", \"iteration\": \"2\", \"goal\": \"accuracy_max\", \"run_name\": \"MaxAbsScaler, ExtremeRandomTrees\", \"run_properties\": \"copy=True\", \"primary_metric\": 0.8359887, \"best_metric\": 0.84282486}, {\"run_id\": \"AutoML_b39ec310-aa0a-48c0-929f-41caee24e096_worker_0\", \"run_number\": 1718720819, \"metric\": null, \"status\": \"Completed\", \"run_type\": \"azureml.scriptrun\", \"training_percent\": null, \"start_time\": \"2024-06-18T14:27:06.457383Z\", \"end_time\": \"2024-06-18T14:28:47.776147Z\", \"created_time\": \"2024-06-18T14:26:59.077821Z\", \"created_time_dt\": \"2024-06-18T14:26:59.077821Z\", \"duration\": \"0:01:48\", \"iteration\": null, \"goal\": null, \"run_name\": \"Completed\", \"run_properties\": null}, {\"run_id\": \"AutoML_b39ec310-aa0a-48c0-929f-41caee24e096_7\", \"run_number\": 1718720820, \"metric\": null, \"status\": \"Completed\", \"run_type\": null, \"training_percent\": \"100\", \"start_time\": \"2024-06-18T14:27:56.466807Z\", \"end_time\": \"2024-06-18T14:28:10.690386Z\", \"created_time\": \"2024-06-18T14:27:00.095411Z\", \"created_time_dt\": \"2024-06-18T14:27:00.095411Z\", \"duration\": \"0:01:10\", \"iteration\": \"7\", \"goal\": \"accuracy_max\", \"run_name\": \"MaxAbsScaler, LightGBM\", \"run_properties\": \"copy=True\", \"primary_metric\": 0.81271186, \"best_metric\": 0.84282486}, {\"run_id\": \"AutoML_b39ec310-aa0a-48c0-929f-41caee24e096_worker_1\", \"run_number\": 1718720821, \"metric\": null, \"status\": \"Completed\", \"run_type\": \"azureml.scriptrun\", \"training_percent\": null, \"start_time\": \"2024-06-18T14:27:08.35247Z\", \"end_time\": \"2024-06-18T14:28:47.345182Z\", \"created_time\": \"2024-06-18T14:27:01.158756Z\", \"created_time_dt\": \"2024-06-18T14:27:01.158756Z\", \"duration\": \"0:01:46\", \"iteration\": null, \"goal\": null, \"run_name\": \"Completed\", \"run_properties\": null}, {\"run_id\": \"AutoML_b39ec310-aa0a-48c0-929f-41caee24e096_12\", \"run_number\": 1718720822, \"metric\": null, \"status\": \"Completed\", \"run_type\": null, \"training_percent\": \"100\", \"start_time\": \"2024-06-18T14:28:02.354896Z\", \"end_time\": \"2024-06-18T14:28:15.588356Z\", \"created_time\": \"2024-06-18T14:27:02.129073Z\", \"created_time_dt\": \"2024-06-18T14:27:02.129073Z\", \"duration\": \"0:01:13\", \"iteration\": \"12\", \"goal\": \"accuracy_max\", \"run_name\": \"StandardScalerWrapper, LogisticRegression\", \"run_properties\": \"copy=True, with_mean=True, with_std=False\", \"primary_metric\": 0.73231638, \"best_metric\": 0.84282486}, {\"run_id\": \"AutoML_b39ec310-aa0a-48c0-929f-41caee24e096_worker_2\", \"run_number\": 1718720823, \"metric\": null, \"status\": \"Completed\", \"run_type\": \"azureml.scriptrun\", \"training_percent\": null, \"start_time\": \"2024-06-18T14:27:10.459489Z\", \"end_time\": \"2024-06-18T14:28:51.904417Z\", \"created_time\": \"2024-06-18T14:27:03.261024Z\", \"created_time_dt\": \"2024-06-18T14:27:03.261024Z\", \"duration\": \"0:01:48\", \"iteration\": null, \"goal\": null, \"run_name\": \"Completed\", \"run_properties\": null}, {\"run_id\": \"AutoML_b39ec310-aa0a-48c0-929f-41caee24e096_17\", \"run_number\": 1718720824, \"metric\": null, \"status\": \"Completed\", \"run_type\": null, \"training_percent\": \"100\", \"start_time\": \"2024-06-18T14:28:01.02778Z\", \"end_time\": \"2024-06-18T14:28:14.368692Z\", \"created_time\": \"2024-06-18T14:27:04.240471Z\", \"created_time_dt\": \"2024-06-18T14:27:04.240471Z\", \"duration\": \"0:01:10\", \"iteration\": \"17\", \"goal\": \"accuracy_max\", \"run_name\": \"MaxAbsScaler, LogisticRegression\", \"run_properties\": \"copy=True\", \"primary_metric\": 0.80610169, \"best_metric\": 0.84282486}, {\"run_id\": \"AutoML_b39ec310-aa0a-48c0-929f-41caee24e096_worker_3\", \"run_number\": 1718720825, \"metric\": null, \"status\": \"Completed\", \"run_type\": \"azureml.scriptrun\", \"training_percent\": null, \"start_time\": \"2024-06-18T14:27:13.188258Z\", \"end_time\": \"2024-06-18T14:28:49.672675Z\", \"created_time\": \"2024-06-18T14:27:05.254065Z\", \"created_time_dt\": \"2024-06-18T14:27:05.254065Z\", \"duration\": \"0:01:44\", \"iteration\": null, \"goal\": null, \"run_name\": \"Completed\", \"run_properties\": null}, {\"run_id\": \"AutoML_b39ec310-aa0a-48c0-929f-41caee24e096_21\", \"run_number\": 1718720936, \"metric\": null, \"status\": \"Completed\", \"run_type\": \"azureml.scriptrun\", \"training_percent\": \"100\", \"start_time\": \"2024-06-18T14:29:04.059711Z\", \"end_time\": \"2024-06-18T14:29:41.352873Z\", \"created_time\": \"2024-06-18T14:28:56.781772Z\", \"created_time_dt\": \"2024-06-18T14:28:56.781772Z\", \"duration\": \"0:00:44\", \"iteration\": \"21\", \"goal\": \"accuracy_max\", \"run_name\": \"StandardScalerWrapper, XGBoostClassifier\", \"run_properties\": \"copy=True, with_mean=False, with_std=False\", \"primary_metric\": 0.83610169, \"best_metric\": 0.84282486}, {\"run_id\": \"AutoML_b39ec310-aa0a-48c0-929f-41caee24e096_24\", \"run_number\": 1718720983, \"metric\": null, \"status\": \"Completed\", \"run_type\": \"azureml.scriptrun\", \"training_percent\": \"100\", \"start_time\": \"2024-06-18T14:29:50.680529Z\", \"end_time\": \"2024-06-18T14:30:25.989743Z\", \"created_time\": \"2024-06-18T14:29:43.604359Z\", \"created_time_dt\": \"2024-06-18T14:29:43.604359Z\", \"duration\": \"0:00:42\", \"iteration\": \"24\", \"goal\": \"accuracy_max\", \"run_name\": \"StandardScalerWrapper, XGBoostClassifier\", \"run_properties\": \"copy=True, with_mean=False, with_std=False\", \"primary_metric\": 0.82937853, \"best_metric\": 0.84282486}, {\"run_id\": \"AutoML_b39ec310-aa0a-48c0-929f-41caee24e096_25\", \"run_number\": 1718720994, \"metric\": null, \"status\": \"Completed\", \"run_type\": \"azureml.scriptrun\", \"training_percent\": \"100\", \"start_time\": \"2024-06-18T14:30:02.086065Z\", \"end_time\": \"2024-06-18T14:30:38.712523Z\", \"created_time\": \"2024-06-18T14:29:54.687062Z\", \"created_time_dt\": \"2024-06-18T14:29:54.687062Z\", \"duration\": \"0:00:44\", \"iteration\": \"25\", \"goal\": \"accuracy_max\", \"run_name\": \"MinMaxScaler, LightGBM\", \"run_properties\": \"copy=True, feature_range=(0, 1\", \"primary_metric\": 0.84259887, \"best_metric\": 0.84282486}, {\"run_id\": \"AutoML_b39ec310-aa0a-48c0-929f-41caee24e096_27\", \"run_number\": 1718720997, \"metric\": null, \"status\": \"Completed\", \"run_type\": \"azureml.scriptrun\", \"training_percent\": \"100\", \"start_time\": \"2024-06-18T14:30:13.928475Z\", \"end_time\": \"2024-06-18T14:30:52.547034Z\", \"created_time\": \"2024-06-18T14:29:57.11892Z\", \"created_time_dt\": \"2024-06-18T14:29:57.11892Z\", \"duration\": \"0:00:55\", \"iteration\": \"27\", \"goal\": \"accuracy_max\", \"run_name\": \"RobustScaler, RandomForest\", \"run_properties\": \"copy=True, quantile_range=[25, 75], with_centering=True,\\n             with_scaling=True\", \"primary_metric\": 0.84271186, \"best_metric\": 0.84282486}, {\"run_id\": \"AutoML_b39ec310-aa0a-48c0-929f-41caee24e096_28\", \"run_number\": 1718721027, \"metric\": null, \"status\": \"Completed\", \"run_type\": \"azureml.scriptrun\", \"training_percent\": \"100\", \"start_time\": \"2024-06-18T14:30:33.76661Z\", \"end_time\": \"2024-06-18T14:31:10.280424Z\", \"created_time\": \"2024-06-18T14:30:27.370071Z\", \"created_time_dt\": \"2024-06-18T14:30:27.370071Z\", \"duration\": \"0:00:42\", \"iteration\": \"28\", \"goal\": \"accuracy_max\", \"run_name\": \"MinMaxScaler, LightGBM\", \"run_properties\": \"copy=True, feature_range=(0, 1\", \"primary_metric\": 0.8360452, \"best_metric\": 0.84282486}, {\"run_id\": \"AutoML_b39ec310-aa0a-48c0-929f-41caee24e096_29\", \"run_number\": 1718721040, \"metric\": null, \"status\": \"Completed\", \"run_type\": \"azureml.scriptrun\", \"training_percent\": \"100\", \"start_time\": \"2024-06-18T14:30:47.200557Z\", \"end_time\": \"2024-06-18T14:31:22.815299Z\", \"created_time\": \"2024-06-18T14:30:40.199977Z\", \"created_time_dt\": \"2024-06-18T14:30:40.199977Z\", \"duration\": \"0:00:42\", \"iteration\": \"29\", \"goal\": \"accuracy_max\", \"run_name\": \"RobustScaler, LightGBM\", \"run_properties\": \"copy=True, quantile_range=[25, 75], with_centering=True,\\n             with_scaling=False\", \"primary_metric\": 0.83271186, \"best_metric\": 0.84282486}, {\"run_id\": \"AutoML_b39ec310-aa0a-48c0-929f-41caee24e096_31\", \"run_number\": 1718721055, \"metric\": null, \"status\": \"Completed\", \"run_type\": \"azureml.scriptrun\", \"training_percent\": \"100\", \"start_time\": \"2024-06-18T14:31:01.602961Z\", \"end_time\": \"2024-06-18T14:31:38.907172Z\", \"created_time\": \"2024-06-18T14:30:55.241769Z\", \"created_time_dt\": \"2024-06-18T14:30:55.241769Z\", \"duration\": \"0:00:43\", \"iteration\": \"31\", \"goal\": \"accuracy_max\", \"run_name\": \"StandardScalerWrapper, XGBoostClassifier\", \"run_properties\": \"copy=True, with_mean=False, with_std=False\", \"primary_metric\": 0.83932203, \"best_metric\": 0.84282486}, {\"run_id\": \"AutoML_b39ec310-aa0a-48c0-929f-41caee24e096_32\", \"run_number\": 1718721071, \"metric\": null, \"status\": \"Completed\", \"run_type\": \"azureml.scriptrun\", \"training_percent\": \"100\", \"start_time\": \"2024-06-18T14:31:19.181172Z\", \"end_time\": \"2024-06-18T14:31:56.84551Z\", \"created_time\": \"2024-06-18T14:31:11.695704Z\", \"created_time_dt\": \"2024-06-18T14:31:11.695704Z\", \"duration\": \"0:00:45\", \"iteration\": \"32\", \"goal\": \"accuracy_max\", \"run_name\": \"RobustScaler, RandomForest\", \"run_properties\": \"copy=True, quantile_range=[25, 75], with_centering=True,\\n             with_scaling=False\", \"primary_metric\": 0.83276836, \"best_metric\": 0.84282486}, {\"run_id\": \"AutoML_b39ec310-aa0a-48c0-929f-41caee24e096_33\", \"run_number\": 1718721084, \"metric\": null, \"status\": \"Completed\", \"run_type\": \"azureml.scriptrun\", \"training_percent\": \"100\", \"start_time\": \"2024-06-18T14:31:30.884303Z\", \"end_time\": \"2024-06-18T14:32:07.621118Z\", \"created_time\": \"2024-06-18T14:31:24.452307Z\", \"created_time_dt\": \"2024-06-18T14:31:24.452307Z\", \"duration\": \"0:00:43\", \"iteration\": \"33\", \"goal\": \"accuracy_max\", \"run_name\": \"StandardScalerWrapper, XGBoostClassifier\", \"run_properties\": \"copy=True, with_mean=False, with_std=False\", \"primary_metric\": 0.81926554, \"best_metric\": 0.84282486}, {\"run_id\": \"AutoML_b39ec310-aa0a-48c0-929f-41caee24e096_34\", \"run_number\": 1718721100, \"metric\": null, \"status\": \"Completed\", \"run_type\": \"azureml.scriptrun\", \"training_percent\": \"100\", \"start_time\": \"2024-06-18T14:31:47.224546Z\", \"end_time\": \"2024-06-18T14:32:24.401863Z\", \"created_time\": \"2024-06-18T14:31:40.263441Z\", \"created_time_dt\": \"2024-06-18T14:31:40.263441Z\", \"duration\": \"0:00:44\", \"iteration\": \"34\", \"goal\": \"accuracy_max\", \"run_name\": \"SparseNormalizer, XGBoostClassifier\", \"run_properties\": \"copy=True, norm='l1'\", \"primary_metric\": 0.84276836, \"best_metric\": 0.84282486}, {\"run_id\": \"AutoML_b39ec310-aa0a-48c0-929f-41caee24e096_35\", \"run_number\": 1718721109, \"metric\": null, \"status\": \"Completed\", \"run_type\": \"azureml.scriptrun\", \"training_percent\": \"100\", \"start_time\": \"2024-06-18T14:31:56.829382Z\", \"end_time\": \"2024-06-18T14:32:33.34204Z\", \"created_time\": \"2024-06-18T14:31:49.962701Z\", \"created_time_dt\": \"2024-06-18T14:31:49.962701Z\", \"duration\": \"0:00:43\", \"iteration\": \"35\", \"goal\": \"accuracy_max\", \"run_name\": \"TruncatedSVDWrapper, XGBoostClassifier\", \"run_properties\": \"n_components=0.8510526315789474, random_state=None\", \"primary_metric\": 0.67909605, \"best_metric\": 0.84282486}, {\"run_id\": \"AutoML_b39ec310-aa0a-48c0-929f-41caee24e096_36\", \"run_number\": 1718721118, \"metric\": null, \"status\": \"Completed\", \"run_type\": \"azureml.scriptrun\", \"training_percent\": \"100\", \"start_time\": \"2024-06-18T14:32:05.562453Z\", \"end_time\": \"2024-06-18T14:32:43.412053Z\", \"created_time\": \"2024-06-18T14:31:58.67685Z\", \"created_time_dt\": \"2024-06-18T14:31:58.67685Z\", \"duration\": \"0:00:44\", \"iteration\": \"36\", \"goal\": \"accuracy_max\", \"run_name\": \"SparseNormalizer, LightGBM\", \"run_properties\": \"copy=True, norm='l1'\", \"primary_metric\": 0.85282486, \"best_metric\": 0.85282486}, {\"run_id\": \"AutoML_b39ec310-aa0a-48c0-929f-41caee24e096_37\", \"run_number\": 1718721129, \"metric\": null, \"status\": \"Completed\", \"run_type\": \"azureml.scriptrun\", \"training_percent\": \"100\", \"start_time\": \"2024-06-18T14:32:16.07257Z\", \"end_time\": \"2024-06-18T14:32:53.706695Z\", \"created_time\": \"2024-06-18T14:32:09.0573Z\", \"created_time_dt\": \"2024-06-18T14:32:09.0573Z\", \"duration\": \"0:00:44\", \"iteration\": \"37\", \"goal\": \"accuracy_max\", \"run_name\": \"SparseNormalizer, XGBoostClassifier\", \"run_properties\": \"copy=True, norm='l1'\", \"primary_metric\": 0.82610169, \"best_metric\": 0.85282486}, {\"run_id\": \"AutoML_b39ec310-aa0a-48c0-929f-41caee24e096_38\", \"run_number\": 1718721145, \"metric\": null, \"status\": \"Completed\", \"run_type\": \"azureml.scriptrun\", \"training_percent\": \"100\", \"start_time\": \"2024-06-18T14:32:33.268638Z\", \"end_time\": \"2024-06-18T14:33:10.331822Z\", \"created_time\": \"2024-06-18T14:32:25.952816Z\", \"created_time_dt\": \"2024-06-18T14:32:25.952816Z\", \"duration\": \"0:00:44\", \"iteration\": \"38\", \"goal\": \"accuracy_max\", \"run_name\": \"SparseNormalizer, XGBoostClassifier\", \"run_properties\": \"copy=True, norm='max'\", \"primary_metric\": 0.84966102, \"best_metric\": 0.85282486}, {\"run_id\": \"AutoML_b39ec310-aa0a-48c0-929f-41caee24e096_39\", \"run_number\": 1718721154, \"metric\": null, \"status\": \"Completed\", \"run_type\": \"azureml.scriptrun\", \"training_percent\": \"100\", \"start_time\": \"2024-06-18T14:32:42.028372Z\", \"end_time\": \"2024-06-18T14:33:19.568227Z\", \"created_time\": \"2024-06-18T14:32:34.740839Z\", \"created_time_dt\": \"2024-06-18T14:32:34.740839Z\", \"duration\": \"0:00:44\", \"iteration\": \"39\", \"goal\": \"accuracy_max\", \"run_name\": \"StandardScalerWrapper, XGBoostClassifier\", \"run_properties\": \"copy=True, with_mean=False, with_std=False\", \"primary_metric\": 0.8059322, \"best_metric\": 0.85282486}, {\"run_id\": \"AutoML_b39ec310-aa0a-48c0-929f-41caee24e096_40\", \"run_number\": 1718721165, \"metric\": null, \"status\": \"Completed\", \"run_type\": \"azureml.scriptrun\", \"training_percent\": \"100\", \"start_time\": \"2024-06-18T14:32:52.478182Z\", \"end_time\": \"2024-06-18T14:33:29.88107Z\", \"created_time\": \"2024-06-18T14:32:45.74756Z\", \"created_time_dt\": \"2024-06-18T14:32:45.74756Z\", \"duration\": \"0:00:44\", \"iteration\": \"40\", \"goal\": \"accuracy_max\", \"run_name\": \"RobustScaler, LightGBM\", \"run_properties\": \"copy=True, quantile_range=[25, 75], with_centering=True,\\n             with_scaling=False\", \"primary_metric\": 0.70254237, \"best_metric\": 0.85282486}, {\"run_id\": \"AutoML_b39ec310-aa0a-48c0-929f-41caee24e096_41\", \"run_number\": 1718721175, \"metric\": null, \"status\": \"Completed\", \"run_type\": \"azureml.scriptrun\", \"training_percent\": \"100\", \"start_time\": \"2024-06-18T14:33:02.300429Z\", \"end_time\": \"2024-06-18T14:33:39.457515Z\", \"created_time\": \"2024-06-18T14:32:55.054876Z\", \"created_time_dt\": \"2024-06-18T14:32:55.054876Z\", \"duration\": \"0:00:44\", \"iteration\": \"41\", \"goal\": \"accuracy_max\", \"run_name\": \"SparseNormalizer, XGBoostClassifier\", \"run_properties\": \"copy=True, norm='l1'\", \"primary_metric\": 0.84627119, \"best_metric\": 0.85282486}, {\"run_id\": \"AutoML_b39ec310-aa0a-48c0-929f-41caee24e096_42\", \"run_number\": 1718721191, \"metric\": null, \"status\": \"Completed\", \"run_type\": \"azureml.scriptrun\", \"training_percent\": \"100\", \"start_time\": \"2024-06-18T14:33:18.80941Z\", \"end_time\": \"2024-06-18T14:33:54.918613Z\", \"created_time\": \"2024-06-18T14:33:11.759288Z\", \"created_time_dt\": \"2024-06-18T14:33:11.759288Z\", \"duration\": \"0:00:43\", \"iteration\": \"42\", \"goal\": \"accuracy_max\", \"run_name\": \"RobustScaler, GradientBoosting\", \"run_properties\": \"copy=True, quantile_range=[25, 75], with_centering=False,\\n             with_scaling=False\", \"primary_metric\": 0.8360452, \"best_metric\": 0.85282486}, {\"run_id\": \"AutoML_b39ec310-aa0a-48c0-929f-41caee24e096_43\", \"run_number\": 1718721200, \"metric\": null, \"status\": \"Completed\", \"run_type\": \"azureml.scriptrun\", \"training_percent\": \"100\", \"start_time\": \"2024-06-18T14:33:27.861718Z\", \"end_time\": \"2024-06-18T14:34:05.604254Z\", \"created_time\": \"2024-06-18T14:33:20.963777Z\", \"created_time_dt\": \"2024-06-18T14:33:20.963777Z\", \"duration\": \"0:00:44\", \"iteration\": \"43\", \"goal\": \"accuracy_max\", \"run_name\": \"StandardScalerWrapper, RandomForest\", \"run_properties\": \"copy=True, with_mean=False, with_std=True\", \"primary_metric\": 0.80581921, \"best_metric\": 0.85282486}, {\"run_id\": \"AutoML_b39ec310-aa0a-48c0-929f-41caee24e096_44\", \"run_number\": 1718721211, \"metric\": null, \"status\": \"Completed\", \"run_type\": \"azureml.scriptrun\", \"training_percent\": \"100\", \"start_time\": \"2024-06-18T14:33:38.10071Z\", \"end_time\": \"2024-06-18T14:34:16.389697Z\", \"created_time\": \"2024-06-18T14:33:31.243133Z\", \"created_time_dt\": \"2024-06-18T14:33:31.243133Z\", \"duration\": \"0:00:45\", \"iteration\": \"44\", \"goal\": \"accuracy_max\", \"run_name\": \"StandardScalerWrapper, XGBoostClassifier\", \"run_properties\": \"copy=True, with_mean=False, with_std=False\", \"primary_metric\": 0.84949153, \"best_metric\": 0.85282486}, {\"run_id\": \"AutoML_b39ec310-aa0a-48c0-929f-41caee24e096_45\", \"run_number\": 1718721221, \"metric\": null, \"status\": \"Completed\", \"run_type\": \"azureml.scriptrun\", \"training_percent\": \"100\", \"start_time\": \"2024-06-18T14:33:49.338008Z\", \"end_time\": \"2024-06-18T14:34:26.983092Z\", \"created_time\": \"2024-06-18T14:33:41.86198Z\", \"created_time_dt\": \"2024-06-18T14:33:41.86198Z\", \"duration\": \"0:00:45\", \"iteration\": \"45\", \"goal\": \"accuracy_max\", \"run_name\": \"SparseNormalizer, LightGBM\", \"run_properties\": \"copy=True, norm='l2'\", \"primary_metric\": 0.81943503, \"best_metric\": 0.85282486}, {\"run_id\": \"AutoML_b39ec310-aa0a-48c0-929f-41caee24e096_46\", \"run_number\": 1718721236, \"metric\": null, \"status\": \"Completed\", \"run_type\": \"azureml.scriptrun\", \"training_percent\": \"100\", \"start_time\": \"2024-06-18T14:34:03.316776Z\", \"end_time\": \"2024-06-18T14:34:42.018242Z\", \"created_time\": \"2024-06-18T14:33:56.440619Z\", \"created_time_dt\": \"2024-06-18T14:33:56.440619Z\", \"duration\": \"0:00:45\", \"iteration\": \"46\", \"goal\": \"accuracy_max\", \"run_name\": \"StandardScalerWrapper, RandomForest\", \"run_properties\": \"copy=True, with_mean=False, with_std=True\", \"primary_metric\": 0.78231638, \"best_metric\": 0.85282486}, {\"run_id\": \"AutoML_b39ec310-aa0a-48c0-929f-41caee24e096_47\", \"run_number\": 1718721247, \"metric\": null, \"status\": \"Completed\", \"run_type\": \"azureml.scriptrun\", \"training_percent\": \"100\", \"start_time\": \"2024-06-18T14:34:14.153475Z\", \"end_time\": \"2024-06-18T14:34:53.738078Z\", \"created_time\": \"2024-06-18T14:34:07.20754Z\", \"created_time_dt\": \"2024-06-18T14:34:07.20754Z\", \"duration\": \"0:00:46\", \"iteration\": \"47\", \"goal\": \"accuracy_max\", \"run_name\": \"StandardScalerWrapper, XGBoostClassifier\", \"run_properties\": \"copy=True, with_mean=False, with_std=False\", \"primary_metric\": 0.82932203, \"best_metric\": 0.85282486}, {\"run_id\": \"AutoML_b39ec310-aa0a-48c0-929f-41caee24e096_48\", \"run_number\": 1718721257, \"metric\": null, \"status\": \"Completed\", \"run_type\": \"azureml.scriptrun\", \"training_percent\": \"100\", \"start_time\": \"2024-06-18T14:34:24.617522Z\", \"end_time\": \"2024-06-18T14:35:03.929297Z\", \"created_time\": \"2024-06-18T14:34:17.765399Z\", \"created_time_dt\": \"2024-06-18T14:34:17.765399Z\", \"duration\": \"0:00:46\", \"iteration\": \"48\", \"goal\": \"accuracy_max\", \"run_name\": \"SparseNormalizer, XGBoostClassifier\", \"run_properties\": \"copy=True, norm='l1'\", \"primary_metric\": 0.84954802, \"best_metric\": 0.85282486}, {\"run_id\": \"AutoML_b39ec310-aa0a-48c0-929f-41caee24e096_49\", \"run_number\": 1718721268, \"metric\": null, \"status\": \"Completed\", \"run_type\": \"azureml.scriptrun\", \"training_percent\": \"100\", \"start_time\": \"2024-06-18T14:34:35.348284Z\", \"end_time\": \"2024-06-18T14:35:12.40771Z\", \"created_time\": \"2024-06-18T14:34:28.454319Z\", \"created_time_dt\": \"2024-06-18T14:34:28.454319Z\", \"duration\": \"0:00:43\", \"iteration\": \"49\", \"goal\": \"accuracy_max\", \"run_name\": \"SparseNormalizer, XGBoostClassifier\", \"run_properties\": \"copy=True, norm='l2'\", \"primary_metric\": 0.83610169, \"best_metric\": 0.85282486}, {\"run_id\": \"AutoML_b39ec310-aa0a-48c0-929f-41caee24e096_50\", \"run_number\": 1718721284, \"metric\": null, \"status\": \"Canceled\", \"run_type\": \"azureml.scriptrun\", \"training_percent\": \"100\", \"start_time\": \"2024-06-18T14:34:51.433518Z\", \"end_time\": \"2024-06-18T14:35:18.519097Z\", \"created_time\": \"2024-06-18T14:34:44.462168Z\", \"created_time_dt\": \"2024-06-18T14:34:44.462168Z\", \"duration\": \"0:00:34\", \"iteration\": \"50\", \"goal\": \"accuracy_max\", \"run_name\": \"StandardScalerWrapper, LightGBM\", \"run_properties\": \"copy=True, with_mean=True, with_std=False\", \"primary_metric\": 0.83937853, \"best_metric\": 0.85282486}, {\"run_id\": \"AutoML_b39ec310-aa0a-48c0-929f-41caee24e096_51\", \"run_number\": 1718721295, \"metric\": null, \"status\": \"Canceled\", \"run_type\": \"azureml.scriptrun\", \"training_percent\": \"100\", \"start_time\": \"2024-06-18T14:35:02.060497Z\", \"end_time\": \"2024-06-18T14:35:18.556892Z\", \"created_time\": \"2024-06-18T14:34:55.249577Z\", \"created_time_dt\": \"2024-06-18T14:34:55.249577Z\", \"duration\": \"0:00:23\", \"iteration\": \"51\", \"goal\": null, \"run_name\": \"SparseNormalizer, XGBoostClassifier\", \"run_properties\": null}, {\"run_id\": \"AutoML_b39ec310-aa0a-48c0-929f-41caee24e096_52\", \"run_number\": 1718721305, \"metric\": null, \"status\": \"Canceled\", \"run_type\": \"azureml.scriptrun\", \"training_percent\": \"100\", \"start_time\": \"2024-06-18T14:35:12.37689Z\", \"end_time\": \"2024-06-18T14:35:17.970533Z\", \"created_time\": \"2024-06-18T14:35:05.354673Z\", \"created_time_dt\": \"2024-06-18T14:35:05.354673Z\", \"duration\": \"0:00:12\", \"iteration\": \"52\", \"goal\": null, \"run_name\": \"Canceled\", \"run_properties\": null}, {\"run_id\": \"AutoML_b39ec310-aa0a-48c0-929f-41caee24e096_53\", \"run_number\": 1718721319, \"metric\": null, \"status\": \"Completed\", \"run_type\": \"azureml.scriptrun\", \"training_percent\": \"100\", \"start_time\": \"2024-06-18T14:35:26.371432Z\", \"end_time\": \"2024-06-18T14:36:32.008636Z\", \"created_time\": \"2024-06-18T14:35:19.329962Z\", \"created_time_dt\": \"2024-06-18T14:35:19.329962Z\", \"duration\": \"0:01:12\", \"iteration\": \"53\", \"goal\": \"accuracy_max\", \"run_name\": \"VotingEnsemble\", \"run_properties\": \"classification_labels=numpy.array([0, 1]\", \"primary_metric\": 0.88971751, \"best_metric\": 0.88971751}], \"children_metrics\": {\"categories\": [0], \"series\": {\"matthews_correlation\": [{\"categories\": [\"0\", \"2\", \"7\", \"12\", \"17\", \"21\", \"24\", \"25\", \"27\", \"28\", \"29\", \"31\", \"32\", \"33\", \"34\", \"35\", \"36\", \"37\", \"38\", \"39\", \"40\", \"41\", \"42\", \"43\", \"44\", \"45\", \"46\", \"47\", \"48\", \"49\", \"50\", \"53\"], \"mode\": \"markers\", \"name\": \"matthews_correlation\", \"stepped\": false, \"type\": \"scatter\", \"data\": [0.6403744433261381, 0.6342598982060517, 0.565194289954521, 0.47140876129758924, 0.5697781722393639, 0.6336109808098778, 0.610700389814898, 0.6240028178126825, 0.6399616642005085, 0.6221830703805049, 0.6225092059168277, 0.6345228004784262, 0.6177855217781744, 0.59095070828697, 0.6354198908594917, 0.0, 0.6651292931283608, 0.6013493116936739, 0.6635895388563839, 0.541905202510899, 0.20570490551391826, 0.6471060251005029, 0.6265780901590804, 0.5661371366248409, 0.655553802377392, 0.5873037129076533, 0.5221588018924749, 0.6127825814055414, 0.6525120095812152, 0.6299092878703616, 0.6339400084591118, 0.7553025119722379]}, {\"categories\": [\"0\", \"2\", \"7\", \"12\", \"17\", \"21\", \"24\", \"25\", \"27\", \"28\", \"29\", \"31\", \"32\", \"33\", \"34\", \"35\", \"36\", \"37\", \"38\", \"39\", \"40\", \"41\", \"42\", \"43\", \"44\", \"45\", \"46\", \"47\", \"48\", \"49\", \"50\", \"53\"], \"mode\": \"lines\", \"name\": \"matthews_correlation_max\", \"stepped\": true, \"type\": \"scatter\", \"data\": [0.6403744433261381, 0.6403744433261381, 0.6403744433261381, 0.6403744433261381, 0.6403744433261381, 0.6403744433261381, 0.6403744433261381, 0.6403744433261381, 0.6403744433261381, 0.6403744433261381, 0.6403744433261381, 0.6403744433261381, 0.6403744433261381, 0.6403744433261381, 0.6403744433261381, 0.6403744433261381, 0.6651292931283608, 0.6651292931283608, 0.6651292931283608, 0.6651292931283608, 0.6651292931283608, 0.6651292931283608, 0.6651292931283608, 0.6651292931283608, 0.6651292931283608, 0.6651292931283608, 0.6651292931283608, 0.6651292931283608, 0.6651292931283608, 0.6651292931283608, 0.6651292931283608, 0.7553025119722379]}], \"average_precision_score_weighted\": [{\"categories\": [\"0\", \"2\", \"7\", \"12\", \"17\", \"21\", \"24\", \"25\", \"27\", \"28\", \"29\", \"31\", \"32\", \"33\", \"34\", \"35\", \"36\", \"37\", \"38\", \"39\", \"40\", \"41\", \"42\", \"43\", \"44\", \"45\", \"46\", \"47\", \"48\", \"49\", \"50\", \"53\"], \"mode\": \"markers\", \"name\": \"average_precision_score_weighted\", \"stepped\": false, \"type\": \"scatter\", \"data\": [0.9092107718745325, 0.8955975360005068, 0.9159772124532335, 0.8736836273255351, 0.8909926242029712, 0.920432144076998, 0.9139469925901326, 0.9100144832545946, 0.915141110079557, 0.8959890141114639, 0.9099628137012928, 0.9189109653723474, 0.9155462455808399, 0.9108757667180841, 0.8962739893033392, 0.5796089246385138, 0.9122191464901139, 0.898919756270606, 0.9061302236944666, 0.909817673961612, 0.9050015944636005, 0.9096691998395968, 0.9246348630640883, 0.9017834299255945, 0.8966571375808906, 0.8872533775329007, 0.8744394182758228, 0.9088052146172385, 0.9085299948206391, 0.8967622703707161, 0.9127706246191394, 0.9220355539932792]}, {\"categories\": [\"0\", \"2\", \"7\", \"12\", \"17\", \"21\", \"24\", \"25\", \"27\", \"28\", \"29\", \"31\", \"32\", \"33\", \"34\", \"35\", \"36\", \"37\", \"38\", \"39\", \"40\", \"41\", \"42\", \"43\", \"44\", \"45\", \"46\", \"47\", \"48\", \"49\", \"50\", \"53\"], \"mode\": \"lines\", \"name\": \"average_precision_score_weighted_max\", \"stepped\": true, \"type\": \"scatter\", \"data\": [0.9092107718745325, 0.9092107718745325, 0.9159772124532335, 0.9159772124532335, 0.9159772124532335, 0.920432144076998, 0.920432144076998, 0.920432144076998, 0.920432144076998, 0.920432144076998, 0.920432144076998, 0.920432144076998, 0.920432144076998, 0.920432144076998, 0.920432144076998, 0.920432144076998, 0.920432144076998, 0.920432144076998, 0.920432144076998, 0.920432144076998, 0.920432144076998, 0.920432144076998, 0.9246348630640883, 0.9246348630640883, 0.9246348630640883, 0.9246348630640883, 0.9246348630640883, 0.9246348630640883, 0.9246348630640883, 0.9246348630640883, 0.9246348630640883, 0.9246348630640883]}], \"AUC_weighted\": [{\"categories\": [\"0\", \"2\", \"7\", \"12\", \"17\", \"21\", \"24\", \"25\", \"27\", \"28\", \"29\", \"31\", \"32\", \"33\", \"34\", \"35\", \"36\", \"37\", \"38\", \"39\", \"40\", \"41\", \"42\", \"43\", \"44\", \"45\", \"46\", \"47\", \"48\", \"49\", \"50\", \"53\"], \"mode\": \"markers\", \"name\": \"AUC_weighted\", \"stepped\": false, \"type\": \"scatter\", \"data\": [0.8923947259136213, 0.8782747323735697, 0.9045800110741972, 0.8536618909191583, 0.8716356127722407, 0.9077827727021042, 0.901281872923588, 0.8948025332225914, 0.9043778839055001, 0.8866393503137691, 0.8938917497231451, 0.9080468576965671, 0.9033244278331487, 0.8950454734219269, 0.8842696797711331, 0.5, 0.8995224021779255, 0.8849826042820229, 0.8927715716131412, 0.8977393295496494, 0.8875014073458841, 0.9007715946843854, 0.9110565937615357, 0.8859559800664453, 0.8883558508674788, 0.866920415743817, 0.8625807839608711, 0.8955714631782946, 0.8978319490586932, 0.8823046327057955, 0.8950643226282761, 0.9128696705426356]}, {\"categories\": [\"0\", \"2\", \"7\", \"12\", \"17\", \"21\", \"24\", \"25\", \"27\", \"28\", \"29\", \"31\", \"32\", \"33\", \"34\", \"35\", \"36\", \"37\", \"38\", \"39\", \"40\", \"41\", \"42\", \"43\", \"44\", \"45\", \"46\", \"47\", \"48\", \"49\", \"50\", \"53\"], \"mode\": \"lines\", \"name\": \"AUC_weighted_max\", \"stepped\": true, \"type\": \"scatter\", \"data\": [0.8923947259136213, 0.8923947259136213, 0.9045800110741972, 0.9045800110741972, 0.9045800110741972, 0.9077827727021042, 0.9077827727021042, 0.9077827727021042, 0.9077827727021042, 0.9077827727021042, 0.9077827727021042, 0.9080468576965671, 0.9080468576965671, 0.9080468576965671, 0.9080468576965671, 0.9080468576965671, 0.9080468576965671, 0.9080468576965671, 0.9080468576965671, 0.9080468576965671, 0.9080468576965671, 0.9080468576965671, 0.9110565937615357, 0.9110565937615357, 0.9110565937615357, 0.9110565937615357, 0.9110565937615357, 0.9110565937615357, 0.9110565937615357, 0.9110565937615357, 0.9110565937615357, 0.9128696705426356]}], \"f1_score_macro\": [{\"categories\": [\"0\", \"2\", \"7\", \"12\", \"17\", \"21\", \"24\", \"25\", \"27\", \"28\", \"29\", \"31\", \"32\", \"33\", \"34\", \"35\", \"36\", \"37\", \"38\", \"39\", \"40\", \"41\", \"42\", \"43\", \"44\", \"45\", \"46\", \"47\", \"48\", \"49\", \"50\", \"53\"], \"mode\": \"markers\", \"name\": \"f1_score_macro\", \"stepped\": false, \"type\": \"scatter\", \"data\": [0.8120777859845001, 0.8086400157460648, 0.7608534582035815, 0.7122738703639705, 0.7638066281867016, 0.8047538827872499, 0.7982413770467163, 0.804159985118537, 0.8127630534624147, 0.799086693661103, 0.8003772170765784, 0.8072426792227991, 0.7991772531059993, 0.786130799998138, 0.7992992958432223, 0.40276783177038933, 0.8221648224238862, 0.7893221921447727, 0.8197219312369348, 0.756638605714236, 0.4890304822851407, 0.8104116534822567, 0.8030257630175583, 0.776405508202296, 0.8130519417450831, 0.7829007118631722, 0.7534009449256193, 0.7944708797607573, 0.8150138324315759, 0.8037430064025808, 0.8065099094199761, 0.8660905548676316]}, {\"categories\": [\"0\", \"2\", \"7\", \"12\", \"17\", \"21\", \"24\", \"25\", \"27\", \"28\", \"29\", \"31\", \"32\", \"33\", \"34\", \"35\", \"36\", \"37\", \"38\", \"39\", \"40\", \"41\", \"42\", \"43\", \"44\", \"45\", \"46\", \"47\", \"48\", \"49\", \"50\", \"53\"], \"mode\": \"lines\", \"name\": \"f1_score_macro_max\", \"stepped\": true, \"type\": \"scatter\", \"data\": [0.8120777859845001, 0.8120777859845001, 0.8120777859845001, 0.8120777859845001, 0.8120777859845001, 0.8120777859845001, 0.8120777859845001, 0.8120777859845001, 0.8127630534624147, 0.8127630534624147, 0.8127630534624147, 0.8127630534624147, 0.8127630534624147, 0.8127630534624147, 0.8127630534624147, 0.8127630534624147, 0.8221648224238862, 0.8221648224238862, 0.8221648224238862, 0.8221648224238862, 0.8221648224238862, 0.8221648224238862, 0.8221648224238862, 0.8221648224238862, 0.8221648224238862, 0.8221648224238862, 0.8221648224238862, 0.8221648224238862, 0.8221648224238862, 0.8221648224238862, 0.8221648224238862, 0.8660905548676316]}], \"weighted_accuracy\": [{\"categories\": [\"0\", \"2\", \"7\", \"12\", \"17\", \"21\", \"24\", \"25\", \"27\", \"28\", \"29\", \"31\", \"32\", \"33\", \"34\", \"35\", \"36\", \"37\", \"38\", \"39\", \"40\", \"41\", \"42\", \"43\", \"44\", \"45\", \"46\", \"47\", \"48\", \"49\", \"50\", \"53\"], \"mode\": \"markers\", \"name\": \"weighted_accuracy\", \"stepped\": false, \"type\": \"scatter\", \"data\": [0.8612928020219082, 0.8443623253097512, 0.8571349682201514, 0.7157645929496177, 0.829938160671958, 0.8490466210237064, 0.8461747143605514, 0.8685624000761678, 0.8600962829880026, 0.8633695682548554, 0.8508042475897722, 0.8544598340713119, 0.8540655347839008, 0.835471668515219, 0.8820072021409409, 0.7971865900207855, 0.8727097822417809, 0.8487033970084367, 0.8687449117414188, 0.8471135019328397, 0.8071681465388798, 0.8748030663298468, 0.8568042475897724, 0.8152815697485352, 0.8780274789250617, 0.8445524240764349, 0.7895636460457263, 0.8480780884527104, 0.8739717635188523, 0.8555269264202012, 0.8608042475897723, 0.908408072959493]}, {\"categories\": [\"0\", \"2\", \"7\", \"12\", \"17\", \"21\", \"24\", \"25\", \"27\", \"28\", \"29\", \"31\", \"32\", \"33\", \"34\", \"35\", \"36\", \"37\", \"38\", \"39\", \"40\", \"41\", \"42\", \"43\", \"44\", \"45\", \"46\", \"47\", \"48\", \"49\", \"50\", \"53\"], \"mode\": \"lines\", \"name\": \"weighted_accuracy_max\", \"stepped\": true, \"type\": \"scatter\", \"data\": [0.8612928020219082, 0.8612928020219082, 0.8612928020219082, 0.8612928020219082, 0.8612928020219082, 0.8612928020219082, 0.8612928020219082, 0.8685624000761678, 0.8685624000761678, 0.8685624000761678, 0.8685624000761678, 0.8685624000761678, 0.8685624000761678, 0.8685624000761678, 0.8820072021409409, 0.8820072021409409, 0.8820072021409409, 0.8820072021409409, 0.8820072021409409, 0.8820072021409409, 0.8820072021409409, 0.8820072021409409, 0.8820072021409409, 0.8820072021409409, 0.8820072021409409, 0.8820072021409409, 0.8820072021409409, 0.8820072021409409, 0.8820072021409409, 0.8820072021409409, 0.8820072021409409, 0.908408072959493]}], \"precision_score_micro\": [{\"categories\": [\"0\", \"2\", \"7\", \"12\", \"17\", \"21\", \"24\", \"25\", \"27\", \"28\", \"29\", \"31\", \"32\", \"33\", \"34\", \"35\", \"36\", \"37\", \"38\", \"39\", \"40\", \"41\", \"42\", \"43\", \"44\", \"45\", \"46\", \"47\", \"48\", \"49\", \"50\", \"53\"], \"mode\": \"markers\", \"name\": \"precision_score_micro\", \"stepped\": false, \"type\": \"scatter\", \"data\": [0.8428248587570621, 0.8359887005649718, 0.8127118644067796, 0.7323163841807909, 0.8061016949152542, 0.8361016949152542, 0.8293785310734464, 0.8425988700564971, 0.8427118644067797, 0.836045197740113, 0.8327118644067797, 0.8393220338983051, 0.8327683615819209, 0.8192655367231637, 0.8427683615819209, 0.67909604519774, 0.8528248587570622, 0.8261016949152543, 0.8496610169491525, 0.8059322033898304, 0.7025423728813559, 0.846271186440678, 0.836045197740113, 0.805819209039548, 0.8494915254237287, 0.8194350282485875, 0.782316384180791, 0.8293220338983052, 0.8495480225988701, 0.8361016949152542, 0.8393785310734463, 0.8897175141242938]}, {\"categories\": [\"0\", \"2\", \"7\", \"12\", \"17\", \"21\", \"24\", \"25\", \"27\", \"28\", \"29\", \"31\", \"32\", \"33\", \"34\", \"35\", \"36\", \"37\", \"38\", \"39\", \"40\", \"41\", \"42\", \"43\", \"44\", \"45\", \"46\", \"47\", \"48\", \"49\", \"50\", \"53\"], \"mode\": \"lines\", \"name\": \"precision_score_micro_max\", \"stepped\": true, \"type\": \"scatter\", \"data\": [0.8428248587570621, 0.8428248587570621, 0.8428248587570621, 0.8428248587570621, 0.8428248587570621, 0.8428248587570621, 0.8428248587570621, 0.8428248587570621, 0.8428248587570621, 0.8428248587570621, 0.8428248587570621, 0.8428248587570621, 0.8428248587570621, 0.8428248587570621, 0.8428248587570621, 0.8428248587570621, 0.8528248587570622, 0.8528248587570622, 0.8528248587570622, 0.8528248587570622, 0.8528248587570622, 0.8528248587570622, 0.8528248587570622, 0.8528248587570622, 0.8528248587570622, 0.8528248587570622, 0.8528248587570622, 0.8528248587570622, 0.8528248587570622, 0.8528248587570622, 0.8528248587570622, 0.8897175141242938]}], \"log_loss\": [{\"categories\": [\"0\", \"2\", \"7\", \"12\", \"17\", \"21\", \"24\", \"25\", \"27\", \"28\", \"29\", \"31\", \"32\", \"33\", \"34\", \"35\", \"36\", \"37\", \"38\", \"39\", \"40\", \"41\", \"42\", \"43\", \"44\", \"45\", \"46\", \"47\", \"48\", \"49\", \"50\", \"53\"], \"mode\": \"markers\", \"name\": \"log_loss\", \"stepped\": false, \"type\": \"scatter\", \"data\": [0.5079173229698006, 0.5439114955918439, 0.47862204612035314, 0.5138278483104775, 0.4344362459504068, 0.40028525788303754, 0.397287963484988, 0.400856385158977, 0.37839280806408615, 0.4327618778556948, 0.3973100194118676, 0.3894561679112035, 0.38617394325993815, 0.4804033172420084, 0.4564108930486948, 0.637478776471145, 0.3880207184481188, 0.4798032381874197, 0.4145976842906453, 0.5689704466801093, 0.5505023051592541, 0.43596697546095253, 0.37852984732149575, 0.5623710747711017, 0.4154402409188279, 0.4367558296701716, 0.7408679216807659, 0.56899206476599, 0.43427487517098146, 0.4100549811512321, 0.3993764060936692, 0.37540732673932947]}, {\"categories\": [\"0\", \"2\", \"7\", \"12\", \"17\", \"21\", \"24\", \"25\", \"27\", \"28\", \"29\", \"31\", \"32\", \"33\", \"34\", \"35\", \"36\", \"37\", \"38\", \"39\", \"40\", \"41\", \"42\", \"43\", \"44\", \"45\", \"46\", \"47\", \"48\", \"49\", \"50\", \"53\"], \"mode\": \"lines\", \"name\": \"log_loss_min\", \"stepped\": true, \"type\": \"scatter\", \"data\": [0.5079173229698006, 0.5079173229698006, 0.47862204612035314, 0.47862204612035314, 0.4344362459504068, 0.40028525788303754, 0.397287963484988, 0.397287963484988, 0.37839280806408615, 0.37839280806408615, 0.37839280806408615, 0.37839280806408615, 0.37839280806408615, 0.37839280806408615, 0.37839280806408615, 0.37839280806408615, 0.37839280806408615, 0.37839280806408615, 0.37839280806408615, 0.37839280806408615, 0.37839280806408615, 0.37839280806408615, 0.37839280806408615, 0.37839280806408615, 0.37839280806408615, 0.37839280806408615, 0.37839280806408615, 0.37839280806408615, 0.37839280806408615, 0.37839280806408615, 0.37839280806408615, 0.37540732673932947]}], \"precision_score_macro\": [{\"categories\": [\"0\", \"2\", \"7\", \"12\", \"17\", \"21\", \"24\", \"25\", \"27\", \"28\", \"29\", \"31\", \"32\", \"33\", \"34\", \"35\", \"36\", \"37\", \"38\", \"39\", \"40\", \"41\", \"42\", \"43\", \"44\", \"45\", \"46\", \"47\", \"48\", \"49\", \"50\", \"53\"], \"mode\": \"markers\", \"name\": \"precision_score_macro\", \"stepped\": false, \"type\": \"scatter\", \"data\": [0.8271330541439237, 0.8123833695709909, 0.8209751775249992, 0.7194071320836027, 0.8017021258491441, 0.8185316853451864, 0.8064871190121388, 0.8231071072110744, 0.8235552254852795, 0.8266347782652131, 0.817593002375611, 0.8192901405944883, 0.816468253968254, 0.7966984946660813, 0.8571585204630615, 0.33954802259887, 0.8428780169741268, 0.8102460352897088, 0.8435113579514238, 0.7992863259928477, 0.6486146400483969, 0.8457427337283953, 0.8215661708015339, 0.7748834245689672, 0.8516880940513838, 0.8056556932990911, 0.7508336929389561, 0.8121839875100745, 0.8408948205143545, 0.8236944042357894, 0.8264768214117992, 0.8961048938444603]}, {\"categories\": [\"0\", \"2\", \"7\", \"12\", \"17\", \"21\", \"24\", \"25\", \"27\", \"28\", \"29\", \"31\", \"32\", \"33\", \"34\", \"35\", \"36\", \"37\", \"38\", \"39\", \"40\", \"41\", \"42\", \"43\", \"44\", \"45\", \"46\", \"47\", \"48\", \"49\", \"50\", \"53\"], \"mode\": \"lines\", \"name\": \"precision_score_macro_max\", \"stepped\": true, \"type\": \"scatter\", \"data\": [0.8271330541439237, 0.8271330541439237, 0.8271330541439237, 0.8271330541439237, 0.8271330541439237, 0.8271330541439237, 0.8271330541439237, 0.8271330541439237, 0.8271330541439237, 0.8271330541439237, 0.8271330541439237, 0.8271330541439237, 0.8271330541439237, 0.8271330541439237, 0.8571585204630615, 0.8571585204630615, 0.8571585204630615, 0.8571585204630615, 0.8571585204630615, 0.8571585204630615, 0.8571585204630615, 0.8571585204630615, 0.8571585204630615, 0.8571585204630615, 0.8571585204630615, 0.8571585204630615, 0.8571585204630615, 0.8571585204630615, 0.8571585204630615, 0.8571585204630615, 0.8571585204630615, 0.8961048938444603]}], \"AUC_macro\": [{\"categories\": [\"0\", \"2\", \"7\", \"12\", \"17\", \"21\", \"24\", \"25\", \"27\", \"28\", \"29\", \"31\", \"32\", \"33\", \"34\", \"35\", \"36\", \"37\", \"38\", \"39\", \"40\", \"41\", \"42\", \"43\", \"44\", \"45\", \"46\", \"47\", \"48\", \"49\", \"50\", \"53\"], \"mode\": \"markers\", \"name\": \"AUC_macro\", \"stepped\": false, \"type\": \"scatter\", \"data\": [0.8923947259136213, 0.8782747323735697, 0.9045800110741972, 0.8536618909191583, 0.8716356127722407, 0.9077827727021042, 0.901281872923588, 0.8948025332225914, 0.9043778839055001, 0.8866393503137691, 0.8938917497231451, 0.908046857696567, 0.9033244278331487, 0.8950454734219268, 0.8842696797711331, 0.5, 0.8995224021779255, 0.8849826042820229, 0.8927715716131412, 0.8977393295496494, 0.8875014073458841, 0.9007715946843854, 0.9110565937615357, 0.8859559800664453, 0.8883558508674788, 0.866920415743817, 0.8625807839608711, 0.8955714631782946, 0.8978319490586932, 0.8823046327057955, 0.8950643226282761, 0.9128696705426357]}, {\"categories\": [\"0\", \"2\", \"7\", \"12\", \"17\", \"21\", \"24\", \"25\", \"27\", \"28\", \"29\", \"31\", \"32\", \"33\", \"34\", \"35\", \"36\", \"37\", \"38\", \"39\", \"40\", \"41\", \"42\", \"43\", \"44\", \"45\", \"46\", \"47\", \"48\", \"49\", \"50\", \"53\"], \"mode\": \"lines\", \"name\": \"AUC_macro_max\", \"stepped\": true, \"type\": \"scatter\", \"data\": [0.8923947259136213, 0.8923947259136213, 0.9045800110741972, 0.9045800110741972, 0.9045800110741972, 0.9077827727021042, 0.9077827727021042, 0.9077827727021042, 0.9077827727021042, 0.9077827727021042, 0.9077827727021042, 0.908046857696567, 0.908046857696567, 0.908046857696567, 0.908046857696567, 0.908046857696567, 0.908046857696567, 0.908046857696567, 0.908046857696567, 0.908046857696567, 0.908046857696567, 0.908046857696567, 0.9110565937615357, 0.9110565937615357, 0.9110565937615357, 0.9110565937615357, 0.9110565937615357, 0.9110565937615357, 0.9110565937615357, 0.9110565937615357, 0.9110565937615357, 0.9128696705426357]}], \"recall_score_micro\": [{\"categories\": [\"0\", \"2\", \"7\", \"12\", \"17\", \"21\", \"24\", \"25\", \"27\", \"28\", \"29\", \"31\", \"32\", \"33\", \"34\", \"35\", \"36\", \"37\", \"38\", \"39\", \"40\", \"41\", \"42\", \"43\", \"44\", \"45\", \"46\", \"47\", \"48\", \"49\", \"50\", \"53\"], \"mode\": \"markers\", \"name\": \"recall_score_micro\", \"stepped\": false, \"type\": \"scatter\", \"data\": [0.8428248587570621, 0.8359887005649718, 0.8127118644067796, 0.7323163841807909, 0.8061016949152542, 0.8361016949152542, 0.8293785310734464, 0.8425988700564971, 0.8427118644067797, 0.836045197740113, 0.8327118644067797, 0.8393220338983051, 0.8327683615819209, 0.8192655367231637, 0.8427683615819209, 0.67909604519774, 0.8528248587570622, 0.8261016949152543, 0.8496610169491525, 0.8059322033898304, 0.7025423728813559, 0.846271186440678, 0.836045197740113, 0.805819209039548, 0.8494915254237287, 0.8194350282485875, 0.782316384180791, 0.8293220338983052, 0.8495480225988701, 0.8361016949152542, 0.8393785310734463, 0.8897175141242938]}, {\"categories\": [\"0\", \"2\", \"7\", \"12\", \"17\", \"21\", \"24\", \"25\", \"27\", \"28\", \"29\", \"31\", \"32\", \"33\", \"34\", \"35\", \"36\", \"37\", \"38\", \"39\", \"40\", \"41\", \"42\", \"43\", \"44\", \"45\", \"46\", \"47\", \"48\", \"49\", \"50\", \"53\"], \"mode\": \"lines\", \"name\": \"recall_score_micro_max\", \"stepped\": true, \"type\": \"scatter\", \"data\": [0.8428248587570621, 0.8428248587570621, 0.8428248587570621, 0.8428248587570621, 0.8428248587570621, 0.8428248587570621, 0.8428248587570621, 0.8428248587570621, 0.8428248587570621, 0.8428248587570621, 0.8428248587570621, 0.8428248587570621, 0.8428248587570621, 0.8428248587570621, 0.8428248587570621, 0.8428248587570621, 0.8528248587570622, 0.8528248587570622, 0.8528248587570622, 0.8528248587570622, 0.8528248587570622, 0.8528248587570622, 0.8528248587570622, 0.8528248587570622, 0.8528248587570622, 0.8528248587570622, 0.8528248587570622, 0.8528248587570622, 0.8528248587570622, 0.8528248587570622, 0.8528248587570622, 0.8897175141242938]}], \"precision_score_weighted\": [{\"categories\": [\"0\", \"2\", \"7\", \"12\", \"17\", \"21\", \"24\", \"25\", \"27\", \"28\", \"29\", \"31\", \"32\", \"33\", \"34\", \"35\", \"36\", \"37\", \"38\", \"39\", \"40\", \"41\", \"42\", \"43\", \"44\", \"45\", \"46\", \"47\", \"48\", \"49\", \"50\", \"53\"], \"mode\": \"markers\", \"name\": \"precision_score_weighted\", \"stepped\": false, \"type\": \"scatter\", \"data\": [0.8524277365010601, 0.8539779086183646, 0.8284097525499643, 0.7919000702410472, 0.833293551294392, 0.853968809306241, 0.8409194406074952, 0.8480677137339129, 0.8532151972693847, 0.8477966743810518, 0.8470235598459623, 0.8534487046911513, 0.8448992915433594, 0.8342654780279398, 0.8573522611043604, 0.4689005075169971, 0.8666093091958196, 0.8423095852758052, 0.8648297614312531, 0.8125440305784448, 0.6433339417118678, 0.8610182112315259, 0.8483801057970274, 0.824072112943384, 0.8626444726670084, 0.8312744244595655, 0.8055456363752528, 0.8470039487246561, 0.864352391871094, 0.8517075862069869, 0.8518087315619816, 0.9048272317148681]}, {\"categories\": [\"0\", \"2\", \"7\", \"12\", \"17\", \"21\", \"24\", \"25\", \"27\", \"28\", \"29\", \"31\", \"32\", \"33\", \"34\", \"35\", \"36\", \"37\", \"38\", \"39\", \"40\", \"41\", \"42\", \"43\", \"44\", \"45\", \"46\", \"47\", \"48\", \"49\", \"50\", \"53\"], \"mode\": \"lines\", \"name\": \"precision_score_weighted_max\", \"stepped\": true, \"type\": \"scatter\", \"data\": [0.8524277365010601, 0.8539779086183646, 0.8539779086183646, 0.8539779086183646, 0.8539779086183646, 0.8539779086183646, 0.8539779086183646, 0.8539779086183646, 0.8539779086183646, 0.8539779086183646, 0.8539779086183646, 0.8539779086183646, 0.8539779086183646, 0.8539779086183646, 0.8573522611043604, 0.8573522611043604, 0.8666093091958196, 0.8666093091958196, 0.8666093091958196, 0.8666093091958196, 0.8666093091958196, 0.8666093091958196, 0.8666093091958196, 0.8666093091958196, 0.8666093091958196, 0.8666093091958196, 0.8666093091958196, 0.8666093091958196, 0.8666093091958196, 0.8666093091958196, 0.8666093091958196, 0.9048272317148681]}], \"average_precision_score_micro\": [{\"categories\": [\"0\", \"2\", \"7\", \"12\", \"17\", \"21\", \"24\", \"25\", \"27\", \"28\", \"29\", \"31\", \"32\", \"33\", \"34\", \"35\", \"36\", \"37\", \"38\", \"39\", \"40\", \"41\", \"42\", \"43\", \"44\", \"45\", \"46\", \"47\", \"48\", \"49\", \"50\", \"53\"], \"mode\": \"markers\", \"name\": \"average_precision_score_micro\", \"stepped\": false, \"type\": \"scatter\", \"data\": [0.9006531196119575, 0.8875070099729235, 0.8906102846131226, 0.8266178658596589, 0.8838790578102869, 0.9107978611134296, 0.9076890811500663, 0.9053958328106135, 0.9143032854271425, 0.8901945382085511, 0.9016361476209456, 0.9137941696914865, 0.9108805222619066, 0.9049535768581546, 0.8909823269633417, 0.6293524849181271, 0.9097561539789296, 0.8917582580975072, 0.9019070490178436, 0.8993423571041264, 0.8553366877122176, 0.9035892703502066, 0.9141740183297052, 0.8953403305183466, 0.8906723568408005, 0.8828180542849662, 0.8614874671473023, 0.897084325959667, 0.9017202297098759, 0.8913259418964508, 0.9040449100502371, 0.9162422851251245]}, {\"categories\": [\"0\", \"2\", \"7\", \"12\", \"17\", \"21\", \"24\", \"25\", \"27\", \"28\", \"29\", \"31\", \"32\", \"33\", \"34\", \"35\", \"36\", \"37\", \"38\", \"39\", \"40\", \"41\", \"42\", \"43\", \"44\", \"45\", \"46\", \"47\", \"48\", \"49\", \"50\", \"53\"], \"mode\": \"lines\", \"name\": \"average_precision_score_micro_max\", \"stepped\": true, \"type\": \"scatter\", \"data\": [0.9006531196119575, 0.9006531196119575, 0.9006531196119575, 0.9006531196119575, 0.9006531196119575, 0.9107978611134296, 0.9107978611134296, 0.9107978611134296, 0.9143032854271425, 0.9143032854271425, 0.9143032854271425, 0.9143032854271425, 0.9143032854271425, 0.9143032854271425, 0.9143032854271425, 0.9143032854271425, 0.9143032854271425, 0.9143032854271425, 0.9143032854271425, 0.9143032854271425, 0.9143032854271425, 0.9143032854271425, 0.9143032854271425, 0.9143032854271425, 0.9143032854271425, 0.9143032854271425, 0.9143032854271425, 0.9143032854271425, 0.9143032854271425, 0.9143032854271425, 0.9143032854271425, 0.9162422851251245]}], \"recall_score_macro\": [{\"categories\": [\"0\", \"2\", \"7\", \"12\", \"17\", \"21\", \"24\", \"25\", \"27\", \"28\", \"29\", \"31\", \"32\", \"33\", \"34\", \"35\", \"36\", \"37\", \"38\", \"39\", \"40\", \"41\", \"42\", \"43\", \"44\", \"45\", \"46\", \"47\", \"48\", \"49\", \"50\", \"53\"], \"mode\": \"markers\", \"name\": \"recall_score_macro\", \"stepped\": false, \"type\": \"scatter\", \"data\": [0.8149916943521595, 0.8230405592469546, 0.7500131506090808, 0.7542019656699889, 0.7737375415282393, 0.8173345791805093, 0.8053066168327797, 0.8022155315614619, 0.8173899501661129, 0.797751245847176, 0.8066756644518274, 0.8169137596899224, 0.8029893410852713, 0.7956596068660022, 0.7843410852713177, 0.5, 0.824094684385382, 0.7931976744186047, 0.8226446566998893, 0.7456679125138427, 0.5475, 0.8043410852713178, 0.8066756644518274, 0.7925519102990034, 0.8080613233665559, 0.7836482558139535, 0.7728668327796235, 0.8029554263565892, 0.8139202657807308, 0.8081976744186047, 0.8091756644518272, 0.8619047619047621]}, {\"categories\": [\"0\", \"2\", \"7\", \"12\", \"17\", \"21\", \"24\", \"25\", \"27\", \"28\", \"29\", \"31\", \"32\", \"33\", \"34\", \"35\", \"36\", \"37\", \"38\", \"39\", \"40\", \"41\", \"42\", \"43\", \"44\", \"45\", \"46\", \"47\", \"48\", \"49\", \"50\", \"53\"], \"mode\": \"lines\", \"name\": \"recall_score_macro_max\", \"stepped\": true, \"type\": \"scatter\", \"data\": [0.8149916943521595, 0.8230405592469546, 0.8230405592469546, 0.8230405592469546, 0.8230405592469546, 0.8230405592469546, 0.8230405592469546, 0.8230405592469546, 0.8230405592469546, 0.8230405592469546, 0.8230405592469546, 0.8230405592469546, 0.8230405592469546, 0.8230405592469546, 0.8230405592469546, 0.8230405592469546, 0.824094684385382, 0.824094684385382, 0.824094684385382, 0.824094684385382, 0.824094684385382, 0.824094684385382, 0.824094684385382, 0.824094684385382, 0.824094684385382, 0.824094684385382, 0.824094684385382, 0.824094684385382, 0.824094684385382, 0.824094684385382, 0.824094684385382, 0.8619047619047621]}], \"accuracy\": [{\"categories\": [\"0\", \"2\", \"7\", \"12\", \"17\", \"21\", \"24\", \"25\", \"27\", \"28\", \"29\", \"31\", \"32\", \"33\", \"34\", \"35\", \"36\", \"37\", \"38\", \"39\", \"40\", \"41\", \"42\", \"43\", \"44\", \"45\", \"46\", \"47\", \"48\", \"49\", \"50\", \"53\"], \"mode\": \"markers\", \"name\": \"accuracy\", \"stepped\": false, \"type\": \"scatter\", \"data\": [0.8428248587570621, 0.8359887005649718, 0.8127118644067796, 0.7323163841807909, 0.8061016949152542, 0.8361016949152542, 0.8293785310734464, 0.8425988700564971, 0.8427118644067797, 0.836045197740113, 0.8327118644067797, 0.8393220338983051, 0.8327683615819209, 0.8192655367231637, 0.8427683615819209, 0.67909604519774, 0.8528248587570622, 0.8261016949152543, 0.8496610169491525, 0.8059322033898304, 0.7025423728813559, 0.846271186440678, 0.836045197740113, 0.805819209039548, 0.8494915254237287, 0.8194350282485875, 0.782316384180791, 0.8293220338983052, 0.8495480225988701, 0.8361016949152542, 0.8393785310734463, 0.8897175141242938]}, {\"categories\": [\"0\", \"2\", \"7\", \"12\", \"17\", \"21\", \"24\", \"25\", \"27\", \"28\", \"29\", \"31\", \"32\", \"33\", \"34\", \"35\", \"36\", \"37\", \"38\", \"39\", \"40\", \"41\", \"42\", \"43\", \"44\", \"45\", \"46\", \"47\", \"48\", \"49\", \"50\", \"53\"], \"mode\": \"lines\", \"name\": \"accuracy_max\", \"stepped\": true, \"type\": \"scatter\", \"data\": [0.8428248587570621, 0.8428248587570621, 0.8428248587570621, 0.8428248587570621, 0.8428248587570621, 0.8428248587570621, 0.8428248587570621, 0.8428248587570621, 0.8428248587570621, 0.8428248587570621, 0.8428248587570621, 0.8428248587570621, 0.8428248587570621, 0.8428248587570621, 0.8428248587570621, 0.8428248587570621, 0.8528248587570622, 0.8528248587570622, 0.8528248587570622, 0.8528248587570622, 0.8528248587570622, 0.8528248587570622, 0.8528248587570622, 0.8528248587570622, 0.8528248587570622, 0.8528248587570622, 0.8528248587570622, 0.8528248587570622, 0.8528248587570622, 0.8528248587570622, 0.8528248587570622, 0.8897175141242938]}], \"norm_macro_recall\": [{\"categories\": [\"0\", \"2\", \"7\", \"12\", \"17\", \"21\", \"24\", \"25\", \"27\", \"28\", \"29\", \"31\", \"32\", \"33\", \"34\", \"35\", \"36\", \"37\", \"38\", \"39\", \"40\", \"41\", \"42\", \"43\", \"44\", \"45\", \"46\", \"47\", \"48\", \"49\", \"50\", \"53\"], \"mode\": \"markers\", \"name\": \"norm_macro_recall\", \"stepped\": false, \"type\": \"scatter\", \"data\": [0.6299833887043189, 0.6460811184939091, 0.5000263012181617, 0.5084039313399777, 0.5474750830564783, 0.6346691583610189, 0.6106132336655593, 0.6044310631229235, 0.6347799003322259, 0.5955024916943522, 0.6133513289036545, 0.6338275193798448, 0.6059786821705426, 0.5913192137320044, 0.5686821705426357, 0.0, 0.6481893687707642, 0.5863953488372092, 0.6452893133997785, 0.49133582502768547, 0.09500000000000001, 0.6086821705426356, 0.6133513289036545, 0.5851038205980067, 0.6161226467331119, 0.567296511627907, 0.545733665559247, 0.6059108527131783, 0.6278405315614618, 0.6163953488372093, 0.6183513289036545, 0.7238095238095238]}, {\"categories\": [\"0\", \"2\", \"7\", \"12\", \"17\", \"21\", \"24\", \"25\", \"27\", \"28\", \"29\", \"31\", \"32\", \"33\", \"34\", \"35\", \"36\", \"37\", \"38\", \"39\", \"40\", \"41\", \"42\", \"43\", \"44\", \"45\", \"46\", \"47\", \"48\", \"49\", \"50\", \"53\"], \"mode\": \"lines\", \"name\": \"norm_macro_recall_max\", \"stepped\": true, \"type\": \"scatter\", \"data\": [0.6299833887043189, 0.6460811184939091, 0.6460811184939091, 0.6460811184939091, 0.6460811184939091, 0.6460811184939091, 0.6460811184939091, 0.6460811184939091, 0.6460811184939091, 0.6460811184939091, 0.6460811184939091, 0.6460811184939091, 0.6460811184939091, 0.6460811184939091, 0.6460811184939091, 0.6460811184939091, 0.6481893687707642, 0.6481893687707642, 0.6481893687707642, 0.6481893687707642, 0.6481893687707642, 0.6481893687707642, 0.6481893687707642, 0.6481893687707642, 0.6481893687707642, 0.6481893687707642, 0.6481893687707642, 0.6481893687707642, 0.6481893687707642, 0.6481893687707642, 0.6481893687707642, 0.7238095238095238]}], \"AUC_micro\": [{\"categories\": [\"0\", \"2\", \"7\", \"12\", \"17\", \"21\", \"24\", \"25\", \"27\", \"28\", \"29\", \"31\", \"32\", \"33\", \"34\", \"35\", \"36\", \"37\", \"38\", \"39\", \"40\", \"41\", \"42\", \"43\", \"44\", \"45\", \"46\", \"47\", \"48\", \"49\", \"50\", \"53\"], \"mode\": \"markers\", \"name\": \"AUC_micro\", \"stepped\": false, \"type\": \"scatter\", \"data\": [0.897662453318012, 0.8862474544351879, 0.8833386159788056, 0.8259706661559578, 0.8829535254875674, 0.9095161990488047, 0.9064312138912829, 0.9041144945577579, 0.9114502058795365, 0.8909611222828688, 0.8996914200900126, 0.9087502952535988, 0.9088965495228063, 0.9017645472246162, 0.8869843754987391, 0.6790960451977401, 0.9075532254460723, 0.8902279676976603, 0.9006045038143572, 0.8933780363241723, 0.8443813559322034, 0.9054549299371188, 0.9162574132592806, 0.8959801302307767, 0.8976420249608988, 0.882916004341026, 0.8638035047400173, 0.8949373902773787, 0.90356651983785, 0.8939777362826773, 0.9027104120782662, 0.9157023205336909]}, {\"categories\": [\"0\", \"2\", \"7\", \"12\", \"17\", \"21\", \"24\", \"25\", \"27\", \"28\", \"29\", \"31\", \"32\", \"33\", \"34\", \"35\", \"36\", \"37\", \"38\", \"39\", \"40\", \"41\", \"42\", \"43\", \"44\", \"45\", \"46\", \"47\", \"48\", \"49\", \"50\", \"53\"], \"mode\": \"lines\", \"name\": \"AUC_micro_max\", \"stepped\": true, \"type\": \"scatter\", \"data\": [0.897662453318012, 0.897662453318012, 0.897662453318012, 0.897662453318012, 0.897662453318012, 0.9095161990488047, 0.9095161990488047, 0.9095161990488047, 0.9114502058795365, 0.9114502058795365, 0.9114502058795365, 0.9114502058795365, 0.9114502058795365, 0.9114502058795365, 0.9114502058795365, 0.9114502058795365, 0.9114502058795365, 0.9114502058795365, 0.9114502058795365, 0.9114502058795365, 0.9114502058795365, 0.9114502058795365, 0.9162574132592806, 0.9162574132592806, 0.9162574132592806, 0.9162574132592806, 0.9162574132592806, 0.9162574132592806, 0.9162574132592806, 0.9162574132592806, 0.9162574132592806, 0.9162574132592806]}], \"recall_score_weighted\": [{\"categories\": [\"0\", \"2\", \"7\", \"12\", \"17\", \"21\", \"24\", \"25\", \"27\", \"28\", \"29\", \"31\", \"32\", \"33\", \"34\", \"35\", \"36\", \"37\", \"38\", \"39\", \"40\", \"41\", \"42\", \"43\", \"44\", \"45\", \"46\", \"47\", \"48\", \"49\", \"50\", \"53\"], \"mode\": \"markers\", \"name\": \"recall_score_weighted\", \"stepped\": false, \"type\": \"scatter\", \"data\": [0.8428248587570621, 0.8359887005649718, 0.8127118644067796, 0.7323163841807909, 0.8061016949152542, 0.8361016949152542, 0.8293785310734464, 0.8425988700564971, 0.8427118644067797, 0.836045197740113, 0.8327118644067797, 0.8393220338983051, 0.8327683615819209, 0.8192655367231637, 0.8427683615819209, 0.67909604519774, 0.8528248587570622, 0.8261016949152543, 0.8496610169491525, 0.8059322033898304, 0.7025423728813559, 0.846271186440678, 0.836045197740113, 0.805819209039548, 0.8494915254237287, 0.8194350282485875, 0.782316384180791, 0.8293220338983052, 0.8495480225988701, 0.8361016949152542, 0.8393785310734463, 0.8897175141242938]}, {\"categories\": [\"0\", \"2\", \"7\", \"12\", \"17\", \"21\", \"24\", \"25\", \"27\", \"28\", \"29\", \"31\", \"32\", \"33\", \"34\", \"35\", \"36\", \"37\", \"38\", \"39\", \"40\", \"41\", \"42\", \"43\", \"44\", \"45\", \"46\", \"47\", \"48\", \"49\", \"50\", \"53\"], \"mode\": \"lines\", \"name\": \"recall_score_weighted_max\", \"stepped\": true, \"type\": \"scatter\", \"data\": [0.8428248587570621, 0.8428248587570621, 0.8428248587570621, 0.8428248587570621, 0.8428248587570621, 0.8428248587570621, 0.8428248587570621, 0.8428248587570621, 0.8428248587570621, 0.8428248587570621, 0.8428248587570621, 0.8428248587570621, 0.8428248587570621, 0.8428248587570621, 0.8428248587570621, 0.8428248587570621, 0.8528248587570622, 0.8528248587570622, 0.8528248587570622, 0.8528248587570622, 0.8528248587570622, 0.8528248587570622, 0.8528248587570622, 0.8528248587570622, 0.8528248587570622, 0.8528248587570622, 0.8528248587570622, 0.8528248587570622, 0.8528248587570622, 0.8528248587570622, 0.8528248587570622, 0.8897175141242938]}], \"balanced_accuracy\": [{\"categories\": [\"0\", \"2\", \"7\", \"12\", \"17\", \"21\", \"24\", \"25\", \"27\", \"28\", \"29\", \"31\", \"32\", \"33\", \"34\", \"35\", \"36\", \"37\", \"38\", \"39\", \"40\", \"41\", \"42\", \"43\", \"44\", \"45\", \"46\", \"47\", \"48\", \"49\", \"50\", \"53\"], \"mode\": \"markers\", \"name\": \"balanced_accuracy\", \"stepped\": false, \"type\": \"scatter\", \"data\": [0.8149916943521595, 0.8230405592469546, 0.7500131506090808, 0.7542019656699889, 0.7737375415282393, 0.8173345791805093, 0.8053066168327797, 0.8022155315614619, 0.8173899501661129, 0.797751245847176, 0.8066756644518274, 0.8169137596899224, 0.8029893410852713, 0.7956596068660022, 0.7843410852713177, 0.5, 0.824094684385382, 0.7931976744186047, 0.8226446566998893, 0.7456679125138427, 0.5475, 0.8043410852713178, 0.8066756644518274, 0.7925519102990034, 0.8080613233665559, 0.7836482558139535, 0.7728668327796235, 0.8029554263565892, 0.8139202657807308, 0.8081976744186047, 0.8091756644518272, 0.8619047619047621]}, {\"categories\": [\"0\", \"2\", \"7\", \"12\", \"17\", \"21\", \"24\", \"25\", \"27\", \"28\", \"29\", \"31\", \"32\", \"33\", \"34\", \"35\", \"36\", \"37\", \"38\", \"39\", \"40\", \"41\", \"42\", \"43\", \"44\", \"45\", \"46\", \"47\", \"48\", \"49\", \"50\", \"53\"], \"mode\": \"lines\", \"name\": \"balanced_accuracy_max\", \"stepped\": true, \"type\": \"scatter\", \"data\": [0.8149916943521595, 0.8230405592469546, 0.8230405592469546, 0.8230405592469546, 0.8230405592469546, 0.8230405592469546, 0.8230405592469546, 0.8230405592469546, 0.8230405592469546, 0.8230405592469546, 0.8230405592469546, 0.8230405592469546, 0.8230405592469546, 0.8230405592469546, 0.8230405592469546, 0.8230405592469546, 0.824094684385382, 0.824094684385382, 0.824094684385382, 0.824094684385382, 0.824094684385382, 0.824094684385382, 0.824094684385382, 0.824094684385382, 0.824094684385382, 0.824094684385382, 0.824094684385382, 0.824094684385382, 0.824094684385382, 0.824094684385382, 0.824094684385382, 0.8619047619047621]}], \"average_precision_score_macro\": [{\"categories\": [\"0\", \"2\", \"7\", \"12\", \"17\", \"21\", \"24\", \"25\", \"27\", \"28\", \"29\", \"31\", \"32\", \"33\", \"34\", \"35\", \"36\", \"37\", \"38\", \"39\", \"40\", \"41\", \"42\", \"43\", \"44\", \"45\", \"46\", \"47\", \"48\", \"49\", \"50\", \"53\"], \"mode\": \"markers\", \"name\": \"average_precision_score_macro\", \"stepped\": false, \"type\": \"scatter\", \"data\": [0.8827295343890258, 0.8671369142590588, 0.8903744577798994, 0.8402970764661244, 0.8603704728294751, 0.8979506719850837, 0.889423593470639, 0.8834604243666689, 0.8851956129319583, 0.8677646367506859, 0.8853766290769629, 0.8900696693062194, 0.8891811852452303, 0.8839443506835, 0.8670931248465437, 0.5, 0.8827892679162895, 0.8671926148726523, 0.8784492147562599, 0.8798976256640858, 0.8793081486995202, 0.8816255700752726, 0.9035193532821616, 0.8709125852289541, 0.874147665091184, 0.8605089155158362, 0.8305651438783419, 0.8788170752598766, 0.8813722440482659, 0.8673159914236652, 0.8903046609614664, 0.8963777204880854]}, {\"categories\": [\"0\", \"2\", \"7\", \"12\", \"17\", \"21\", \"24\", \"25\", \"27\", \"28\", \"29\", \"31\", \"32\", \"33\", \"34\", \"35\", \"36\", \"37\", \"38\", \"39\", \"40\", \"41\", \"42\", \"43\", \"44\", \"45\", \"46\", \"47\", \"48\", \"49\", \"50\", \"53\"], \"mode\": \"lines\", \"name\": \"average_precision_score_macro_max\", \"stepped\": true, \"type\": \"scatter\", \"data\": [0.8827295343890258, 0.8827295343890258, 0.8903744577798994, 0.8903744577798994, 0.8903744577798994, 0.8979506719850837, 0.8979506719850837, 0.8979506719850837, 0.8979506719850837, 0.8979506719850837, 0.8979506719850837, 0.8979506719850837, 0.8979506719850837, 0.8979506719850837, 0.8979506719850837, 0.8979506719850837, 0.8979506719850837, 0.8979506719850837, 0.8979506719850837, 0.8979506719850837, 0.8979506719850837, 0.8979506719850837, 0.9035193532821616, 0.9035193532821616, 0.9035193532821616, 0.9035193532821616, 0.9035193532821616, 0.9035193532821616, 0.9035193532821616, 0.9035193532821616, 0.9035193532821616, 0.9035193532821616]}], \"f1_score_weighted\": [{\"categories\": [\"0\", \"2\", \"7\", \"12\", \"17\", \"21\", \"24\", \"25\", \"27\", \"28\", \"29\", \"31\", \"32\", \"33\", \"34\", \"35\", \"36\", \"37\", \"38\", \"39\", \"40\", \"41\", \"42\", \"43\", \"44\", \"45\", \"46\", \"47\", \"48\", \"49\", \"50\", \"53\"], \"mode\": \"markers\", \"name\": \"f1_score_weighted\", \"stepped\": false, \"type\": \"scatter\", \"data\": [0.8401132576354581, 0.8371744991106475, 0.7994986382081839, 0.7414913615635321, 0.7983360665860388, 0.8332318954088931, 0.828232403292783, 0.8377475272736608, 0.840848233697624, 0.829975741523706, 0.8288641881135785, 0.8365072247603381, 0.8292296668536606, 0.8176639399973444, 0.8327691267614785, 0.5526564268547016, 0.8493415970157724, 0.8227505813345071, 0.8454150412755649, 0.7953993657568647, 0.601528691939472, 0.8406328405645043, 0.831757433960588, 0.8091206716631243, 0.8419798938023391, 0.8148248938800666, 0.7875344332445637, 0.826339639720613, 0.8459723663776344, 0.8324905508136666, 0.8349634663208066, 0.8859539915484156]}, {\"categories\": [\"0\", \"2\", \"7\", \"12\", \"17\", \"21\", \"24\", \"25\", \"27\", \"28\", \"29\", \"31\", \"32\", \"33\", \"34\", \"35\", \"36\", \"37\", \"38\", \"39\", \"40\", \"41\", \"42\", \"43\", \"44\", \"45\", \"46\", \"47\", \"48\", \"49\", \"50\", \"53\"], \"mode\": \"lines\", \"name\": \"f1_score_weighted_max\", \"stepped\": true, \"type\": \"scatter\", \"data\": [0.8401132576354581, 0.8401132576354581, 0.8401132576354581, 0.8401132576354581, 0.8401132576354581, 0.8401132576354581, 0.8401132576354581, 0.8401132576354581, 0.840848233697624, 0.840848233697624, 0.840848233697624, 0.840848233697624, 0.840848233697624, 0.840848233697624, 0.840848233697624, 0.840848233697624, 0.8493415970157724, 0.8493415970157724, 0.8493415970157724, 0.8493415970157724, 0.8493415970157724, 0.8493415970157724, 0.8493415970157724, 0.8493415970157724, 0.8493415970157724, 0.8493415970157724, 0.8493415970157724, 0.8493415970157724, 0.8493415970157724, 0.8493415970157724, 0.8493415970157724, 0.8859539915484156]}], \"f1_score_micro\": [{\"categories\": [\"0\", \"2\", \"7\", \"12\", \"17\", \"21\", \"24\", \"25\", \"27\", \"28\", \"29\", \"31\", \"32\", \"33\", \"34\", \"35\", \"36\", \"37\", \"38\", \"39\", \"40\", \"41\", \"42\", \"43\", \"44\", \"45\", \"46\", \"47\", \"48\", \"49\", \"50\", \"53\"], \"mode\": \"markers\", \"name\": \"f1_score_micro\", \"stepped\": false, \"type\": \"scatter\", \"data\": [0.8428248587570621, 0.8359887005649718, 0.8127118644067798, 0.7323163841807909, 0.8061016949152542, 0.8361016949152542, 0.8293785310734464, 0.8425988700564971, 0.8427118644067797, 0.836045197740113, 0.8327118644067797, 0.8393220338983051, 0.8327683615819209, 0.8192655367231637, 0.8427683615819209, 0.67909604519774, 0.8528248587570622, 0.8261016949152543, 0.8496610169491525, 0.8059322033898304, 0.7025423728813559, 0.846271186440678, 0.836045197740113, 0.8058192090395482, 0.8494915254237287, 0.8194350282485875, 0.782316384180791, 0.8293220338983052, 0.8495480225988701, 0.8361016949152542, 0.8393785310734463, 0.8897175141242938]}, {\"categories\": [\"0\", \"2\", \"7\", \"12\", \"17\", \"21\", \"24\", \"25\", \"27\", \"28\", \"29\", \"31\", \"32\", \"33\", \"34\", \"35\", \"36\", \"37\", \"38\", \"39\", \"40\", \"41\", \"42\", \"43\", \"44\", \"45\", \"46\", \"47\", \"48\", \"49\", \"50\", \"53\"], \"mode\": \"lines\", \"name\": \"f1_score_micro_max\", \"stepped\": true, \"type\": \"scatter\", \"data\": [0.8428248587570621, 0.8428248587570621, 0.8428248587570621, 0.8428248587570621, 0.8428248587570621, 0.8428248587570621, 0.8428248587570621, 0.8428248587570621, 0.8428248587570621, 0.8428248587570621, 0.8428248587570621, 0.8428248587570621, 0.8428248587570621, 0.8428248587570621, 0.8428248587570621, 0.8428248587570621, 0.8528248587570622, 0.8528248587570622, 0.8528248587570622, 0.8528248587570622, 0.8528248587570622, 0.8528248587570622, 0.8528248587570622, 0.8528248587570622, 0.8528248587570622, 0.8528248587570622, 0.8528248587570622, 0.8528248587570622, 0.8528248587570622, 0.8528248587570622, 0.8528248587570622, 0.8897175141242938]}]}, \"metricName\": null, \"primaryMetricName\": \"accuracy\", \"showLegend\": false}, \"run_metrics\": [{\"name\": \"experiment_status_description\", \"run_id\": \"AutoML_b39ec310-aa0a-48c0-929f-41caee24e096\", \"categories\": [0, 1, 2, 3, 4, 5, 6, 7, 8, 9, 10, 11, 12, 13], \"series\": [{\"data\": [\"Gathering dataset statistics.\", \"Generating features for the dataset.\", \"Beginning to fit featurizers and featurize the dataset.\", \"Completed fit featurizers and featurizing the dataset.\", \"Generating individually featurized CV splits.\", \"Beginning model selection.\", \"Best run model explanations started\", \"Model explanations data setup completed\", \"Choosing LightGBM as the surrogate model for explanations\", \"Computation of engineered features started\", \"Computation of engineered features completed\", \"Computation of raw features started\", \"Computation of raw features completed\", \"Best run model explanations completed\"]}]}, {\"name\": \"experiment_status\", \"run_id\": \"AutoML_b39ec310-aa0a-48c0-929f-41caee24e096\", \"categories\": [0, 1, 2, 3, 4, 5, 6, 7, 8, 9, 10, 11, 12, 13], \"series\": [{\"data\": [\"DatasetEvaluation\", \"FeaturesGeneration\", \"DatasetFeaturization\", \"DatasetFeaturizationCompleted\", \"DatasetCrossValidationSplit\", \"ModelSelection\", \"BestRunExplainModel\", \"ModelExplanationDataSetSetup\", \"PickSurrogateModel\", \"EngineeredFeatureExplanations\", \"EngineeredFeatureExplanations\", \"RawFeaturesExplanations\", \"RawFeaturesExplanations\", \"BestRunExplainModel\"]}]}, {\"name\": \"average_precision_score_weighted\", \"run_id\": \"AutoML_b39ec310-aa0a-48c0-929f-41caee24e096\", \"categories\": [0], \"series\": [{\"data\": [0.9220355539932792]}]}, {\"name\": \"f1_score_micro\", \"run_id\": \"AutoML_b39ec310-aa0a-48c0-929f-41caee24e096\", \"categories\": [0], \"series\": [{\"data\": [0.8897175141242938]}]}, {\"name\": \"weighted_accuracy\", \"run_id\": \"AutoML_b39ec310-aa0a-48c0-929f-41caee24e096\", \"categories\": [0], \"series\": [{\"data\": [0.908408072959493]}]}, {\"name\": \"log_loss\", \"run_id\": \"AutoML_b39ec310-aa0a-48c0-929f-41caee24e096\", \"categories\": [0], \"series\": [{\"data\": [0.37540732673932947]}]}, {\"name\": \"matthews_correlation\", \"run_id\": \"AutoML_b39ec310-aa0a-48c0-929f-41caee24e096\", \"categories\": [0], \"series\": [{\"data\": [0.7553025119722379]}]}, {\"name\": \"balanced_accuracy\", \"run_id\": \"AutoML_b39ec310-aa0a-48c0-929f-41caee24e096\", \"categories\": [0], \"series\": [{\"data\": [0.8619047619047621]}]}, {\"name\": \"recall_score_micro\", \"run_id\": \"AutoML_b39ec310-aa0a-48c0-929f-41caee24e096\", \"categories\": [0], \"series\": [{\"data\": [0.8897175141242938]}]}, {\"name\": \"accuracy\", \"run_id\": \"AutoML_b39ec310-aa0a-48c0-929f-41caee24e096\", \"categories\": [0], \"series\": [{\"data\": [0.8897175141242938]}]}, {\"name\": \"AUC_macro\", \"run_id\": \"AutoML_b39ec310-aa0a-48c0-929f-41caee24e096\", \"categories\": [0], \"series\": [{\"data\": [0.9128696705426357]}]}, {\"name\": \"f1_score_macro\", \"run_id\": \"AutoML_b39ec310-aa0a-48c0-929f-41caee24e096\", \"categories\": [0], \"series\": [{\"data\": [0.8660905548676316]}]}, {\"name\": \"average_precision_score_macro\", \"run_id\": \"AutoML_b39ec310-aa0a-48c0-929f-41caee24e096\", \"categories\": [0], \"series\": [{\"data\": [0.8963777204880854]}]}, {\"name\": \"average_precision_score_micro\", \"run_id\": \"AutoML_b39ec310-aa0a-48c0-929f-41caee24e096\", \"categories\": [0], \"series\": [{\"data\": [0.9162422851251245]}]}, {\"name\": \"AUC_weighted\", \"run_id\": \"AutoML_b39ec310-aa0a-48c0-929f-41caee24e096\", \"categories\": [0], \"series\": [{\"data\": [0.9128696705426356]}]}, {\"name\": \"precision_score_weighted\", \"run_id\": \"AutoML_b39ec310-aa0a-48c0-929f-41caee24e096\", \"categories\": [0], \"series\": [{\"data\": [0.9048272317148681]}]}, {\"name\": \"precision_score_macro\", \"run_id\": \"AutoML_b39ec310-aa0a-48c0-929f-41caee24e096\", \"categories\": [0], \"series\": [{\"data\": [0.8961048938444603]}]}, {\"name\": \"norm_macro_recall\", \"run_id\": \"AutoML_b39ec310-aa0a-48c0-929f-41caee24e096\", \"categories\": [0], \"series\": [{\"data\": [0.7238095238095238]}]}, {\"name\": \"f1_score_weighted\", \"run_id\": \"AutoML_b39ec310-aa0a-48c0-929f-41caee24e096\", \"categories\": [0], \"series\": [{\"data\": [0.8859539915484156]}]}, {\"name\": \"recall_score_macro\", \"run_id\": \"AutoML_b39ec310-aa0a-48c0-929f-41caee24e096\", \"categories\": [0], \"series\": [{\"data\": [0.8619047619047621]}]}, {\"name\": \"AUC_micro\", \"run_id\": \"AutoML_b39ec310-aa0a-48c0-929f-41caee24e096\", \"categories\": [0], \"series\": [{\"data\": [0.9157023205336909]}]}, {\"name\": \"recall_score_weighted\", \"run_id\": \"AutoML_b39ec310-aa0a-48c0-929f-41caee24e096\", \"categories\": [0], \"series\": [{\"data\": [0.8897175141242938]}]}, {\"name\": \"precision_score_micro\", \"run_id\": \"AutoML_b39ec310-aa0a-48c0-929f-41caee24e096\", \"categories\": [0], \"series\": [{\"data\": [0.8897175141242938]}]}], \"run_logs\": \"\\nRun is completed.\", \"graph\": {}, \"widget_settings\": {\"childWidgetDisplay\": \"popup\", \"send_telemetry\": false, \"log_level\": \"INFO\", \"sdk_version\": \"1.51.0\"}, \"loading\": false}"
     },
     "metadata": {},
     "output_type": "display_data"
    }
   ],
   "source": [
    "# remote_run = experiment.submit(automl_config, show_output = False)\n",
    "\n",
    "# RunDetails(remote_run).show()\n",
    "\n",
    "# automl_run = experiment.start_logging()\n",
    "\n",
    "# automl_run.log(name=\"message\", value = \"Hello from run!\")\n",
    "\n",
    "# print(automl_run.get_status())\n",
    "\n",
    "RunDetails(remote_run).show()"
   ]
  },
  {
   "cell_type": "markdown",
   "metadata": {},
   "source": [
    "## Best Model\n",
    "\n",
    "TODO: In the cell below, get the best model from the automl experiments and display all the properties of the model.\n",
    "\n"
   ]
  },
  {
   "cell_type": "code",
   "execution_count": 24,
   "metadata": {
    "gather": {
     "logged": 1718572253955
    },
    "jupyter": {
     "outputs_hidden": false,
     "source_hidden": false
    },
    "nteract": {
     "transient": {
      "deleting": false
     }
    }
   },
   "outputs": [
    {
     "name": "stdout",
     "output_type": "stream",
     "text": [
      "0.8897175141242938\n"
     ]
    }
   ],
   "source": [
    "best_run_metrics_automl = remote_run.get_metrics()\n",
    "print(best_run_metrics_automl[\"accuracy\"])"
   ]
  },
  {
   "cell_type": "code",
   "execution_count": 9,
   "metadata": {
    "gather": {
     "logged": 1718572256947
    },
    "jupyter": {
     "outputs_hidden": false,
     "source_hidden": false
    },
    "nteract": {
     "transient": {
      "deleting": false
     }
    }
   },
   "outputs": [],
   "source": [
    "#TODO: Save the best model\n",
    "model = remote_run.register_model(model_name = \"automl-heart-sdk\", metric=\"accuracy\")"
   ]
  },
  {
   "cell_type": "markdown",
   "metadata": {},
   "source": [
    "## Model Deployment\n",
    "\n",
    "Remember you have to deploy only one of the two models you trained but you still need to register both the models. Perform the steps in the rest of this notebook only if you wish to deploy this model.\n",
    "\n",
    "TODO: In the cell below, register the model, create an inference config and deploy the model as a web service."
   ]
  },
  {
   "cell_type": "code",
   "execution_count": 15,
   "metadata": {
    "gather": {
     "logged": 1718724420192
    },
    "jupyter": {
     "outputs_hidden": false,
     "source_hidden": false
    },
    "nteract": {
     "transient": {
      "deleting": false
     }
    }
   },
   "outputs": [
    {
     "name": "stderr",
     "output_type": "stream",
     "text": [
      "WARNING:root:The version of the SDK does not match the version the model was trained on.\n",
      "WARNING:root:The consistency in the result may not be guaranteed.\n",
      "WARNING:root:Package:azureml-automl-core, training version:1.52.0.post1, current version:1.51.0.post1\n",
      "Package:azureml-automl-runtime, training version:1.52.0.post1, current version:1.51.0.post1\n",
      "Package:azureml-core, training version:1.52.0, current version:1.51.0\n",
      "Package:azureml-dataprep, training version:4.11.4, current version:4.10.8\n",
      "Package:azureml-dataprep-rslex, training version:2.18.4, current version:2.17.12\n",
      "Package:azureml-dataset-runtime, training version:1.52.0, current version:1.51.0\n",
      "Package:azureml-defaults, training version:1.52.0, current version:1.51.0\n",
      "Package:azureml-interpret, training version:1.52.0, current version:1.51.0\n",
      "Package:azureml-mlflow, training version:1.52.0, current version:1.51.0\n",
      "Package:azureml-pipeline-core, training version:1.52.0, current version:1.51.0\n",
      "Package:azureml-responsibleai, training version:1.52.0, current version:1.51.0\n",
      "Package:azureml-telemetry, training version:1.52.0, current version:1.51.0\n",
      "Package:azureml-train-automl-client, training version:1.52.0, current version:1.51.0.post1\n",
      "Package:azureml-train-automl-runtime, training version:1.52.0, current version:1.51.0.post2\n",
      "Package:azureml-train-core, training version:1.52.0, current version:1.51.0\n",
      "Package:azureml-train-restclients-hyperdrive, training version:1.52.0, current version:1.51.0\n",
      "Package:azureml-training-tabular, training version:1.52.0, current version:1.51.0.post1\n",
      "WARNING:root:Please ensure the version of your local conda dependencies match the version on which your model was trained in order to properly retrieve your model.\n"
     ]
    }
   ],
   "source": [
    "from azureml.core.model import Model, InferenceConfig\n",
    "from azureml.core import Environment\n",
    "from azureml.core.webservice import AciWebservice\n",
    "\n",
    "#print(remote_run.get_environment())\n",
    "\n",
    "#env = Environment.from_conda_specification(name='sklearn-1.0:37', file_path='conda_dependencies.yml')\n",
    "#env = Environment.get(workspace = ws, name= \"heart-automl-env\")\n",
    "\n",
    "# get the best run\n",
    "best_run, best_model = remote_run.get_output()\n",
    "# get the environment from the best run\n",
    "env = best_run.get_environment()\n",
    "\n",
    "#env = Environment.get(workspace=ws, name=\"AzureML-AutoML\")\n",
    "\n",
    "best_run.download_file('outputs/scoring_file_v_1_0_0.py', 'score_new.py')"
   ]
  },
  {
   "cell_type": "code",
   "execution_count": 16,
   "metadata": {
    "gather": {
     "logged": 1718725373979
    },
    "jupyter": {
     "outputs_hidden": false,
     "source_hidden": false
    },
    "nteract": {
     "transient": {
      "deleting": false
     }
    }
   },
   "outputs": [
    {
     "name": "stdout",
     "output_type": "stream",
     "text": [
      "Tips: You can try get_logs(): https://aka.ms/debugimage#dockerlog or local deployment: https://aka.ms/debugimage#debug-locally to debug if deployment takes longer than 10 minutes.\n",
      "Running\n",
      "2024-06-18 15:36:39+00:00 Creating Container Registry if not exists.\n",
      "2024-06-18 15:36:39+00:00 Registering the environment.\n",
      "2024-06-18 15:36:40+00:00 Use the existing image.\n",
      "2024-06-18 15:36:40+00:00 Generating deployment configuration.\n",
      "2024-06-18 15:36:41+00:00 Submitting deployment to compute.\n",
      "2024-06-18 15:36:43+00:00 Checking the status of deployment heart-automl-deploy..\n",
      "2024-06-18 15:42:48+00:00 Checking the status of inference endpoint heart-automl-deploy.\n",
      "Succeeded\n",
      "ACI service creation operation finished, operation \"Succeeded\"\n",
      "2024-06-18T15:42:15,257116293+00:00 - rsyslog/run \n",
      "2024-06-18T15:42:15,259884673+00:00 - gunicorn/run \n",
      "2024-06-18T15:42:15,262051055+00:00 | gunicorn/run | \n",
      "2024-06-18T15:42:15,263618715+00:00 | gunicorn/run | ###############################################\n",
      "2024-06-18T15:42:15,266677124+00:00 | gunicorn/run | AzureML Container Runtime Information\n",
      "2024-06-18T15:42:15,269510811+00:00 | gunicorn/run | ###############################################\n",
      "2024-06-18T15:42:15,270277351+00:00 - nginx/run \n",
      "2024-06-18T15:42:15,271488240+00:00 | gunicorn/run | \n",
      "2024-06-18T15:42:15,276889841+00:00 | gunicorn/run | \n",
      "2024-06-18T15:42:15,286533905+00:00 | gunicorn/run | AzureML image information: openmpi4.1.0-ubuntu20.04, Materializaton Build:20230628.v2\n",
      "2024-06-18T15:42:15,290553346+00:00 | gunicorn/run | \n",
      "2024-06-18T15:42:15,292591305+00:00 | gunicorn/run | \n",
      "2024-06-18T15:42:15,293463947+00:00 | gunicorn/run | PATH environment variable: /azureml-envs/azureml-automl/bin:/opt/miniconda/bin:/usr/local/sbin:/usr/local/bin:/usr/sbin:/usr/bin:/sbin:/bin\n",
      "2024-06-18T15:42:15,294708565+00:00 | gunicorn/run | PYTHONPATH environment variable: \n",
      "2024-06-18T15:42:15,295416497+00:00 | gunicorn/run | \n",
      "2024-06-18T15:42:15,880346269+00:00 | gunicorn/run | CONDAPATH environment variable: /opt/miniconda\n",
      "\n",
      "# conda environments:\n",
      "#\n",
      "                         /azureml-envs/azureml-automl\n",
      "base                     /opt/miniconda\n",
      "\n",
      "2024-06-18T15:42:16,780041097+00:00 | gunicorn/run | \n",
      "2024-06-18T15:42:16,785607623+00:00 | gunicorn/run | Pip Dependencies (before dynamic installation)\n",
      "\n",
      "adal==1.2.7\n",
      "applicationinsights==0.11.10\n",
      "arch==5.3.1\n",
      "argcomplete==2.1.2\n",
      "argon2-cffi==21.3.0\n",
      "argon2-cffi-bindings==21.2.0\n",
      "asttokens==2.2.1\n",
      "attrs==23.1.0\n",
      "azure-common==1.1.28\n",
      "azure-core==1.27.1\n",
      "azure-graphrbac==0.61.1\n",
      "azure-identity==1.13.0\n",
      "azure-mgmt-authorization==3.0.0\n",
      "azure-mgmt-containerregistry==10.1.0\n",
      "azure-mgmt-core==1.4.0\n",
      "azure-mgmt-keyvault==10.2.2\n",
      "azure-mgmt-resource==22.0.0\n",
      "azure-mgmt-storage==21.0.0\n",
      "azure-storage-blob==12.13.0\n",
      "azure-storage-queue==12.6.0\n",
      "azureml-automl-core==1.52.0.post1\n",
      "azureml-automl-runtime==1.52.0.post1\n",
      "azureml-core==1.52.0\n",
      "azureml-dataprep==4.11.4\n",
      "azureml-dataprep-native==38.0.0\n",
      "azureml-dataprep-rslex==2.18.4\n",
      "azureml-dataset-runtime==1.52.0\n",
      "azureml-defaults==1.52.0\n",
      "azureml-inference-server-http==0.8.4\n",
      "azureml-interpret==1.52.0\n",
      "azureml-mlflow==1.52.0\n",
      "azureml-pipeline-core==1.52.0\n",
      "azureml-responsibleai==1.52.0\n",
      "azureml-telemetry==1.52.0\n",
      "azureml-train-automl-client==1.52.0\n",
      "azureml-train-automl-runtime==1.52.0\n",
      "azureml-train-core==1.52.0\n",
      "azureml-train-restclients-hyperdrive==1.52.0\n",
      "azureml-training-tabular==1.52.0\n",
      "backcall==0.2.0\n",
      "backports.tempfile==1.0\n",
      "backports.weakref==1.0.post1\n",
      "bcrypt==4.0.1\n",
      "beautifulsoup4==4.12.2\n",
      "bleach==6.0.0\n",
      "bokeh==2.4.3\n",
      "boto==2.49.0\n",
      "boto3==1.20.19\n",
      "botocore==1.23.19\n",
      "Brotli @ file:///home/conda/feedstock_root/build_artifacts/brotli-split_1687884021435/work\n",
      "cachetools==5.3.1\n",
      "certifi==2023.5.7\n",
      "cffi @ file:///home/conda/feedstock_root/build_artifacts/cffi_1671179356964/work\n",
      "charset-normalizer @ file:///home/conda/feedstock_root/build_artifacts/charset-normalizer_1678108872112/work\n",
      "click==8.1.4\n",
      "cloudpickle @ file:///home/conda/feedstock_root/build_artifacts/cloudpickle_1598400192773/work\n",
      "cmdstanpy==0.9.5\n",
      "contextlib2==21.6.0\n",
      "contourpy==1.1.0\n",
      "convertdate @ file:///home/conda/feedstock_root/build_artifacts/convertdate_1642883757836/work\n",
      "cryptography==41.0.0\n",
      "cycler==0.11.0\n",
      "Cython==0.29.17\n",
      "dask==2023.2.0\n",
      "databricks-cli==0.17.7\n",
      "dataclasses==0.6\n",
      "debugpy==1.6.7\n",
      "decorator==5.1.1\n",
      "defusedxml==0.7.1\n",
      "dice-ml==0.9\n",
      "dill==0.3.6\n",
      "distributed==2023.2.0\n",
      "distro==1.8.0\n",
      "docker==6.1.3\n",
      "dotnetcore2==3.1.23\n",
      "econml==0.14.1\n",
      "entrypoints==0.4\n",
      "ephem==4.1.4\n",
      "erroranalysis==0.4.4\n",
      "executing==1.2.0\n",
      "fairlearn==0.8.0\n",
      "fastjsonschema==2.17.1\n",
      "fbprophet==0.7.1\n",
      "fire==0.5.0\n",
      "Flask==2.2.5\n",
      "Flask-Cors==3.0.10\n",
      "flatbuffers==23.5.26\n",
      "fonttools==4.40.0\n",
      "fsspec==2023.6.0\n",
      "fusepy==3.0.1\n",
      "gensim==3.8.3\n",
      "gitdb==4.0.10\n",
      "GitPython==3.1.31\n",
      "google-api-core==2.11.1\n",
      "google-auth==2.21.0\n",
      "googleapis-common-protos==1.59.1\n",
      "gunicorn==20.1.0\n",
      "h5py==3.9.0\n",
      "holidays @ file:///home/conda/feedstock_root/build_artifacts/holidays_1595448845196/work\n",
      "humanfriendly==10.0\n",
      "idna @ file:///home/conda/feedstock_root/build_artifacts/idna_1663625384323/work\n",
      "importlib-metadata==6.8.0\n",
      "importlib-resources==5.13.0\n",
      "inference-schema==1.5.1\n",
      "interpret-community==0.29.0\n",
      "interpret-core==0.3.2\n",
      "ipykernel==6.8.0\n",
      "ipython==8.12.2\n",
      "ipython-genutils==0.2.0\n",
      "isodate==0.6.1\n",
      "itsdangerous==2.1.2\n",
      "jedi==0.18.2\n",
      "jeepney==0.8.0\n",
      "Jinja2==3.1.2\n",
      "jmespath==0.10.0\n",
      "joblib @ file:///home/conda/feedstock_root/build_artifacts/joblib_1663332044897/work\n",
      "jsonpickle==3.0.1\n",
      "jsonschema==4.18.0\n",
      "jsonschema-specifications==2023.6.1\n",
      "jupyter_client==7.4.9\n",
      "jupyter_core==5.3.1\n",
      "jupyterlab-pygments==0.2.2\n",
      "keras2onnx==1.6.0\n",
      "kiwisolver==1.4.4\n",
      "knack==0.10.1\n",
      "korean-lunar-calendar @ file:///home/conda/feedstock_root/build_artifacts/korean_lunar_calendar_1663341251025/work\n",
      "lightgbm==3.2.1\n",
      "llvmlite==0.38.1\n",
      "locket==1.0.0\n",
      "LunarCalendar==0.0.9\n",
      "MarkupSafe==2.1.2\n",
      "matplotlib==3.7.2\n",
      "matplotlib-inline==0.1.6\n",
      "mistune==3.0.1\n",
      "ml-wrappers==0.4.11\n",
      "mlflow-skinny==2.4.1\n",
      "mltable==1.4.1\n",
      "msal==1.22.0\n",
      "msal-extensions==1.0.0\n",
      "msgpack==1.0.5\n",
      "msrest==0.7.1\n",
      "msrestazure==0.6.4\n",
      "nbclient==0.8.0\n",
      "nbconvert==7.6.0\n",
      "nbformat==5.9.0\n",
      "ndg-httpsclient==0.5.1\n",
      "nest-asyncio==1.5.6\n",
      "networkx==2.5\n",
      "notebook==6.4.9\n",
      "numba==0.55.2\n",
      "numpy==1.22.3\n",
      "oauthlib==3.2.2\n",
      "onnx==1.13.1\n",
      "onnxconverter-common==1.6.0\n",
      "onnxmltools==1.4.1\n",
      "onnxruntime==1.11.1\n",
      "opencensus==0.11.2\n",
      "opencensus-context==0.1.3\n",
      "opencensus-ext-azure==1.1.9\n",
      "packaging==23.0\n",
      "pandas==1.1.5\n",
      "pandocfilters==1.5.0\n",
      "paramiko==3.2.0\n",
      "parso==0.8.3\n",
      "partd==1.4.0\n",
      "pathspec==0.11.1\n",
      "patsy==0.5.3\n",
      "pexpect==4.8.0\n",
      "pickleshare==0.7.5\n",
      "Pillow==10.0.0\n",
      "pkginfo==1.9.6\n",
      "pkgutil_resolve_name==1.3.10\n",
      "platformdirs @ file:///home/conda/feedstock_root/build_artifacts/platformdirs_1688739404342/work\n",
      "pmdarima==1.8.0\n",
      "pooch @ file:///home/conda/feedstock_root/build_artifacts/pooch_1679580333621/work\n",
      "portalocker==2.7.0\n",
      "prometheus-client==0.17.0\n",
      "prompt-toolkit==3.0.39\n",
      "property-cached==1.6.4\n",
      "protobuf==3.20.3\n",
      "psutil @ file:///home/conda/feedstock_root/build_artifacts/psutil_1681775007745/work\n",
      "ptyprocess==0.7.0\n",
      "pure-eval==0.2.2\n",
      "py-cpuinfo==5.0.0\n",
      "pyarrow==9.0.0\n",
      "pyasn1==0.5.0\n",
      "pyasn1-modules==0.3.0\n",
      "pycparser @ file:///home/conda/feedstock_root/build_artifacts/pycparser_1636257122734/work\n",
      "pydantic==1.10.11\n",
      "Pygments==2.15.1\n",
      "PyJWT==2.7.0\n",
      "PyMeeus @ file:///home/conda/feedstock_root/build_artifacts/pymeeus_1670868433998/work\n",
      "PyNaCl==1.5.0\n",
      "pyOpenSSL @ file:///home/conda/feedstock_root/build_artifacts/pyopenssl_1685514481738/work\n",
      "pyparsing==3.0.9\n",
      "PySocks @ file:///home/conda/feedstock_root/build_artifacts/pysocks_1661604839144/work\n",
      "pystan==2.19.1.1\n",
      "python-dateutil @ file:///home/conda/feedstock_root/build_artifacts/python-dateutil_1626286286081/work\n",
      "pytz @ file:///home/conda/feedstock_root/build_artifacts/pytz_1680088766131/work\n",
      "PyYAML==6.0\n",
      "pyzmq==25.1.0\n",
      "raiutils==0.4.0\n",
      "referencing==0.29.1\n",
      "requests @ file:///home/conda/feedstock_root/build_artifacts/requests_1684774241324/work\n",
      "requests-oauthlib==1.3.1\n",
      "responsibleai==0.28.0\n",
      "rpds-py==0.8.8\n",
      "rsa==4.9\n",
      "s3transfer==0.5.2\n",
      "scikit-learn==0.22.1\n",
      "scipy==1.5.3\n",
      "SecretStorage==3.3.3\n",
      "semver==2.13.0\n",
      "Send2Trash==1.8.2\n",
      "setuptools-git==1.2\n",
      "shap==0.41.0\n",
      "six @ file:///home/conda/feedstock_root/build_artifacts/six_1620240208055/work\n",
      "skl2onnx==1.4.9\n",
      "sklearn-pandas==1.7.0\n",
      "slicer==0.0.7\n",
      "smart-open==1.9.0\n",
      "smmap==5.0.0\n",
      "sortedcontainers==2.4.0\n",
      "soupsieve==2.4.1\n",
      "sparse==0.14.0\n",
      "sqlparse==0.4.4\n",
      "stack-data==0.6.2\n",
      "statsmodels==0.11.1\n",
      "tabulate==0.9.0\n",
      "tblib==2.0.0\n",
      "termcolor==2.3.0\n",
      "terminado==0.17.1\n",
      "tinycss2==1.2.1\n",
      "toolz==0.12.0\n",
      "tornado==6.3.2\n",
      "tqdm==4.65.0\n",
      "traitlets==5.9.0\n",
      "typing_extensions @ file:///home/conda/feedstock_root/build_artifacts/typing_extensions_1688315532570/work\n",
      "urllib3==1.26.16\n",
      "wcwidth==0.2.6\n",
      "webencodings==0.5.1\n",
      "websocket-client==1.6.1\n",
      "Werkzeug==2.3.6\n",
      "wrapt==1.12.1\n",
      "xgboost==1.3.3\n",
      "zict==3.0.0\n",
      "zipp==3.15.0\n",
      "\n",
      "2024-06-18T15:42:18,045796074+00:00 | gunicorn/run | \n",
      "2024-06-18T15:42:18,050056448+00:00 | gunicorn/run | ###############################################\n",
      "2024-06-18T15:42:18,050925518+00:00 | gunicorn/run | Checking if the Python package azureml-inference-server-http is installed\n",
      "2024-06-18T15:42:18,051742853+00:00 | gunicorn/run | ###############################################\n",
      "2024-06-18T15:42:18,052577190+00:00 | gunicorn/run | \n",
      "2024-06-18T15:42:20,411198212+00:00 | gunicorn/run | \n",
      "2024-06-18T15:42:20,412302252+00:00 | gunicorn/run | ###############################################\n",
      "2024-06-18T15:42:20,413244360+00:00 | gunicorn/run | AzureML Inference Server\n",
      "2024-06-18T15:42:20,418493285+00:00 | gunicorn/run | ###############################################\n",
      "2024-06-18T15:42:20,419404355+00:00 | gunicorn/run | \n",
      "2024-06-18T15:42:22,849118756+00:00 | gunicorn/run | Starting AzureML Inference Server HTTP.\n",
      "2024-06-18 15:42:23,107 I [71] azmlinfsrv - Loaded logging config from /azureml-envs/azureml-automl/lib/python3.8/site-packages/azureml_inference_server_http/logging.json\n",
      "2024-06-18 15:42:23,340 I [71] gunicorn.error - Starting gunicorn 20.1.0\n",
      "2024-06-18 15:42:23,341 I [71] gunicorn.error - Listening at: http://0.0.0.0:31311 (71)\n",
      "2024-06-18 15:42:23,341 I [71] gunicorn.error - Using worker: sync\n",
      "2024-06-18 15:42:23,345 I [129] gunicorn.error - Booting worker with pid: 129\n",
      "Valid Application Insights instrumentation key provided.\n",
      "\n",
      "Azure ML Inferencing HTTP server v0.8.4\n",
      "\n",
      "\n",
      "/azureml-envs/azureml-automl/lib/python3.8/site-packages/azureml_inference_server_http/server/config.py:51: FutureWarning: aliases are no longer used by BaseSettings to define which environment variables to read. Instead use the \"env\" field setting. See https://pydantic-docs.helpmanual.io/usage/settings/#environment-variable-names\n",
      "  class AMLInferenceServerConfig(pydantic.BaseSettings):\n",
      "Server Settings\n",
      "---------------\n",
      "Entry Script Name: /var/azureml-app/main.py\n",
      "Model Directory: /var/azureml-app/azureml-models/automl-heart-sdk/1\n",
      "Config File: None\n",
      "Worker Count: 1\n",
      "Worker Timeout (seconds): 300\n",
      "Server Port: 31311\n",
      "Health Port: 31311\n",
      "Application Insights Enabled: true\n",
      "Application Insights Key: AppInsights key provided\n",
      "Inferencing HTTP server version: azmlinfsrv/0.8.4\n",
      "CORS for the specified origins: None\n",
      "Create dedicated endpoint for health: None\n",
      "\n",
      "\n",
      "Server Routes\n",
      "---------------\n",
      "Liveness Probe: GET   127.0.0.1:31311/\n",
      "Score:          POST  127.0.0.1:31311/score\n",
      "\n",
      "2024-06-18 15:42:23,892 I [129] azmlinfsrv - AML_FLASK_ONE_COMPATIBILITY is set. Patched Flask to ensure compatibility with Flask 1.\n",
      "Initializing logger\n",
      "2024-06-18 15:42:23,893 I [129] azmlinfsrv - Starting up app insights client\n",
      "WARNING:opencensus.ext.azure.common:DeprecationWarning: Explicitly using instrumentation key isdeprecated. Please use a connection string instead.\n",
      "WARNING:opencensus.ext.azure.common:DeprecationWarning: Explicitly using instrumentation key isdeprecated. Please use a connection string instead.\n",
      "WARNING:opencensus.ext.azure.common:DeprecationWarning: Explicitly using instrumentation key isdeprecated. Please use a connection string instead.\n",
      "2024-06-18 15:42:29,697 I [129] azmlinfsrv.user_script - Found driver script at /var/azureml-app/main.py and the score script at /var/azureml-app/score_new.py\n",
      "2024-06-18 15:42:29,698 I [129] azmlinfsrv.user_script - run() is decorated with @input_schema. Server will invoke it with the following arguments: data, method.\n",
      "2024-06-18 15:42:29,698 I [129] azmlinfsrv.user_script - Invoking user's init function\n",
      "ERROR:fbprophet.plot:Importing plotly failed. Interactive plots will not work.\n",
      "2024-06-18 15:42:37,166 I [129] azmlinfsrv.user_script - Users's init has completed successfully\n",
      "2024-06-18 15:42:37,167 I [129] azmlinfsrv.swagger - Swaggers are prepared for the following versions: [2, 3, 3.1].\n",
      "2024-06-18 15:42:37,167 I [129] azmlinfsrv - Scoring timeout is set to 60000\n",
      "2024-06-18 15:42:48,158 W [129] azmlinfsrv - x-ms-request-id header has been deprecated and will be removed from future versions of the server. Please use x-ms-client-request-id.\n",
      "2024-06-18 15:42:48,161 I [129] gunicorn.access - 127.0.0.1 - - [18/Jun/2024:15:42:48 +0000] \"GET / HTTP/1.0\" 200 7 \"-\" \"Go-http-client/1.1\"\n",
      "2024-06-18 15:42:48,165 W [129] azmlinfsrv - x-ms-request-id header has been deprecated and will be removed from future versions of the server. Please use x-ms-client-request-id.\n",
      "2024-06-18 15:42:48,166 I [129] azmlinfsrv - GET /swagger.json 200 0.532ms 3546\n",
      "2024-06-18 15:42:48,167 I [129] gunicorn.access - 127.0.0.1 - - [18/Jun/2024:15:42:48 +0000] \"GET /swagger.json HTTP/1.0\" 200 3546 \"-\" \"Go-http-client/1.1\"\n",
      "2024-06-18 15:42:53,241 W [129] azmlinfsrv - x-ms-request-id header has been deprecated and will be removed from future versions of the server. Please use x-ms-client-request-id.\n",
      "2024-06-18 15:42:53,242 I [129] gunicorn.access - 127.0.0.1 - - [18/Jun/2024:15:42:53 +0000] \"GET / HTTP/1.0\" 200 7 \"-\" \"Go-http-client/1.1\"\n",
      "2024-06-18 15:42:53,244 W [129] azmlinfsrv - x-ms-request-id header has been deprecated and will be removed from future versions of the server. Please use x-ms-client-request-id.\n",
      "2024-06-18 15:42:53,245 I [129] azmlinfsrv - GET /swagger.json 200 0.517ms 3546\n",
      "2024-06-18 15:42:53,246 I [129] gunicorn.access - 127.0.0.1 - - [18/Jun/2024:15:42:53 +0000] \"GET /swagger.json HTTP/1.0\" 200 3546 \"-\" \"Go-http-client/1.1\"\n",
      "\n"
     ]
    }
   ],
   "source": [
    "inference_config = InferenceConfig(entry_script='score_new.py', environment=env)\n",
    "\n",
    "#inf_config = InferenceConfig(entry_script='score.py', environment=env, conda_file=\"conda_dependencies.yml\")\n",
    "#inf_config = InferenceConfig(entry_script='score.py', environment=env)\n",
    "\n",
    "deployment_config = AciWebservice.deploy_configuration(cpu_cores = 1, memory_gb = 4, enable_app_insights=True, auth_enabled=True)\n",
    "#deployment_config = AciWebservice.deploy_configuration(cpu_cores = 1, memory_gb = 4)\n",
    "\n",
    "service = Model.deploy(workspace = ws, \n",
    "                    name = \"heart-automl-deploy\",\n",
    "                    models = [model],\n",
    "                    inference_config= inference_config,\n",
    "                    deployment_config=deployment_config,\n",
    "                    overwrite = True)\n",
    "\n",
    "service.wait_for_deployment(show_output=True)\n",
    "\n",
    "# ensure app insights is enabled\n",
    "if service.enable_app_insights==False:\n",
    "    service.update(enable_app_insights=True)\n",
    "# print the sevice logs\n",
    "print(service.get_logs())"
   ]
  },
  {
   "cell_type": "markdown",
   "metadata": {
    "collapsed": true,
    "gather": {
     "logged": 1598431657736
    },
    "jupyter": {
     "outputs_hidden": false,
     "source_hidden": false
    },
    "nteract": {
     "transient": {
      "deleting": false
     }
    }
   },
   "source": [
    "TODO: In the cell below, send a request to the web service you deployed to test it."
   ]
  },
  {
   "cell_type": "code",
   "execution_count": 17,
   "metadata": {
    "gather": {
     "logged": 1718725416561
    }
   },
   "outputs": [
    {
     "name": "stdout",
     "output_type": "stream",
     "text": [
      "http://3a51d690-8529-43c6-bdfd-4ae7ec2d19c1.southcentralus.azurecontainer.io/score\n",
      "bidYWKcZvZq3r3piukoLRnsXW2h0sILk\n"
     ]
    }
   ],
   "source": [
    "scoring_uri = service.scoring_uri\n",
    "print(scoring_uri)\n",
    "\n",
    "key = service.get_keys()[0]\n",
    "print(key)"
   ]
  },
  {
   "cell_type": "code",
   "execution_count": 20,
   "metadata": {
    "gather": {
     "logged": 1717953295676
    },
    "jupyter": {
     "outputs_hidden": false,
     "source_hidden": false
    },
    "nteract": {
     "transient": {
      "deleting": false
     }
    }
   },
   "outputs": [
    {
     "name": "stdout",
     "output_type": "stream",
     "text": [
      "{\"result\": [1, 1]}\n"
     ]
    }
   ],
   "source": [
    "%run endpoint.py"
   ]
  },
  {
   "cell_type": "markdown",
   "metadata": {
    "collapsed": true,
    "gather": {
     "logged": 1598432765711
    },
    "jupyter": {
     "outputs_hidden": false,
     "source_hidden": false
    },
    "nteract": {
     "transient": {
      "deleting": false
     }
    }
   },
   "source": [
    "TODO: In the cell below, print the logs of the web service and delete the service"
   ]
  },
  {
   "cell_type": "code",
   "execution_count": 21,
   "metadata": {
    "gather": {
     "logged": 1718726415572
    },
    "jupyter": {
     "outputs_hidden": false,
     "source_hidden": false
    },
    "nteract": {
     "transient": {
      "deleting": false
     }
    }
   },
   "outputs": [
    {
     "name": "stdout",
     "output_type": "stream",
     "text": [
      "2024-06-18T15:42:15,257116293+00:00 - rsyslog/run \n",
      "2024-06-18T15:42:15,259884673+00:00 - gunicorn/run \n",
      "2024-06-18T15:42:15,262051055+00:00 | gunicorn/run | \n",
      "2024-06-18T15:42:15,263618715+00:00 | gunicorn/run | ###############################################\n",
      "2024-06-18T15:42:15,266677124+00:00 | gunicorn/run | AzureML Container Runtime Information\n",
      "2024-06-18T15:42:15,269510811+00:00 | gunicorn/run | ###############################################\n",
      "2024-06-18T15:42:15,270277351+00:00 - nginx/run \n",
      "2024-06-18T15:42:15,271488240+00:00 | gunicorn/run | \n",
      "2024-06-18T15:42:15,276889841+00:00 | gunicorn/run | \n",
      "2024-06-18T15:42:15,286533905+00:00 | gunicorn/run | AzureML image information: openmpi4.1.0-ubuntu20.04, Materializaton Build:20230628.v2\n",
      "2024-06-18T15:42:15,290553346+00:00 | gunicorn/run | \n",
      "2024-06-18T15:42:15,292591305+00:00 | gunicorn/run | \n",
      "2024-06-18T15:42:15,293463947+00:00 | gunicorn/run | PATH environment variable: /azureml-envs/azureml-automl/bin:/opt/miniconda/bin:/usr/local/sbin:/usr/local/bin:/usr/sbin:/usr/bin:/sbin:/bin\n",
      "2024-06-18T15:42:15,294708565+00:00 | gunicorn/run | PYTHONPATH environment variable: \n",
      "2024-06-18T15:42:15,295416497+00:00 | gunicorn/run | \n",
      "2024-06-18T15:42:15,880346269+00:00 | gunicorn/run | CONDAPATH environment variable: /opt/miniconda\n",
      "\n",
      "# conda environments:\n",
      "#\n",
      "                         /azureml-envs/azureml-automl\n",
      "base                     /opt/miniconda\n",
      "\n",
      "2024-06-18T15:42:16,780041097+00:00 | gunicorn/run | \n",
      "2024-06-18T15:42:16,785607623+00:00 | gunicorn/run | Pip Dependencies (before dynamic installation)\n",
      "\n",
      "adal==1.2.7\n",
      "applicationinsights==0.11.10\n",
      "arch==5.3.1\n",
      "argcomplete==2.1.2\n",
      "argon2-cffi==21.3.0\n",
      "argon2-cffi-bindings==21.2.0\n",
      "asttokens==2.2.1\n",
      "attrs==23.1.0\n",
      "azure-common==1.1.28\n",
      "azure-core==1.27.1\n",
      "azure-graphrbac==0.61.1\n",
      "azure-identity==1.13.0\n",
      "azure-mgmt-authorization==3.0.0\n",
      "azure-mgmt-containerregistry==10.1.0\n",
      "azure-mgmt-core==1.4.0\n",
      "azure-mgmt-keyvault==10.2.2\n",
      "azure-mgmt-resource==22.0.0\n",
      "azure-mgmt-storage==21.0.0\n",
      "azure-storage-blob==12.13.0\n",
      "azure-storage-queue==12.6.0\n",
      "azureml-automl-core==1.52.0.post1\n",
      "azureml-automl-runtime==1.52.0.post1\n",
      "azureml-core==1.52.0\n",
      "azureml-dataprep==4.11.4\n",
      "azureml-dataprep-native==38.0.0\n",
      "azureml-dataprep-rslex==2.18.4\n",
      "azureml-dataset-runtime==1.52.0\n",
      "azureml-defaults==1.52.0\n",
      "azureml-inference-server-http==0.8.4\n",
      "azureml-interpret==1.52.0\n",
      "azureml-mlflow==1.52.0\n",
      "azureml-pipeline-core==1.52.0\n",
      "azureml-responsibleai==1.52.0\n",
      "azureml-telemetry==1.52.0\n",
      "azureml-train-automl-client==1.52.0\n",
      "azureml-train-automl-runtime==1.52.0\n",
      "azureml-train-core==1.52.0\n",
      "azureml-train-restclients-hyperdrive==1.52.0\n",
      "azureml-training-tabular==1.52.0\n",
      "backcall==0.2.0\n",
      "backports.tempfile==1.0\n",
      "backports.weakref==1.0.post1\n",
      "bcrypt==4.0.1\n",
      "beautifulsoup4==4.12.2\n",
      "bleach==6.0.0\n",
      "bokeh==2.4.3\n",
      "boto==2.49.0\n",
      "boto3==1.20.19\n",
      "botocore==1.23.19\n",
      "Brotli @ file:///home/conda/feedstock_root/build_artifacts/brotli-split_1687884021435/work\n",
      "cachetools==5.3.1\n",
      "certifi==2023.5.7\n",
      "cffi @ file:///home/conda/feedstock_root/build_artifacts/cffi_1671179356964/work\n",
      "charset-normalizer @ file:///home/conda/feedstock_root/build_artifacts/charset-normalizer_1678108872112/work\n",
      "click==8.1.4\n",
      "cloudpickle @ file:///home/conda/feedstock_root/build_artifacts/cloudpickle_1598400192773/work\n",
      "cmdstanpy==0.9.5\n",
      "contextlib2==21.6.0\n",
      "contourpy==1.1.0\n",
      "convertdate @ file:///home/conda/feedstock_root/build_artifacts/convertdate_1642883757836/work\n",
      "cryptography==41.0.0\n",
      "cycler==0.11.0\n",
      "Cython==0.29.17\n",
      "dask==2023.2.0\n",
      "databricks-cli==0.17.7\n",
      "dataclasses==0.6\n",
      "debugpy==1.6.7\n",
      "decorator==5.1.1\n",
      "defusedxml==0.7.1\n",
      "dice-ml==0.9\n",
      "dill==0.3.6\n",
      "distributed==2023.2.0\n",
      "distro==1.8.0\n",
      "docker==6.1.3\n",
      "dotnetcore2==3.1.23\n",
      "econml==0.14.1\n",
      "entrypoints==0.4\n",
      "ephem==4.1.4\n",
      "erroranalysis==0.4.4\n",
      "executing==1.2.0\n",
      "fairlearn==0.8.0\n",
      "fastjsonschema==2.17.1\n",
      "fbprophet==0.7.1\n",
      "fire==0.5.0\n",
      "Flask==2.2.5\n",
      "Flask-Cors==3.0.10\n",
      "flatbuffers==23.5.26\n",
      "fonttools==4.40.0\n",
      "fsspec==2023.6.0\n",
      "fusepy==3.0.1\n",
      "gensim==3.8.3\n",
      "gitdb==4.0.10\n",
      "GitPython==3.1.31\n",
      "google-api-core==2.11.1\n",
      "google-auth==2.21.0\n",
      "googleapis-common-protos==1.59.1\n",
      "gunicorn==20.1.0\n",
      "h5py==3.9.0\n",
      "holidays @ file:///home/conda/feedstock_root/build_artifacts/holidays_1595448845196/work\n",
      "humanfriendly==10.0\n",
      "idna @ file:///home/conda/feedstock_root/build_artifacts/idna_1663625384323/work\n",
      "importlib-metadata==6.8.0\n",
      "importlib-resources==5.13.0\n",
      "inference-schema==1.5.1\n",
      "interpret-community==0.29.0\n",
      "interpret-core==0.3.2\n",
      "ipykernel==6.8.0\n",
      "ipython==8.12.2\n",
      "ipython-genutils==0.2.0\n",
      "isodate==0.6.1\n",
      "itsdangerous==2.1.2\n",
      "jedi==0.18.2\n",
      "jeepney==0.8.0\n",
      "Jinja2==3.1.2\n",
      "jmespath==0.10.0\n",
      "joblib @ file:///home/conda/feedstock_root/build_artifacts/joblib_1663332044897/work\n",
      "jsonpickle==3.0.1\n",
      "jsonschema==4.18.0\n",
      "jsonschema-specifications==2023.6.1\n",
      "jupyter_client==7.4.9\n",
      "jupyter_core==5.3.1\n",
      "jupyterlab-pygments==0.2.2\n",
      "keras2onnx==1.6.0\n",
      "kiwisolver==1.4.4\n",
      "knack==0.10.1\n",
      "korean-lunar-calendar @ file:///home/conda/feedstock_root/build_artifacts/korean_lunar_calendar_1663341251025/work\n",
      "lightgbm==3.2.1\n",
      "llvmlite==0.38.1\n",
      "locket==1.0.0\n",
      "LunarCalendar==0.0.9\n",
      "MarkupSafe==2.1.2\n",
      "matplotlib==3.7.2\n",
      "matplotlib-inline==0.1.6\n",
      "mistune==3.0.1\n",
      "ml-wrappers==0.4.11\n",
      "mlflow-skinny==2.4.1\n",
      "mltable==1.4.1\n",
      "msal==1.22.0\n",
      "msal-extensions==1.0.0\n",
      "msgpack==1.0.5\n",
      "msrest==0.7.1\n",
      "msrestazure==0.6.4\n",
      "nbclient==0.8.0\n",
      "nbconvert==7.6.0\n",
      "nbformat==5.9.0\n",
      "ndg-httpsclient==0.5.1\n",
      "nest-asyncio==1.5.6\n",
      "networkx==2.5\n",
      "notebook==6.4.9\n",
      "numba==0.55.2\n",
      "numpy==1.22.3\n",
      "oauthlib==3.2.2\n",
      "onnx==1.13.1\n",
      "onnxconverter-common==1.6.0\n",
      "onnxmltools==1.4.1\n",
      "onnxruntime==1.11.1\n",
      "opencensus==0.11.2\n",
      "opencensus-context==0.1.3\n",
      "opencensus-ext-azure==1.1.9\n",
      "packaging==23.0\n",
      "pandas==1.1.5\n",
      "pandocfilters==1.5.0\n",
      "paramiko==3.2.0\n",
      "parso==0.8.3\n",
      "partd==1.4.0\n",
      "pathspec==0.11.1\n",
      "patsy==0.5.3\n",
      "pexpect==4.8.0\n",
      "pickleshare==0.7.5\n",
      "Pillow==10.0.0\n",
      "pkginfo==1.9.6\n",
      "pkgutil_resolve_name==1.3.10\n",
      "platformdirs @ file:///home/conda/feedstock_root/build_artifacts/platformdirs_1688739404342/work\n",
      "pmdarima==1.8.0\n",
      "pooch @ file:///home/conda/feedstock_root/build_artifacts/pooch_1679580333621/work\n",
      "portalocker==2.7.0\n",
      "prometheus-client==0.17.0\n",
      "prompt-toolkit==3.0.39\n",
      "property-cached==1.6.4\n",
      "protobuf==3.20.3\n",
      "psutil @ file:///home/conda/feedstock_root/build_artifacts/psutil_1681775007745/work\n",
      "ptyprocess==0.7.0\n",
      "pure-eval==0.2.2\n",
      "py-cpuinfo==5.0.0\n",
      "pyarrow==9.0.0\n",
      "pyasn1==0.5.0\n",
      "pyasn1-modules==0.3.0\n",
      "pycparser @ file:///home/conda/feedstock_root/build_artifacts/pycparser_1636257122734/work\n",
      "pydantic==1.10.11\n",
      "Pygments==2.15.1\n",
      "PyJWT==2.7.0\n",
      "PyMeeus @ file:///home/conda/feedstock_root/build_artifacts/pymeeus_1670868433998/work\n",
      "PyNaCl==1.5.0\n",
      "pyOpenSSL @ file:///home/conda/feedstock_root/build_artifacts/pyopenssl_1685514481738/work\n",
      "pyparsing==3.0.9\n",
      "PySocks @ file:///home/conda/feedstock_root/build_artifacts/pysocks_1661604839144/work\n",
      "pystan==2.19.1.1\n",
      "python-dateutil @ file:///home/conda/feedstock_root/build_artifacts/python-dateutil_1626286286081/work\n",
      "pytz @ file:///home/conda/feedstock_root/build_artifacts/pytz_1680088766131/work\n",
      "PyYAML==6.0\n",
      "pyzmq==25.1.0\n",
      "raiutils==0.4.0\n",
      "referencing==0.29.1\n",
      "requests @ file:///home/conda/feedstock_root/build_artifacts/requests_1684774241324/work\n",
      "requests-oauthlib==1.3.1\n",
      "responsibleai==0.28.0\n",
      "rpds-py==0.8.8\n",
      "rsa==4.9\n",
      "s3transfer==0.5.2\n",
      "scikit-learn==0.22.1\n",
      "scipy==1.5.3\n",
      "SecretStorage==3.3.3\n",
      "semver==2.13.0\n",
      "Send2Trash==1.8.2\n",
      "setuptools-git==1.2\n",
      "shap==0.41.0\n",
      "six @ file:///home/conda/feedstock_root/build_artifacts/six_1620240208055/work\n",
      "skl2onnx==1.4.9\n",
      "sklearn-pandas==1.7.0\n",
      "slicer==0.0.7\n",
      "smart-open==1.9.0\n",
      "smmap==5.0.0\n",
      "sortedcontainers==2.4.0\n",
      "soupsieve==2.4.1\n",
      "sparse==0.14.0\n",
      "sqlparse==0.4.4\n",
      "stack-data==0.6.2\n",
      "statsmodels==0.11.1\n",
      "tabulate==0.9.0\n",
      "tblib==2.0.0\n",
      "termcolor==2.3.0\n",
      "terminado==0.17.1\n",
      "tinycss2==1.2.1\n",
      "toolz==0.12.0\n",
      "tornado==6.3.2\n",
      "tqdm==4.65.0\n",
      "traitlets==5.9.0\n",
      "typing_extensions @ file:///home/conda/feedstock_root/build_artifacts/typing_extensions_1688315532570/work\n",
      "urllib3==1.26.16\n",
      "wcwidth==0.2.6\n",
      "webencodings==0.5.1\n",
      "websocket-client==1.6.1\n",
      "Werkzeug==2.3.6\n",
      "wrapt==1.12.1\n",
      "xgboost==1.3.3\n",
      "zict==3.0.0\n",
      "zipp==3.15.0\n",
      "\n",
      "2024-06-18T15:42:18,045796074+00:00 | gunicorn/run | \n",
      "2024-06-18T15:42:18,050056448+00:00 | gunicorn/run | ###############################################\n",
      "2024-06-18T15:42:18,050925518+00:00 | gunicorn/run | Checking if the Python package azureml-inference-server-http is installed\n",
      "2024-06-18T15:42:18,051742853+00:00 | gunicorn/run | ###############################################\n",
      "2024-06-18T15:42:18,052577190+00:00 | gunicorn/run | \n",
      "2024-06-18T15:42:20,411198212+00:00 | gunicorn/run | \n",
      "2024-06-18T15:42:20,412302252+00:00 | gunicorn/run | ###############################################\n",
      "2024-06-18T15:42:20,413244360+00:00 | gunicorn/run | AzureML Inference Server\n",
      "2024-06-18T15:42:20,418493285+00:00 | gunicorn/run | ###############################################\n",
      "2024-06-18T15:42:20,419404355+00:00 | gunicorn/run | \n",
      "2024-06-18T15:42:22,849118756+00:00 | gunicorn/run | Starting AzureML Inference Server HTTP.\n",
      "2024-06-18 15:42:23,107 I [71] azmlinfsrv - Loaded logging config from /azureml-envs/azureml-automl/lib/python3.8/site-packages/azureml_inference_server_http/logging.json\n",
      "2024-06-18 15:42:23,340 I [71] gunicorn.error - Starting gunicorn 20.1.0\n",
      "2024-06-18 15:42:23,341 I [71] gunicorn.error - Listening at: http://0.0.0.0:31311 (71)\n",
      "2024-06-18 15:42:23,341 I [71] gunicorn.error - Using worker: sync\n",
      "2024-06-18 15:42:23,345 I [129] gunicorn.error - Booting worker with pid: 129\n",
      "Valid Application Insights instrumentation key provided.\n",
      "\n",
      "Azure ML Inferencing HTTP server v0.8.4\n",
      "\n",
      "\n",
      "/azureml-envs/azureml-automl/lib/python3.8/site-packages/azureml_inference_server_http/server/config.py:51: FutureWarning: aliases are no longer used by BaseSettings to define which environment variables to read. Instead use the \"env\" field setting. See https://pydantic-docs.helpmanual.io/usage/settings/#environment-variable-names\n",
      "  class AMLInferenceServerConfig(pydantic.BaseSettings):\n",
      "Server Settings\n",
      "---------------\n",
      "Entry Script Name: /var/azureml-app/main.py\n",
      "Model Directory: /var/azureml-app/azureml-models/automl-heart-sdk/1\n",
      "Config File: None\n",
      "Worker Count: 1\n",
      "Worker Timeout (seconds): 300\n",
      "Server Port: 31311\n",
      "Health Port: 31311\n",
      "Application Insights Enabled: true\n",
      "Application Insights Key: AppInsights key provided\n",
      "Inferencing HTTP server version: azmlinfsrv/0.8.4\n",
      "CORS for the specified origins: None\n",
      "Create dedicated endpoint for health: None\n",
      "\n",
      "\n",
      "Server Routes\n",
      "---------------\n",
      "Liveness Probe: GET   127.0.0.1:31311/\n",
      "Score:          POST  127.0.0.1:31311/score\n",
      "\n",
      "2024-06-18 15:42:23,892 I [129] azmlinfsrv - AML_FLASK_ONE_COMPATIBILITY is set. Patched Flask to ensure compatibility with Flask 1.\n",
      "Initializing logger\n",
      "2024-06-18 15:42:23,893 I [129] azmlinfsrv - Starting up app insights client\n",
      "WARNING:opencensus.ext.azure.common:DeprecationWarning: Explicitly using instrumentation key isdeprecated. Please use a connection string instead.\n",
      "WARNING:opencensus.ext.azure.common:DeprecationWarning: Explicitly using instrumentation key isdeprecated. Please use a connection string instead.\n",
      "WARNING:opencensus.ext.azure.common:DeprecationWarning: Explicitly using instrumentation key isdeprecated. Please use a connection string instead.\n",
      "2024-06-18 15:42:29,697 I [129] azmlinfsrv.user_script - Found driver script at /var/azureml-app/main.py and the score script at /var/azureml-app/score_new.py\n",
      "2024-06-18 15:42:29,698 I [129] azmlinfsrv.user_script - run() is decorated with @input_schema. Server will invoke it with the following arguments: data, method.\n",
      "2024-06-18 15:42:29,698 I [129] azmlinfsrv.user_script - Invoking user's init function\n",
      "ERROR:fbprophet.plot:Importing plotly failed. Interactive plots will not work.\n",
      "2024-06-18 15:42:37,166 I [129] azmlinfsrv.user_script - Users's init has completed successfully\n",
      "2024-06-18 15:42:37,167 I [129] azmlinfsrv.swagger - Swaggers are prepared for the following versions: [2, 3, 3.1].\n",
      "2024-06-18 15:42:37,167 I [129] azmlinfsrv - Scoring timeout is set to 60000\n",
      "2024-06-18 15:42:48,158 W [129] azmlinfsrv - x-ms-request-id header has been deprecated and will be removed from future versions of the server. Please use x-ms-client-request-id.\n",
      "2024-06-18 15:42:48,161 I [129] gunicorn.access - 127.0.0.1 - - [18/Jun/2024:15:42:48 +0000] \"GET / HTTP/1.0\" 200 7 \"-\" \"Go-http-client/1.1\"\n",
      "2024-06-18 15:42:48,165 W [129] azmlinfsrv - x-ms-request-id header has been deprecated and will be removed from future versions of the server. Please use x-ms-client-request-id.\n",
      "2024-06-18 15:42:48,166 I [129] azmlinfsrv - GET /swagger.json 200 0.532ms 3546\n",
      "2024-06-18 15:42:48,167 I [129] gunicorn.access - 127.0.0.1 - - [18/Jun/2024:15:42:48 +0000] \"GET /swagger.json HTTP/1.0\" 200 3546 \"-\" \"Go-http-client/1.1\"\n",
      "2024-06-18 15:42:53,241 W [129] azmlinfsrv - x-ms-request-id header has been deprecated and will be removed from future versions of the server. Please use x-ms-client-request-id.\n",
      "2024-06-18 15:42:53,242 I [129] gunicorn.access - 127.0.0.1 - - [18/Jun/2024:15:42:53 +0000] \"GET / HTTP/1.0\" 200 7 \"-\" \"Go-http-client/1.1\"\n",
      "2024-06-18 15:42:53,244 W [129] azmlinfsrv - x-ms-request-id header has been deprecated and will be removed from future versions of the server. Please use x-ms-client-request-id.\n",
      "2024-06-18 15:42:53,245 I [129] azmlinfsrv - GET /swagger.json 200 0.517ms 3546\n",
      "2024-06-18 15:42:53,246 I [129] gunicorn.access - 127.0.0.1 - - [18/Jun/2024:15:42:53 +0000] \"GET /swagger.json HTTP/1.0\" 200 3546 \"-\" \"Go-http-client/1.1\"\n",
      "2024-06-18 15:50:02,947 W [129] azmlinfsrv - x-ms-request-id header has been deprecated and will be removed from future versions of the server. Please use x-ms-client-request-id.\n",
      "2024-06-18 15:50:03,052 I [129] azmlinfsrv - POST /score 200 104.587ms 22\n",
      "2024-06-18 15:50:03,053 I [129] gunicorn.access - 127.0.0.1 - - [18/Jun/2024:15:50:03 +0000] \"POST /score HTTP/1.0\" 200 22 \"-\" \"python-requests/2.31.0\"\n",
      "\n"
     ]
    }
   ],
   "source": [
    "# getting and printing all logs\n",
    "endpoint_logs = service.get_logs()\n",
    "print(endpoint_logs)"
   ]
  },
  {
   "cell_type": "code",
   "execution_count": 22,
   "metadata": {
    "gather": {
     "logged": 1718726431909
    },
    "jupyter": {
     "outputs_hidden": false,
     "source_hidden": false
    },
    "nteract": {
     "transient": {
      "deleting": false
     }
    }
   },
   "outputs": [
    {
     "name": "stdout",
     "output_type": "stream",
     "text": [
      "Running\n",
      "2024-06-18 16:00:26+00:00 Check and wait for operation (b764fc3b-13dc-4468-b9c5-403f88329e39) to finish.\n",
      "2024-06-18 16:00:29+00:00 Deleting service entity.\n",
      "Succeeded\n"
     ]
    }
   ],
   "source": [
    "service.delete()"
   ]
  },
  {
   "cell_type": "markdown",
   "metadata": {},
   "source": [
    "**Submission Checklist**\n",
    "- I have registered the model.\n",
    "- I have deployed the model with the best accuracy as a webservice.\n",
    "- I have tested the webservice by sending a request to the model endpoint.\n",
    "- I have deleted the webservice and shutdown all the computes that I have used.\n",
    "- I have taken a screenshot showing the model endpoint as active.\n",
    "- The project includes a file containing the environment details.\n"
   ]
  },
  {
   "cell_type": "markdown",
   "metadata": {},
   "source": []
  }
 ],
 "metadata": {
  "kernel_info": {
   "name": "python38-azureml"
  },
  "kernelspec": {
   "display_name": "Python 3.8 - AzureML",
   "language": "python",
   "name": "python38-azureml"
  },
  "language_info": {
   "codemirror_mode": {
    "name": "ipython",
    "version": 3
   },
   "file_extension": ".py",
   "mimetype": "text/x-python",
   "name": "python",
   "nbconvert_exporter": "python",
   "pygments_lexer": "ipython3",
   "version": "3.8.5"
  },
  "microsoft": {
   "host": {
    "AzureML": {
     "notebookHasBeenCompleted": true
    }
   },
   "ms_spell_check": {
    "ms_spell_check_language": "en"
   }
  },
  "nteract": {
   "version": "nteract-front-end@1.0.0"
  }
 },
 "nbformat": 4,
 "nbformat_minor": 2
}
